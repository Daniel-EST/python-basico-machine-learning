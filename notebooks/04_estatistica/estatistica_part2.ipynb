{
 "cells": [
  {
   "cell_type": "markdown",
   "metadata": {},
   "source": [
    "# Estatística parte II"
   ]
  },
  {
   "cell_type": "markdown",
   "metadata": {},
   "source": [
    "# Amostra e População\n",
    "\n",
    "### Definição:\n",
    "\n",
    ">- População é o conjunto de todos os elementos ou resultados sob investigação. \n",
    ">- Amostra é qualquer subconjunto da população"
   ]
  },
  {
   "cell_type": "markdown",
   "metadata": {},
   "source": [
    "# Teste de Hipóteses\n",
    "\n",
    "### Motivação:\n",
    "\n",
    "Introduziremos a ideia de teste de hipóteses por meio de um exemplo \"não estatístico\".\n",
    "\n",
    "Suponha que ocorreu um cirme e o detetive responsável pela investigação suspeita do mordomo."
   ]
  },
  {
   "cell_type": "markdown",
   "metadata": {},
   "source": [
    ".                 | detetive (decisão) culpado | detetive (decisão) inocente\n",
    "------------------|------------------|------------------\n",
    "mordomo culpado  |     acerto       |    erro *tipo II*\n",
    "mordomo inocente  |   erro *tipo I*  |      acerto"
   ]
  },
  {
   "cell_type": "markdown",
   "metadata": {},
   "source": [
    "A primeira coisa que devemos ter clara é a afirmação (hipótese) a ser testada. Neste caso, o detetive deve testar a hipótese\n",
    ">- $H_0$: \"o mordomo é inocente\"\n",
    "\n",
    "A hipótese a ser testada é chamada de hipótese nula (geralmente, escolhemos como hipótese nula aquela que gostaríamos de rejeitar).\n",
    "\n",
    "Caso H0 seja rejeitado, consideramos que uma hipótese alternativa deve ser viável. Para este caso, temos como hipótese alternativa\n",
    ">- $H_1$: \"o mordome é culpado\"\n",
    "\n",
    "Independente das hipóteses, temos sempre duas formas de errar. Definindo assim dois tipos de erros:\n",
    "\n",
    ">- erro tipo I: rejeitar $H_0$ quando $H_0$ é verdadeiro.\n",
    ">- erro tipo II: não rejeitar $H_0$ quando $H_0$ é falso.\n",
    "\n",
    "No nosso exemplo, o **erro tipo I** seria o detetive concluir que o mordomo é *culpado* sendo na verdade *inocente* e o **erro tipo II** seria o detetive concluir que o mordomo é *inocente* quando na verdade é *culpado*."
   ]
  },
  {
   "cell_type": "markdown",
   "metadata": {},
   "source": [
    "O objetivo do **Teste de Hipóteses** é testar hipóteses sobre parâmetros populacionais ($p, μ, σ^2$), determinando se a hipótese nula ($H_0$) é provável que seja verdadeira com base nos dados de amostra. Caso tenha pouca evidência contra $H_0$, aceitamos $H_0$. Se a hipótese nula é improvável, com base nos dados, podemos rejeitar $H_0$ a favor da hipótese alternativa ($H_1$).\n",
    "\n",
    "$$\n",
    "H_0 \\text{ (hipótese nula) vs } H_1 \\text{ (hipótese alternativa)}.\n",
    "$$"
   ]
  },
  {
   "cell_type": "markdown",
   "metadata": {},
   "source": [
    "#### Nível de significância\n",
    "Definimos como Nível de significância de um teste (geralmente denotado pela letra grega α) a probabilidade do erro tipo 1, ou seja,\n",
    "\n",
    "$$\n",
    "α \\text{ = P(erro tipo 1) = P(rejeitar } H_0  | H_0 \\text{ é verdadeiro).}\n",
    "$$\n",
    "\n",
    "Em geral é escolhido um dos seguintes valores para α: 1%, 5% e 10%."
   ]
  },
  {
   "cell_type": "markdown",
   "metadata": {},
   "source": [
    "#### Valor p (p-valor)\n",
    "\n",
    "O p-valor é a probabilidade de que a estatística do teste tenha valor extremo em relação ao valor observado quando a hipótese$ H_0$ é verdadeira.\n",
    "\n",
    "Para exemplificar a definição de p-valor, considere um teste de hipótese para a média no qual o valor da estatística é dado por $Z_{\\text{obs}}$, ou seja,\n",
    "\n",
    "![](img/z_obs.png)\n",
    "\n",
    "Denotando o nível de significância como $α$, rejeitaremos $ H_0 $ se $ Z_{\\text{obs}} < Z_{\\alpha/2} $ ou se $ Z_{\\text{obs}} > Z_{\\alpha/2} $. \n",
    "\n",
    "As figuras a seguir representam, respectivamente, o p-valor nos casos em que temos um teste de hipóteses bilateral com rejeição da hipótese nula e sem rejeição da hipótese nula.\n",
    "\n",
    "![](img/pvalor_bilateral.png)\n",
    "\n",
    "Para os testes de hipóteses unilaterais, utilizaremos $ Z_{\\alpha} $ para definir a região de rejeição. Para exemplificar, abaixo temos as figuras de um teste de hipóteses unilateral para média. Na primeira figura rejeitamos a hipótese nula e na segunda não rejeitamos.\n",
    "\n",
    "![](img/pvalor_unilateral.png)"
   ]
  },
  {
   "cell_type": "markdown",
   "metadata": {},
   "source": [
    "#### Poder do teste\n",
    "\n",
    "O Poder do teste tem como objetivo determinar o quanto um teste de hipótese controla o erro tipo II (geralmente o erro tipo II é denotado pela letra grega β). Assim,\n",
    "\n",
    "$$\n",
    "\\text{ Poder = 1 - β = 1 - P(não rejeitar } H_0|H_0 \\text{ é falso.}\n",
    "$$"
   ]
  },
  {
   "cell_type": "markdown",
   "metadata": {},
   "source": [
    "Definidos o erro tipo I ($α$) e o erro tipo II ($β$) o ideal seria minimizar os 2 tipos de erros, a situação ideal é aquela em que ambas as probabilidades, $ α $ e $ β $, são próximas de zero. No entanto, podemos ver que a medida que diminuímos $ α $, $ β $ aumenta. A Figura a seguir apresenta esta relação.\n",
    "\n",
    "![](img/erros_tipo_I_e_II.png)\n",
    "\n",
    "Como não é uma tarefa trivial, pois para diminuir a chance de um tipo de erro devemos mudar a nossa regra de decisão, o que automaticamente aumenta a chance do outro tipo de erro acontecer. Assim, no decorrer de nossos estudos sobre Teste de Hipóteses iremos controlar apenas o erro tipo I ($α$)."
   ]
  },
  {
   "cell_type": "markdown",
   "metadata": {},
   "source": [
    "## Teste de Hipósteses para uma população\n",
    "\n",
    "### Teste de Hipótese para média com variância desconhecida\n",
    "\n",
    "Seja $X_1, X_2, ..., X_n$ uma amostra aleatória de uma população normal com média μ e variância $σ^2$ desconhecidas. Suponha que queremos testar as seguintes hipóteses:\n",
    "\n",
    "$$\n",
    "H_0: μ = μ_0 \\\\\n",
    "\\text{vs} \\\\\n",
    "H_1: μ < μ_0 \\text{ ou } μ > μ_0 \\text{ ou } μ \\neq μ_0, \\text{ onde } μ_0 \\in \\mathbb{R}.\n",
    "$$"
   ]
  },
  {
   "cell_type": "markdown",
   "metadata": {},
   "source": [
    "Utilizaremos o **teste t** para verificar se a média da amostra é estatisticamente diferente da média populacional conhecida ou hipotética.\n",
    "\n",
    "Vamos executar um exemplo simples."
   ]
  },
  {
   "cell_type": "code",
   "execution_count": 1,
   "metadata": {},
   "outputs": [],
   "source": [
    "import numpy as np\n",
    "import scipy.stats as stats"
   ]
  },
  {
   "cell_type": "code",
   "execution_count": 2,
   "metadata": {},
   "outputs": [
    {
     "name": "stdout",
     "output_type": "stream",
     "text": [
      "[-0.79121497  0.08947847  0.05381515 -0.32968649  1.5422642   0.13963039\n",
      " -0.37352028 -0.89603235 -1.43333685  1.92722713 -1.63139871 -0.91298097\n",
      " -1.10659339 -0.18308458 -1.16593734 -1.07732041 -0.43974573  0.52784444\n",
      "  1.43287726 -0.05712939 -0.82315935 -0.96111075  1.06893709  1.02191603\n",
      "  1.22864265 -0.00381867  0.60513259  0.99063456 -0.14819431 -1.41092188\n",
      " -0.01243306  0.47562508 -0.80941957  1.34786538 -1.49086906  1.04383123\n",
      "  2.28852501 -0.09755589 -0.75991441  0.22533626  0.24917353  2.34739349\n",
      " -0.69014608  1.05391955 -0.43888732 -0.32114709  0.90680328 -1.84448548\n",
      "  0.00677777 -0.31742036  0.68533989  0.32195231  0.38131553 -0.12152896\n",
      " -0.77984227  0.44732285 -0.00420128 -0.32949875  0.48899918  0.27313033\n",
      "  0.26384167 -1.46890323  0.16707234  1.11934793 -0.29194144 -0.12741707\n",
      " -0.0036711  -0.9531059  -0.73426037 -1.56159185 -0.21300032 -0.19296129\n",
      " -1.08025068 -0.36710428  2.03201808  1.14219467  0.72592749  0.98914468\n",
      " -1.08240134 -0.28536298 -2.39411815  0.36146865  0.0045023  -0.62416612\n",
      "  0.25207457 -2.82755921 -0.49076415 -0.5567085   0.43129243 -1.85425135\n",
      " -0.78456333  1.59787721  0.58115897  0.57259909 -0.12741052 -0.98263952\n",
      "  1.01341051 -1.59274805 -0.45281801 -0.82227282]\n"
     ]
    }
   ],
   "source": [
    "# Criando um vetor de tamanho 100 com distribuição normal\n",
    "vetor = np.random.normal(size = 100)\n",
    "\n",
    "print(vetor)"
   ]
  },
  {
   "cell_type": "markdown",
   "metadata": {},
   "source": [
    "Neste exemplo, queremos testar nossas seguintes hipóteses:\n",
    "\n",
    "$$\n",
    "H_0: μ = 0 \\text{ vs } H_1: μ \\neq 0\n",
    "$$\n",
    "\n",
    "Para realizar um teste teste t de uma amostra no python podemos usar a função ``stats.ttest_1samp()``:"
   ]
  },
  {
   "cell_type": "code",
   "execution_count": 3,
   "metadata": {},
   "outputs": [
    {
     "name": "stdout",
     "output_type": "stream",
     "text": [
      "Saída do teste:  Ttest_1sampResult(statistic=-0.9259746906484936, pvalue=0.35671091748170813)\n"
     ]
    }
   ],
   "source": [
    "print(\"Saída do teste: \", stats.ttest_1samp(vetor, popmean = 0)) # popmean é o valor que queremos testar"
   ]
  },
  {
   "cell_type": "markdown",
   "metadata": {},
   "source": [
    "### Teste de Hipóteses utilizando o R no Python\n",
    "\n",
    "Como a função ``stats.ttest_1samp()`` permite apenas realizar teste bilateral e o teste de hipóteses no python não é muito informativo, utilizaremos o R através do Python para realizar nossos testes."
   ]
  },
  {
   "cell_type": "code",
   "execution_count": 4,
   "metadata": {},
   "outputs": [],
   "source": [
    "import rpy2.robjects.packages as rpackages"
   ]
  },
  {
   "cell_type": "markdown",
   "metadata": {},
   "source": [
    "**Salvaremos toda a biblioteca \"stats\" do R**\n",
    "\n",
    "O comando ``dir()``, a seguir, é interessante para saber quais são as funções que estão presentes. Usaremos ``len(dir())`` para saber quantas funções foram importadas do pacote stats do R."
   ]
  },
  {
   "cell_type": "code",
   "execution_count": 5,
   "metadata": {},
   "outputs": [
    {
     "name": "stdout",
     "output_type": "stream",
     "text": [
      "1144\n"
     ]
    }
   ],
   "source": [
    "stats = rpackages.importr('stats')\n",
    "\n",
    "print(len(dir(stats)))"
   ]
  },
  {
   "cell_type": "markdown",
   "metadata": {},
   "source": [
    "Vamos executar um exemplo simples similar ao anterior para testar a funcionalidade do pacote.\n",
    "\n",
    "Nossas hipóteses são:\n",
    "\n",
    "$$\n",
    "H_0: μ = 0 \\text{ vs } H_1: μ \\neq 0\n",
    "$$"
   ]
  },
  {
   "cell_type": "code",
   "execution_count": 6,
   "metadata": {
    "scrolled": false
   },
   "outputs": [
    {
     "name": "stdout",
     "output_type": "stream",
     "text": [
      "Saída do teste:  \n",
      "\r\n",
      "\tOne Sample t-test\n",
      "\r\n",
      "\n",
      "\r\n",
      "data:  c(0.205392674963188, 1.35672692270478, -1.30388931931883, 0.577280991617229, 0.20354248682124, -0.0609202119466411, -0.437124961826704, 1.45944359279997, -1.57043325976464, -0.423852605169066, -1.84187831210726, 1.6651505996821, 0.669915009628828, 0.0598801537419362, -1.79585539653983, -0.494386209428961, -0.242268076390275, -1.02230731967058, -0.947967356620408, -0.703217383770239, -0.326307405996917, -0.793082371928891, 1.34916369176888, -0.47616230279798, -0.926780505305102, 1.40516675727581, 0.584943490413757, 1.15080383996695, 0.928616966742981, 1.04671952035684, -0.339803616941365, 0.514851595002963, 1.55921986433988, 0.954553106306674, 1.67895322668485, -0.55899554457938, -0.814740286770277, 0.160252179904525, -1.32559343823553, 1.71314571191202, 0.715116979450397, -1.01182933675178, 0.877687672703985, 1.39026981723086, -1.38490339595095, -0.750509534460878, 0.425635508118496, -1.53857716306572, -0.00339859249337606, 0.736142616880052, 0.301251297039171, -0.00308872703488976, -0.959523411134252, -0.709978138763729, -0.174633468627756, -0.222705716593347, -0.337947514502327, 0.373547468974443, -0.78115107282181, -1.56110587738676, 0.0474894392842068, -0.420363611191834, -0.56732482453407, -0.39861427770477, 0.16258671212563, -2.88861887826417, 2.08243636231826, -1.14441681098787, -2.15708386274107, -1.63340029854631, 0.918625508676293, -0.940745333387874, 0.438055454816919, -0.550265820867252, -1.3317246306328, 0.825524700653064, -0.669615665764579, 1.36612816621326, -0.911476858216925, -1.623355438149, 1.21189521025155, 2.38534333920595, -1.32124960319196, 1.9115736238036, 0.886204870929578, -0.898183455312366, -0.638965635625361, 0.338872714224072, 1.44051501525033, 0.46503462512846, 1.08351109812695, -1.34790409815544, 1.18067133168539, 1.10633164361155, -0.836855488771693, 0.124851562570479, 0.0212906522496581, 1.45809053618191, -0.482764704324351, -0.473056280428871)\n",
      "\r\n",
      "t = -0.32926, df = 99, p-value = 0.7427\n",
      "\r\n",
      "alternative hypothesis: true mean is not equal to 0\n",
      "\r\n",
      "95 percent confidence interval:\n",
      "\r\n",
      " -0.2503138  0.1790638\n",
      "\r\n",
      "sample estimates:\n",
      "\r\n",
      "  mean of x \n",
      "\r\n",
      "-0.03562497 \n",
      "\r\n",
      "\n",
      "\n"
     ]
    }
   ],
   "source": [
    "vetor = stats.rnorm(100)\n",
    "\n",
    "print(\"Saída do teste: \", stats.t_test(vetor, mu=0)) # mu é o valor que queremos testar"
   ]
  },
  {
   "cell_type": "markdown",
   "metadata": {},
   "source": [
    "Se não indicar o parâmetro ``alt`` (hipótese alternativa), o R faz um teste bilateral. Para realizar um teste unilateral a direita devemos usar o parâmetro ``alt`` = \"greater\" e para um teste unilateral a esquerda deve-se usar alternative = \"less\"."
   ]
  },
  {
   "cell_type": "code",
   "execution_count": 7,
   "metadata": {
    "scrolled": false
   },
   "outputs": [
    {
     "name": "stdout",
     "output_type": "stream",
     "text": [
      "Saída do teste:  \n",
      "\r\n",
      "\tOne Sample t-test\n",
      "\r\n",
      "\n",
      "\r\n",
      "data:  c(0.205392674963188, 1.35672692270478, -1.30388931931883, 0.577280991617229, 0.20354248682124, -0.0609202119466411, -0.437124961826704, 1.45944359279997, -1.57043325976464, -0.423852605169066, -1.84187831210726, 1.6651505996821, 0.669915009628828, 0.0598801537419362, -1.79585539653983, -0.494386209428961, -0.242268076390275, -1.02230731967058, -0.947967356620408, -0.703217383770239, -0.326307405996917, -0.793082371928891, 1.34916369176888, -0.47616230279798, -0.926780505305102, 1.40516675727581, 0.584943490413757, 1.15080383996695, 0.928616966742981, 1.04671952035684, -0.339803616941365, 0.514851595002963, 1.55921986433988, 0.954553106306674, 1.67895322668485, -0.55899554457938, -0.814740286770277, 0.160252179904525, -1.32559343823553, 1.71314571191202, 0.715116979450397, -1.01182933675178, 0.877687672703985, 1.39026981723086, -1.38490339595095, -0.750509534460878, 0.425635508118496, -1.53857716306572, -0.00339859249337606, 0.736142616880052, 0.301251297039171, -0.00308872703488976, -0.959523411134252, -0.709978138763729, -0.174633468627756, -0.222705716593347, -0.337947514502327, 0.373547468974443, -0.78115107282181, -1.56110587738676, 0.0474894392842068, -0.420363611191834, -0.56732482453407, -0.39861427770477, 0.16258671212563, -2.88861887826417, 2.08243636231826, -1.14441681098787, -2.15708386274107, -1.63340029854631, 0.918625508676293, -0.940745333387874, 0.438055454816919, -0.550265820867252, -1.3317246306328, 0.825524700653064, -0.669615665764579, 1.36612816621326, -0.911476858216925, -1.623355438149, 1.21189521025155, 2.38534333920595, -1.32124960319196, 1.9115736238036, 0.886204870929578, -0.898183455312366, -0.638965635625361, 0.338872714224072, 1.44051501525033, 0.46503462512846, 1.08351109812695, -1.34790409815544, 1.18067133168539, 1.10633164361155, -0.836855488771693, 0.124851562570479, 0.0212906522496581, 1.45809053618191, -0.482764704324351, -0.473056280428871)\n",
      "\r\n",
      "t = -0.32926, df = 99, p-value = 0.6287\n",
      "\r\n",
      "alternative hypothesis: true mean is greater than 0\n",
      "\r\n",
      "95 percent confidence interval:\n",
      "\r\n",
      " -0.2152764        Inf\n",
      "\r\n",
      "sample estimates:\n",
      "\r\n",
      "  mean of x \n",
      "\r\n",
      "-0.03562497 \n",
      "\r\n",
      "\n",
      "\n"
     ]
    }
   ],
   "source": [
    "teste_t = stats.t_test(vetor, mu=0, alt = \"greater\")\n",
    "\n",
    "print(\"Saída do teste: \", teste_t)"
   ]
  },
  {
   "cell_type": "markdown",
   "metadata": {},
   "source": [
    "A variável *teste_t* pode ser tratada como uma lista do python. Assim, por exemplo, para obter apenas o p-valor do teste, bastar buscar o elemento na posição 2 do objeto."
   ]
  },
  {
   "cell_type": "code",
   "execution_count": 8,
   "metadata": {
    "scrolled": true
   },
   "outputs": [
    {
     "name": "stdout",
     "output_type": "stream",
     "text": [
      "O p-valor obtido foi:  [1] 0.6286713\n",
      "\n"
     ]
    }
   ],
   "source": [
    "print(\"O p-valor obtido foi: \",teste_t[2])"
   ]
  },
  {
   "cell_type": "markdown",
   "metadata": {},
   "source": [
    "### Teste de hipótese para proporção populacional\n",
    "\n",
    "Seja $X_1, X_2,..., X_n$ uma amostra aleatória tal que\n",
    "\n",
    "$$\n",
    "X_i = \\left\\{ \\begin{array}{ll} 1 & \\text{,  se o i-ésimo elemento possui a característica de estudo } \\\\ 0 & \\hbox{,  caso contrário.} \\end{array} \\right.\n",
    "$$\n",
    "\n",
    "e seja $p \\in$ (0, 1) a proporção populacional da característica. Suponha que estamos interessados em testar as hipóteses\n",
    "\n",
    "$$\n",
    "H_0: p = p_0 \\\\\n",
    "\\text{vs} \\\\\n",
    "H_1: p < p_0 \\text{ ou } p > p_0 \\text{ ou } p \\neq p_0, \\text{ onde } p_0 \\in \\text{ (0, 1)}.\n",
    "$$"
   ]
  },
  {
   "cell_type": "markdown",
   "metadata": {},
   "source": [
    "Para realizar o teste de hipótese aproximado basta utilizar a função ``prop.test()``.\n",
    "\n",
    "$$\n",
    "stats.prop\\_test(x, n, p, alt)\n",
    "$$\n",
    "\n",
    "Argumentos:\n",
    "- x: número de sucessos;\n",
    "- n: tamanho da amostra;\n",
    "- p: p0 da hipótese nula;\n",
    "- alt: hipótese alternativa."
   ]
  },
  {
   "cell_type": "markdown",
   "metadata": {},
   "source": [
    "Considerando o banco de dados ``basesaude.csv``, vamos verificar se a proporção de indivíduos com 60 kg ou menos\n",
    "é igual a 20%.\n",
    "\n",
    "Nossas hipóteses são:\n",
    "\n",
    "$$\n",
    "H_0: p = 20\\% \\text{ vs } H_1: p \\neq 20\\%\n",
    "$$"
   ]
  },
  {
   "cell_type": "code",
   "execution_count": 9,
   "metadata": {},
   "outputs": [
    {
     "name": "stdout",
     "output_type": "stream",
     "text": [
      "   Codigo   Datacol  Sexo  Idade  Peso  Estatura  HIV  Escol  DST  Tipo\n",
      "0    AB01  14/10/15     1   20.0  61.2      1.60    1    3.0    1   2.0\n",
      "1    AB02  09/02/16     0   30.0  60.0      1.55    0    5.0    0   NaN\n",
      "2    AB03  01/03/10     0   50.0  80.0      1.83    1    2.0    1   3.0\n",
      "3    AB04  04/05/13     0   43.0  83.0      1.90    1    NaN    1   2.0\n",
      "4    AB05  20/05/14     0   22.0  75.3      1.75    0    2.0    1   3.0\n",
      "5    AB06  30/01/11     1   15.0  70.2      1.70    1    6.0    0   NaN\n",
      "6    AB07  05/08/15     1   22.0  60.0      1.65    1    5.0    1   3.0\n",
      "7    AB08  08/12/13     1   25.0  62.0      1.55    0    1.0    0   2.0\n",
      "8    AB09  03/11/10     1   32.0  61.0      1.62    1    4.0    1   1.0\n",
      "9    AB10  10/10/10     1   33.0  55.0      1.55    1    5.0    1   NaN\n",
      "10   AB11  05/08/15     0   39.0   NaN       NaN    0    5.0    1   NaN\n",
      "11   AB12  09/08/14     0   60.0  78.0      1.77    0    4.0    1   2.0\n",
      "12   AB13  07/07/15     0    NaN  70.0      1.65    0    1.0    0   NaN\n",
      "13   AB14  03/01/12     0   29.0  72.0      1.70    1    6.0    1   1.0\n",
      "14   AB15  01/01/14     1   18.0  65.0      1.66    1    0.0    0   NaN\n",
      "15   AB16  14/10/15     1   20.0  61.2      1.60    1    3.0    1   2.0\n",
      "16   AB17  09/02/16     0   30.0  60.0      1.55    0    5.0    0   NaN\n",
      "17   AB18  01/03/10     0   50.0  80.0      1.83    1    2.0    1   3.0\n",
      "18   AB19  04/05/13     0   43.0  83.0      1.90    1    NaN    1   2.0\n",
      "19   AB20  20/05/14     0   22.0  75.8      1.75    0    2.0    1   3.0\n",
      "20   AB21  30/01/11     1   15.0  70.2      1.70    1    6.0    0   NaN\n",
      "21   AB22  05/08/15     1   22.0  60.0      1.65    1    5.0    1   3.0\n",
      "22   AB23  08/12/13     1   25.0  62.0      1.55    1    1.0    1   NaN\n",
      "23   AB24  03/11/10     1   32.0  61.3      1.62    1    4.0    1   1.0\n",
      "24   AB25  30/01/11     1   15.0  70.2      1.70    1    6.0    0   NaN\n",
      "25   AB26  05/08/15     1    NaN  60.0      1.65    1    5.0    1   3.0\n",
      "26   AB27  08/12/13     1   25.0  62.0      1.55    1    1.0    1   2.0\n",
      "27   AB28  03/11/10     1   32.0  61.7      1.62    1    4.0    1   1.0\n",
      "28   AB29  10/10/10     1   33.0  55.0      1.55    1    NaN    0   NaN\n",
      "29   AB30  05/08/15     0   39.0  50.0      1.50    0    5.0    0   NaN\n"
     ]
    }
   ],
   "source": [
    "import pandas as pd\n",
    "\n",
    "df = pd.read_csv(\"data/basesaude.csv\")\n",
    "\n",
    "print(df)"
   ]
  },
  {
   "cell_type": "code",
   "execution_count": 10,
   "metadata": {},
   "outputs": [
    {
     "name": "stdout",
     "output_type": "stream",
     "text": [
      "x = 8 n = 29\n"
     ]
    }
   ],
   "source": [
    "x = len(df[df[\"Peso\"]<=60])       # Número de indivíduos que possuem 60kg ou menos\n",
    "n = len(df.dropna(subset=[\"Peso\"])) # Tamanho da amostra\n",
    "\n",
    "print(\"x =\", x, \"n =\", n)"
   ]
  },
  {
   "cell_type": "code",
   "execution_count": 11,
   "metadata": {},
   "outputs": [
    {
     "name": "stdout",
     "output_type": "stream",
     "text": [
      "Saída do teste:  \n",
      "\r\n",
      "\t1-sample proportions test with continuity correction\n",
      "\r\n",
      "\n",
      "\r\n",
      "data:  8L out of 29L, null probability 0.2\n",
      "\r\n",
      "X-squared = 0.62284, df = 1, p-value = 0.43\n",
      "\r\n",
      "alternative hypothesis: true p is not equal to 0.2\n",
      "\r\n",
      "95 percent confidence interval:\n",
      "\r\n",
      " 0.1344590 0.4748512\n",
      "\r\n",
      "sample estimates:\n",
      "\r\n",
      "        p \n",
      "\r\n",
      "0.2758621 \n",
      "\r\n",
      "\n",
      "\n"
     ]
    }
   ],
   "source": [
    "teste_prop = stats.prop_test(x, n , p=0.2, alt=\"two.sided\")\n",
    "\n",
    "print(\"Saída do teste: \", teste_prop)"
   ]
  },
  {
   "cell_type": "markdown",
   "metadata": {},
   "source": [
    "### Teste de hipótese para comparação de duas proporções\n",
    "\n",
    "Sejam $X_1, X_2,..., X_{n1}$ e $Y_1, Y_2,..., Y_{n2}$ duas amostra aleatórias independentes de duas populações com distribuição bernoulli com parâmetros $p_1$ e $p_2$, respectivamente.\n",
    "\n",
    "Suponha que estamos interessados em verificar as seguintes hipóteses\n",
    "\n",
    "$$\n",
    "H_0: p_1 = p_2 \\\\\n",
    "\\text{vs} \\\\\n",
    "H_1: p_1 < p_2 \\text{ ou } p_1 > p_2 \\text{ ou } p_1 \\neq p_2\n",
    "$$"
   ]
  },
  {
   "cell_type": "markdown",
   "metadata": {},
   "source": [
    "Para realizar o teste para comparação de proporções no R, utilize o comando ``prop.test()``.\n",
    "\n",
    "$$\n",
    "stats.prop\\_test(x, n, alt)\n",
    "$$\n",
    "\n",
    "Argumentos:\n",
    "- x: vetor com os números de sucessos para cada amostra;\n",
    "- n: vetor com os tamanhos das amostras;\n",
    "- alt: tipo da hipótese alternativa."
   ]
  },
  {
   "cell_type": "markdown",
   "metadata": {},
   "source": [
    "Considerando o banco de dados ``basesaude.csv``, suponha que estamos interessados em verificar se a proporção de pacientes com HIV é igual a proporção de pacientes com DST.\n",
    "\n",
    "Nossas hipóteses são:\n",
    "\n",
    "$$\n",
    "H_0: p_{HIV} = p_{DST} \\text{ vs } H_1: p_{HIV} \\neq p_{DST}\n",
    "$$"
   ]
  },
  {
   "cell_type": "code",
   "execution_count": 12,
   "metadata": {},
   "outputs": [
    {
     "name": "stdout",
     "output_type": "stream",
     "text": [
      "   Codigo   Datacol  Sexo  Idade  Peso  Estatura  HIV  Escol  DST  Tipo\n",
      "0    AB01  14/10/15     1   20.0  61.2      1.60    1    3.0    1   2.0\n",
      "1    AB02  09/02/16     0   30.0  60.0      1.55    0    5.0    0   NaN\n",
      "2    AB03  01/03/10     0   50.0  80.0      1.83    1    2.0    1   3.0\n",
      "3    AB04  04/05/13     0   43.0  83.0      1.90    1    NaN    1   2.0\n",
      "4    AB05  20/05/14     0   22.0  75.3      1.75    0    2.0    1   3.0\n",
      "5    AB06  30/01/11     1   15.0  70.2      1.70    1    6.0    0   NaN\n",
      "6    AB07  05/08/15     1   22.0  60.0      1.65    1    5.0    1   3.0\n",
      "7    AB08  08/12/13     1   25.0  62.0      1.55    0    1.0    0   2.0\n",
      "8    AB09  03/11/10     1   32.0  61.0      1.62    1    4.0    1   1.0\n",
      "9    AB10  10/10/10     1   33.0  55.0      1.55    1    5.0    1   NaN\n",
      "10   AB11  05/08/15     0   39.0   NaN       NaN    0    5.0    1   NaN\n",
      "11   AB12  09/08/14     0   60.0  78.0      1.77    0    4.0    1   2.0\n",
      "12   AB13  07/07/15     0    NaN  70.0      1.65    0    1.0    0   NaN\n",
      "13   AB14  03/01/12     0   29.0  72.0      1.70    1    6.0    1   1.0\n",
      "14   AB15  01/01/14     1   18.0  65.0      1.66    1    0.0    0   NaN\n",
      "15   AB16  14/10/15     1   20.0  61.2      1.60    1    3.0    1   2.0\n",
      "16   AB17  09/02/16     0   30.0  60.0      1.55    0    5.0    0   NaN\n",
      "17   AB18  01/03/10     0   50.0  80.0      1.83    1    2.0    1   3.0\n",
      "18   AB19  04/05/13     0   43.0  83.0      1.90    1    NaN    1   2.0\n",
      "19   AB20  20/05/14     0   22.0  75.8      1.75    0    2.0    1   3.0\n",
      "20   AB21  30/01/11     1   15.0  70.2      1.70    1    6.0    0   NaN\n",
      "21   AB22  05/08/15     1   22.0  60.0      1.65    1    5.0    1   3.0\n",
      "22   AB23  08/12/13     1   25.0  62.0      1.55    1    1.0    1   NaN\n",
      "23   AB24  03/11/10     1   32.0  61.3      1.62    1    4.0    1   1.0\n",
      "24   AB25  30/01/11     1   15.0  70.2      1.70    1    6.0    0   NaN\n",
      "25   AB26  05/08/15     1    NaN  60.0      1.65    1    5.0    1   3.0\n",
      "26   AB27  08/12/13     1   25.0  62.0      1.55    1    1.0    1   2.0\n",
      "27   AB28  03/11/10     1   32.0  61.7      1.62    1    4.0    1   1.0\n",
      "28   AB29  10/10/10     1   33.0  55.0      1.55    1    NaN    0   NaN\n",
      "29   AB30  05/08/15     0   39.0  50.0      1.50    0    5.0    0   NaN\n"
     ]
    }
   ],
   "source": [
    "import pandas as pd\n",
    "\n",
    "df = pd.read_csv(\"data/basesaude.csv\")\n",
    "\n",
    "print(df)"
   ]
  },
  {
   "cell_type": "code",
   "execution_count": 13,
   "metadata": {},
   "outputs": [],
   "source": [
    "x = [df['HIV'].sum(skipna = True), df['DST'].sum(skipna = True)]\n",
    "\n",
    "n = [len(df['HIV']), len(df['DST'])]"
   ]
  },
  {
   "cell_type": "markdown",
   "metadata": {},
   "source": [
    "Importaremos o pacote ``rpy2`` para converter ``x`` e ``y`` em vetores ``R`` para poder utilizar a função ``prop_test``."
   ]
  },
  {
   "cell_type": "code",
   "execution_count": 14,
   "metadata": {
    "scrolled": false
   },
   "outputs": [
    {
     "name": "stdout",
     "output_type": "stream",
     "text": [
      "Saída do teste:  \n",
      "\r\n",
      "\t2-sample test for equality of proportions with continuity correction\n",
      "\r\n",
      "\n",
      "\r\n",
      "data:  21:20 out of c(30L, 30L)\n",
      "\r\n",
      "X-squared = 3.7975e-33, df = 1, p-value = 1\n",
      "\r\n",
      "alternative hypothesis: two.sided\n",
      "\r\n",
      "95 percent confidence interval:\n",
      "\r\n",
      " -0.2352562  0.3019228\n",
      "\r\n",
      "sample estimates:\n",
      "\r\n",
      "   prop 1    prop 2 \n",
      "\r\n",
      "0.7000000 0.6666667 \n",
      "\r\n",
      "\n",
      "\n"
     ]
    }
   ],
   "source": [
    "import rpy2\n",
    "\n",
    "x = rpy2.robjects.vectors.IntVector(x)\n",
    "n = rpy2.robjects.vectors.IntVector(n)\n",
    "\n",
    "teste_prop = stats.prop_test(x,n,alt=\"tw\")\n",
    "\n",
    "print(\"Saída do teste: \", teste_prop)"
   ]
  },
  {
   "cell_type": "markdown",
   "metadata": {},
   "source": [
    "### Teste para comparação das Variâncias de Duas Populações Normais\n",
    "\n",
    "Sejam $X_1, X_2,..., X_{n1}$ e $Y_1, Y_2, ..., Y_{n2}$ duas amostras aleatória independentes de duas populações normais.\n",
    "\n",
    "Suponha que estamos interessados nas seguintes hipóteses\n",
    "\n",
    "$$\n",
    "H0 : \\sigma_1^2 = \\sigma_2^2 = \\sigma^2 \\\\\n",
    "\\text{vs} \\\\\n",
    "H_1: \\sigma_1^2 \\neq \\sigma_2^2\n",
    "$$"
   ]
  },
  {
   "cell_type": "markdown",
   "metadata": {},
   "source": [
    "### Teste para comparação de duas médias populacionais\n",
    "\n",
    "Sejam $X_1, X_2,..., X_{n1}$ e $Y_1, Y_2, ..., Y_{n2}$ duas amostras aleatória independentes de duas populações normais.\n",
    "\n",
    "Suponha que estamos interessados nas seguintes hipóteses\n",
    "\n",
    "$$\n",
    "H0 : μ_X = μ_Y \\\\\n",
    "\\text{vs} \\\\\n",
    "H_1: μ_X < μ_Y \\text{ ou } μ_X > μ_Y \\text{ ou } μ_X \\neq μ_Y\n",
    "$$"
   ]
  },
  {
   "cell_type": "markdown",
   "metadata": {},
   "source": [
    "Para realizar o teste para comparação de duas médias basta utilizar o comando ``t.test()``.\n",
    "\n",
    "$$\n",
    "stats.t\\_test(x, y, alt)\n",
    "$$\n",
    "\n",
    "Argumentos:\n",
    "- x, y: amostra 1 e amostra 2, respectivamente;\n",
    "- alt: tipo de hipótese alternativa;"
   ]
  },
  {
   "cell_type": "markdown",
   "metadata": {},
   "source": [
    "Vamos executar um exemplo simples, criando 2 vetores supondo informações de pesos de duas populações entre 50kg e 150kg e testando se a média são iguais ou diferentes.\n",
    "\n",
    "Nossas hipóteses são:\n",
    "\n",
    "$$\n",
    "H_0: μ_X = μ_Y \\text{ vs } H_1: μ_X \\neq μ_Y\n",
    "$$"
   ]
  },
  {
   "cell_type": "code",
   "execution_count": 15,
   "metadata": {},
   "outputs": [
    {
     "name": "stdout",
     "output_type": "stream",
     "text": [
      " [1] 145.44613 109.43849 135.79751 133.53702  53.39387  74.54471 107.46020\n",
      "\r\n",
      " [8] 115.73116 108.94496  51.88179  56.47705  74.01589  51.59624 130.05752\n",
      "\r\n",
      "[15] 107.42389  88.54280 145.98832  83.06837  77.87476  53.11707\n",
      "\n"
     ]
    }
   ],
   "source": [
    "idades1 = stats.runif(20, 50, 150)\n",
    "print(idades1)"
   ]
  },
  {
   "cell_type": "code",
   "execution_count": 16,
   "metadata": {},
   "outputs": [
    {
     "name": "stdout",
     "output_type": "stream",
     "text": [
      " [1] 101.63593 144.46325 133.92320 142.85127  68.70773 121.40917  78.50213\n",
      "\r\n",
      " [8]  71.72743  70.51294 135.92549 107.90040  80.25382  56.50425 147.15310\n",
      "\r\n",
      "[15]  79.53017 141.48487  60.69100 100.84005 120.08266 104.42386\n",
      "\n"
     ]
    }
   ],
   "source": [
    "idades2 = stats.runif(20, 50, 150)\n",
    "print(idades2)"
   ]
  },
  {
   "cell_type": "code",
   "execution_count": 17,
   "metadata": {},
   "outputs": [
    {
     "name": "stdout",
     "output_type": "stream",
     "text": [
      "Saída do teste:  \n",
      "\r\n",
      "\tWelch Two Sample t-test\n",
      "\r\n",
      "\n",
      "\r\n",
      "data:  c(145.446132798679, 109.438490285538, 135.797508666292, 133.537024026737,  and c(101.635926961899, 144.463253230788, 133.923196326941, 142.85127283074, 53.3938725246117, 74.5447070570663, 107.460195850581, 115.731160715222,  and 68.7077320879325, 121.409173239954, 78.5021298797801, 71.7274339171126, 108.944958844222, 51.8817851087078, 56.4770517172292, 74.0158863598481,  and 70.5129370326176, 135.925491293892, 107.900404999964, 80.2538190037012, 51.5962369507179, 130.057522165589, 107.423892943189, 88.5428026551381,  and 56.5042516915128, 147.153103398159, 79.5301733072847, 141.484865662642, 145.988318091258, 83.0683705862612, 77.8747629607096, 53.1170660164207 and 60.6910003582016, 100.840051402338, 120.08266071789, 104.42385522183) and )\n",
      "\r\n",
      "t = -0.81053, df = 37.851, p-value = 0.4227\n",
      "\r\n",
      "alternative hypothesis: true difference in means is not equal to 0\n",
      "\r\n",
      "95 percent confidence interval:\n",
      "\r\n",
      " -28.71535  12.29685\n",
      "\r\n",
      "sample estimates:\n",
      "\r\n",
      "mean of x mean of y \n",
      "\r\n",
      " 95.21689 103.42614 \n",
      "\r\n",
      "\n",
      "\n"
     ]
    }
   ],
   "source": [
    "teste_t = stats.t_test(idades1, idades2, alt=\"tw\")\n",
    "\n",
    "print(\"Saída do teste: \", teste_t)"
   ]
  },
  {
   "cell_type": "markdown",
   "metadata": {},
   "source": [
    "### Teste para comparação de duas médias - Amostras Pareadas\n",
    "\n",
    "Agora suponha que estamos interessados em comparar as médias de duas populações dependentes, ou seja, duas populações que dependem uma da outra de alguma maneira.\n",
    "\n",
    "**Exemplo:** Uma pesquisa foi realizada para demonstrar que *Finasteride* inibe a perda de cabelo. Para isto, utilizaram dois grupos de tratamento: um recebeu o tratamento com *Finasteride* e o outro grupo *placebo*. A diferença desta pesquisa está na utilização de gêmeos idênticos para formação das duas amostras (tratamento e controle). Note que as amostras são dependentes, também conhecidas como amostra **pareadas**.\n",
    "\n",
    "Se duas amostras $X_1, X_2,..., X_n$ e $Y_1, Y_2, ..., Y_n$ são pareadas, tal que $X_1 − Y_1, ..., X_n − Y_n$ sejam normalmente distribuídas.\n",
    "\n",
    "E suponha que queremos testar as hipóteses\n",
    "\n",
    "$$\n",
    "H0 : μ_X = μ_Y \\\\\n",
    "\\text{vs} \\\\\n",
    "H_1: μ_X < μ_Y \\text{ ou } μ_X > μ_Y \\text{ ou } μ_X \\neq μ_Y\n",
    "$$"
   ]
  },
  {
   "cell_type": "markdown",
   "metadata": {},
   "source": [
    "Para realizar o teste para comparação de duas médias em amostras pareadas basta utilizar o comando ``t.test()`` com o argumento ``paired``.\n",
    "\n",
    "$$\n",
    "stats.t\\_test(x, y, alt, paired)\n",
    "$$\n",
    "\n",
    "Argumentos:\n",
    "- x, y: amostra 1 e amostra 2, respectivamente;\n",
    "- alt: tipo de hipótese alternativa;\n",
    "- paired: TRUE se as amostras são pareadas (dependentes)."
   ]
  },
  {
   "cell_type": "markdown",
   "metadata": {},
   "source": [
    "## Referências"
   ]
  },
  {
   "cell_type": "markdown",
   "metadata": {},
   "source": [
    "CASELLA, George; BERGER, Roger. **Statistical Inference**. Duxbury, 2. ed., 2001.\n",
    "\n",
    "[numpy.random.normal](https://docs.scipy.org/doc/numpy-1.13.0/reference/generated/numpy.random.normal.html)\n",
    "\n",
    "[scipy.stats.ttest_1samp](https://docs.scipy.org/doc/scipy/reference/generated/scipy.stats.ttest_1samp.html)\n",
    "\n",
    "[rpy2](https://rpy2.readthedocs.io/en/version_2.8.x/)\n",
    "\n",
    "[Erros cometidos nos testes de hipóteses](http://www.portalaction.com.br/inferencia/511-erros-cometidos-nos-testes-de-hipoteses)\n",
    "\n",
    "[Cálculo e interpretação do p-valor](http://www.portalaction.com.br/inferencia/512-calculo-e-interpretacao-do-p-valor)\n"
   ]
  }
 ],
 "metadata": {
  "kernelspec": {
   "display_name": "Python 3",
   "language": "python",
   "name": "python3"
  },
  "language_info": {
   "codemirror_mode": {
    "name": "ipython",
    "version": 3
   },
   "file_extension": ".py",
   "mimetype": "text/x-python",
   "name": "python",
   "nbconvert_exporter": "python",
   "pygments_lexer": "ipython3",
   "version": "3.7.1"
  }
 },
 "nbformat": 4,
 "nbformat_minor": 2
}
