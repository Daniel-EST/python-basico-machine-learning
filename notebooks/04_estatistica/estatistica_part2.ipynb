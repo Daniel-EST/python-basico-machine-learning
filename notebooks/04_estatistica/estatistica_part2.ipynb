{
 "cells": [
  {
   "cell_type": "markdown",
   "metadata": {},
   "source": [
    "# Teste de Hipóteses e Teste t"
   ]
  },
  {
   "cell_type": "markdown",
   "metadata": {},
   "source": [
    "## Amostra e População\n",
    "\n",
    "### Definição:\n",
    "\n",
    ">- População é o conjunto de todos os elementos ou resultados sob investigação. \n",
    ">- Amostra é qualquer subconjunto da população"
   ]
  },
  {
   "cell_type": "markdown",
   "metadata": {},
   "source": [
    "## Teste de Hipóteses\n",
    "\n",
    "### Motivação:\n",
    "\n",
    "Introduziremos a ideia de teste de hipóteses por meio de um exemplo \"não estatístico\".\n",
    "\n",
    "Suponha que ocorreu um cirme e o detetive responsável pela investigação suspeita do mordomo."
   ]
  },
  {
   "cell_type": "markdown",
   "metadata": {},
   "source": [
    ".                 | detetive (decisão) culpado | detetive (decisão) inocente\n",
    "------------------|------------------|------------------\n",
    "mordomo culpado  |     acerto       |    erro *tipo II*\n",
    "mordomo inocente  |   erro *tipo I*  |      acerto"
   ]
  },
  {
   "cell_type": "markdown",
   "metadata": {},
   "source": [
    "A primeira coisa que devemos ter clara é a afirmação (hipótese) a ser testada. Neste caso, o detetive deve testar a hipótese\n",
    ">- H0: \"o mordomo é inocente\"\n",
    "\n",
    "A hipótese a ser testada é chamada de hipótese nula (geralmente, escolhemos como hipótese nula aquela que gostaríamos de rejeitar).\n",
    "\n",
    "Caso H0 seja rejeitado, consideramos que uma hipótese alternativa deve ser viável. Para este caso, temos como hipótese alternativa\n",
    ">- H1: \"o mordome é culpado\"\n",
    "\n",
    "Independente das hipóteses, temos sempre duas formas de errar. Definindo assim dois tipos de erros:\n",
    "\n",
    ">- erro tipo I: rejeitar H0 quando H0 é verdadiro\n",
    ">- erro tipo II: não rejeitar H0 quando H0 é falso\n",
    "\n",
    "No nosso exemplo, o **erro tipo I** seria o detetive concluir que o mordomo é *culpado* sendo na verdade *inocente* e o **erro tipo II** seria o detetive concluir que o mordomo é *inocente* quando na verdade é *culpado*."
   ]
  },
  {
   "cell_type": "markdown",
   "metadata": {},
   "source": [
    "O objetivo do teste de hipóteses é determinar se a hipótese nula (H0) é provável que seja verdadeira, com base nos dados de amostra. Caso tenha pouca evidência contra H0, aceitamos H0. Se a hipótese nula é improvável, com base nos dados, podemos rejeitar H0 a favor da hipótese alternativa (H1).\n",
    "\n",
    "Tendo a hipótese nula e hipótese alternativa bem definida, escolheremos um nível de significância (geralmente denotado pela letra grega α). O nível de significância é um limite de probabilidade que determina quando H0 deve ser rejeitado. Após realizar um teste, se a probabilidade de obter um resultado tão extremo quanto o observado for menor do que o nível de significância, rejeitaremos H0 em favor de H1. Essa probabilidade de ver um resultado como extremo ou mais extremo que o observado é conhecida como valor p (p-valor)."
   ]
  },
  {
   "cell_type": "markdown",
   "metadata": {},
   "source": [
    "### Teste t de uma amostra\n",
    "\n",
    "O teste t de uma amostra, que é um teste paramétrico, verifica se a média da amostra é estatisticamente diferente da média populacional conhecida ou hipotética."
   ]
  },
  {
   "cell_type": "markdown",
   "metadata": {},
   "source": [
    "Vamos executar um exemplo simples."
   ]
  },
  {
   "cell_type": "code",
   "execution_count": null,
   "metadata": {},
   "outputs": [],
   "source": [
    "import numpy as np\n",
    "import scipy.stats as stats"
   ]
  },
  {
   "cell_type": "code",
   "execution_count": null,
   "metadata": {},
   "outputs": [],
   "source": [
    "vetor = np.random.normal(size = 100)\n",
    "\n",
    "print(vetor)"
   ]
  },
  {
   "cell_type": "markdown",
   "metadata": {},
   "source": [
    "Para realizar um teste teste t de uma amostra podemos usar a função *stats.ttest_1samp()*:"
   ]
  },
  {
   "cell_type": "code",
   "execution_count": null,
   "metadata": {},
   "outputs": [],
   "source": [
    "mu_verdadeiro = 0\n",
    "\n",
    "print(\"Saída do teste: \", stats.ttest_1samp(vetor, mu_verdadeiro))"
   ]
  },
  {
   "cell_type": "markdown",
   "metadata": {},
   "source": [
    "### Teste de Hipóteses utilizando o R no Python\n",
    "\n",
    "O teste de hipóteses no python não é muito informativo, devido a isso, utilizaremos o R através do Python para realizar os testes."
   ]
  },
  {
   "cell_type": "code",
   "execution_count": null,
   "metadata": {},
   "outputs": [],
   "source": [
    "import rpy2.robjects.packages as rpackages"
   ]
  },
  {
   "cell_type": "markdown",
   "metadata": {},
   "source": [
    "**Salvaremos toda a biblioteca \"stats\" do R**\n",
    "\n",
    "O comando dir(), a seguir, é interessante para saber quais são as funções que estão presentes."
   ]
  },
  {
   "cell_type": "code",
   "execution_count": null,
   "metadata": {},
   "outputs": [],
   "source": [
    "stats = rpackages.importr('stats')\n",
    "\n",
    "print(dir(stats))"
   ]
  },
  {
   "cell_type": "markdown",
   "metadata": {},
   "source": [
    "Vamos executar um exemplo simples para testar a funcionalidade do pacote."
   ]
  },
  {
   "cell_type": "code",
   "execution_count": null,
   "metadata": {},
   "outputs": [],
   "source": [
    "vetor = stats.rnorm(100)\n",
    "print(\"Saída do teste: \", stats.t_test(vetor, altenative = \"less\"))"
   ]
  }
 ],
 "metadata": {
  "kernelspec": {
   "display_name": "Python 3",
   "language": "python",
   "name": "python3"
  },
  "language_info": {
   "codemirror_mode": {
    "name": "ipython",
    "version": 3
   },
   "file_extension": ".py",
   "mimetype": "text/x-python",
   "name": "python",
   "nbconvert_exporter": "python",
   "pygments_lexer": "ipython3",
   "version": "3.7.1"
  }
 },
 "nbformat": 4,
 "nbformat_minor": 2
}
