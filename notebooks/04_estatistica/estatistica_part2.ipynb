{
 "cells": [
  {
   "cell_type": "markdown",
   "metadata": {},
   "source": [
    "# Teste de Hipóteses e Teste t"
   ]
  },
  {
   "cell_type": "markdown",
   "metadata": {},
   "source": [
    "## Amostra e População\n",
    "\n",
    "### Definição:\n",
    "\n",
    ">- População é o conjunto de todos os elementos ou resultados sob investigação. \n",
    ">- Amostra é qualquer subconjunto da população"
   ]
  },
  {
   "cell_type": "markdown",
   "metadata": {},
   "source": [
    "## Teste de Hipóteses\n",
    "\n",
    "### Motivação:\n",
    "\n",
    "Introduziremos a ideia de teste de hipóteses por meio de um exemplo \"não estatístico\".\n",
    "\n",
    "Suponha que ocorreu um cirme e o detetive responsável pela investigação suspeita do mordomo."
   ]
  },
  {
   "cell_type": "markdown",
   "metadata": {},
   "source": [
    ".                 | detetive (decisão) culpado | detetive (decisão) inocente\n",
    "------------------|------------------|------------------\n",
    "mordomo culpado  |     acerto       |    erro *tipo II*\n",
    "mordomo inocente  |   erro *tipo I*  |      acerto"
   ]
  },
  {
   "cell_type": "markdown",
   "metadata": {},
   "source": [
    "A primeira coisa que devemos ter clara é a afirmação (hipótese) a ser testada. Neste caso, o detetive deve testar a hipótese\n",
    ">- H0: \"o mordomo é inocente\"\n",
    "\n",
    "A hipótese a ser testada é chamada de hipótese nula (geralmente, escolhemos como hipótese nula aquela que gostaríamos de rejeitar).\n",
    "\n",
    "Caso H0 seja rejeitado, consideramos que uma hipótese alternativa deve ser viável. Para este caso, temos como hipótese alternativa\n",
    ">- H1: \"o mordome é culpado\"\n",
    "\n",
    "Independente das hipóteses, temos sempre duas formas de errar. Definindo assim dois tipos de erros:\n",
    "\n",
    ">- erro tipo I: rejeitar H0 quando H0 é verdadiro\n",
    ">- erro tipo II: não rejeitar H0 quando H0 é falso\n",
    "\n",
    "No nosso exemplo, o **erro tipo I** seria o detetive concluir que o mordomo é *culpado* sendo na verdade *inocente* e o **erro tipo II** seria o detetive concluir que o mordomo é *inocente* quando na verdade é *culpado*."
   ]
  },
  {
   "cell_type": "markdown",
   "metadata": {},
   "source": [
    "O objetivo do teste de hipóteses é determinar se a hipótese nula (H0) é provável que seja verdadeira, com base nos dados de amostra. Caso tenha pouca evidência contra H0, aceitamos H0. Se a hipótese nula é improvável, com base nos dados, podemos rejeitar H0 a favor da hipótese alternativa (H1).\n",
    "\n",
    "Tendo a hipótese nula e hipótese alternativa bem definida, escolheremos um nível de significância (geralmente denotado pela letra grega α). O nível de significância é um limite de probabilidade que determina quando H0 deve ser rejeitado. Após realizar um teste, se a probabilidade de obter um resultado tão extremo quanto o observado for menor do que o nível de significância, rejeitaremos H0 em favor de H1. Essa probabilidade de ver um resultado como extremo ou mais extremo que o observado é conhecida como valor p (p-valor)."
   ]
  },
  {
   "cell_type": "markdown",
   "metadata": {},
   "source": [
    "### Teste t de uma amostra\n",
    "\n",
    "O teste t de uma amostra, que é um teste paramétrico, verifica se a média da amostra é estatisticamente diferente da média populacional conhecida ou hipotética."
   ]
  },
  {
   "cell_type": "markdown",
   "metadata": {},
   "source": [
    "Vamos executar um exemplo simples."
   ]
  },
  {
   "cell_type": "code",
   "execution_count": 29,
   "metadata": {},
   "outputs": [],
   "source": [
    "import numpy as np\n",
    "import scipy.stats as stats"
   ]
  },
  {
   "cell_type": "code",
   "execution_count": 30,
   "metadata": {},
   "outputs": [
    {
     "name": "stdout",
     "output_type": "stream",
     "text": [
      "[ 2.55860935e-01 -2.32185541e-01  1.22826320e+00  6.78918793e-01\n",
      " -9.26798100e-01  1.05641919e+00  7.62392946e-01 -3.99475048e-01\n",
      " -6.04138847e-01 -2.85564309e-01  3.51150276e-01  1.03508942e+00\n",
      " -1.01098463e+00  1.48812310e-01 -1.84227422e+00 -1.32772553e+00\n",
      "  1.21914420e-01  3.46721291e-01 -1.89203150e-01 -2.87971262e-01\n",
      "  1.30985180e+00 -1.25841804e+00 -1.19314614e+00  1.26626748e+00\n",
      "  2.36183621e-01 -5.66273756e-01  2.29916315e-02  1.26763468e+00\n",
      " -4.77810544e-01  7.48252294e-02 -9.00351301e-01  8.93009205e-01\n",
      " -2.16426590e-01 -1.87430585e-01  1.77406834e+00 -2.36043776e-01\n",
      "  1.27044629e+00  1.32911701e+00  7.18897329e-02 -2.80963202e-02\n",
      " -1.59483302e-01 -1.36658672e+00 -1.28810535e+00  1.32775704e+00\n",
      "  1.10690974e-01 -3.51575616e-02  5.01092855e-01  1.72923855e-02\n",
      "  2.74278752e+00  3.29895633e-01  1.67543442e-01  5.08932784e-01\n",
      " -1.95091910e-01  1.00202253e-03  2.13769956e+00 -1.54049166e+00\n",
      " -1.05092745e+00  9.95230516e-01  6.32269000e-01  2.31350864e+00\n",
      "  1.21967235e+00 -1.13924448e+00  1.28693353e+00 -9.32530663e-01\n",
      "  8.96216618e-01 -1.25593114e+00 -9.09375955e-01  2.60995456e-01\n",
      "  9.93742390e-02  5.57891153e-01  5.66514974e-01 -2.31055301e-01\n",
      "  1.06526020e+00 -4.76786002e-01  6.22049720e-01 -1.93594371e-01\n",
      " -6.77094743e-01  4.17299421e-01  7.27086308e-01 -1.42633853e+00\n",
      "  2.03019847e+00  5.44891835e-01  1.03339699e-01 -2.03769629e-02\n",
      " -8.75757854e-01 -7.19497016e-01 -6.63085030e-01  4.05084729e-01\n",
      " -1.16026136e+00  7.34883492e-01  4.68712502e-01 -5.92318396e-01\n",
      " -5.75836129e-01  4.85914878e-01 -8.23238264e-01  1.73088949e+00\n",
      " -9.77442081e-02  8.73306151e-01 -1.26619442e+00 -6.35748313e-01]\n"
     ]
    }
   ],
   "source": [
    "vetor = np.random.normal(size = 100)\n",
    "\n",
    "print(vetor)"
   ]
  },
  {
   "cell_type": "markdown",
   "metadata": {},
   "source": [
    "Para realizar um teste teste t de uma amostra podemos usar a função *stats.ttest_1samp()*:"
   ]
  },
  {
   "cell_type": "code",
   "execution_count": 31,
   "metadata": {},
   "outputs": [
    {
     "name": "stdout",
     "output_type": "stream",
     "text": [
      "Saída do teste:  Ttest_1sampResult(statistic=1.0559049244600627, pvalue=0.2935816056267157)\n"
     ]
    }
   ],
   "source": [
    "mu_verdadeiro = 0\n",
    "\n",
    "print(\"Saída do teste: \", stats.ttest_1samp(vetor, mu_verdadeiro))"
   ]
  },
  {
   "cell_type": "markdown",
   "metadata": {},
   "source": [
    "### Teste de Hipóteses utilizando o R no Python\n",
    "\n",
    "O teste de hipóteses no python não é muito informativo, devido a isso, utilizaremos o R através do Python para realizar os testes."
   ]
  },
  {
   "cell_type": "code",
   "execution_count": 32,
   "metadata": {},
   "outputs": [],
   "source": [
    "import rpy2.robjects.packages as rpackages"
   ]
  },
  {
   "cell_type": "markdown",
   "metadata": {},
   "source": [
    "**Salvaremos toda a biblioteca \"stats\" do R**\n",
    "\n",
    "O comando dir(), a seguir, é interessante para saber quais são as funções que estão presentes. Usaremos len(dir()) para saber quantas funções foram importadas do pacote stats do R."
   ]
  },
  {
   "cell_type": "code",
   "execution_count": 33,
   "metadata": {},
   "outputs": [
    {
     "name": "stdout",
     "output_type": "stream",
     "text": [
      "1143\n"
     ]
    }
   ],
   "source": [
    "stats = rpackages.importr('stats')\n",
    "\n",
    "print(len(dir(stats)))"
   ]
  },
  {
   "cell_type": "markdown",
   "metadata": {},
   "source": [
    "Vamos executar um exemplo simples para testar a funcionalidade do pacote."
   ]
  },
  {
   "cell_type": "code",
   "execution_count": 34,
   "metadata": {
    "scrolled": true
   },
   "outputs": [
    {
     "name": "stdout",
     "output_type": "stream",
     "text": [
      "Saída do teste:  \n",
      "\r\n",
      "\tOne Sample t-test\n",
      "\r\n",
      "\n",
      "\r\n",
      "data:  c(-0.773049375302106, -1.59884311925108, -1.55756681585288, -0.927946187448633, 0.172873274068049, -0.105062592981286, 0.840012304217368, -1.02484039081922, -0.0156319660072668, 0.480696911196218, 0.0530320523131201, 1.8921854803367, -0.346632572882998, 1.92796274700371, 1.1247385655971, -1.1932680175222, 1.27345581217488, 0.137355967774739, 1.47375055897909, -0.417035041191441, 0.172725224757316, 1.31433970430807, 1.50400561816633, 0.352547538484901, 0.420959658287897, 0.814667250294577, -0.262383525852057, 0.497461499931258, 1.28552178071828, 0.911416550546512, -1.34317268695592, 1.09283523615356, 0.249178798694363, 0.816377969566661, -0.173290046345885, 0.701854465088348, 0.203351692303321, 0.201580702955311, 2.26630248663449, 0.481510288077261, 0.553463567422006, 0.142751548363122, -0.108687976520334, 1.44743774524936, -0.764794372586691, 1.50316468929996, 0.485753634837614, -0.316456561279371, 1.97013409140484, 1.23276752211663, -0.00933512950613402, 0.0122260659747996, 0.843757255090667, -0.791625619490359, 0.208267869154306, -2.04827501169601, -0.53651279126457, 2.10477183481184, 0.227322267748177, 0.173480563325494, -0.107024678478941, 1.01638207784873, -0.442298322452451, 1.17849675729393, -1.88469266870727, 0.144195497376308, 0.385336616916839, -1.43708642807009, 0.504196256815592, 1.17380786935663, 0.623709249693086, 0.324646328196313, 1.58333633179368, 0.293270680945929, -1.31255695940145, 1.16019809608287, 1.66503186514355, -1.79690262003502, -0.116759047160493, 0.906678919984188, -1.13027198834816, 0.272792766798754, 1.1607577683246, -1.03748907562831, -0.303277891951933, -1.15664866451944, 3.4593655924768, -0.979836150248076, -0.512182367312972, -0.612222868161646, -0.769807195992634, -0.118507657310061, -0.488284991608507, -0.529982835891483, 1.60600963331794, 0.368994045172904, 0.666594200472903, -0.212365202673017, 0.235957970163526, 1.60413730027846)\n",
      "\r\n",
      "t = 2.4023, df = 99, p-value = 0.01815\n",
      "\r\n",
      "alternative hypothesis: true mean is not equal to 0\n",
      "\r\n",
      "95 percent confidence interval:\n",
      "\r\n",
      " 0.0428849 0.4499008\n",
      "\r\n",
      "sample estimates:\n",
      "\r\n",
      "mean of x \n",
      "\r\n",
      "0.2463929 \n",
      "\r\n",
      "\n",
      "\n"
     ]
    }
   ],
   "source": [
    "vetor = stats.rnorm(100)\n",
    "print(\"Saída do teste: \", stats.t_test(vetor, altenative = \"greather\"))"
   ]
  },
  {
   "cell_type": "markdown",
   "metadata": {},
   "source": [
    "O parâmetro alternative = \"greather\" indica que o teste deve ser unilateral a direita. Para um teste unilateral a esquerda deve se usar alternative = \"less\". Se não indicar o parâmetro alternative, o R faz um teste bilateral."
   ]
  },
  {
   "cell_type": "code",
   "execution_count": 35,
   "metadata": {
    "scrolled": true
   },
   "outputs": [
    {
     "name": "stdout",
     "output_type": "stream",
     "text": [
      "Saída do teste:  \n",
      "\r\n",
      "\tOne Sample t-test\n",
      "\r\n",
      "\n",
      "\r\n",
      "data:  c(-0.773049375302106, -1.59884311925108, -1.55756681585288, -0.927946187448633, 0.172873274068049, -0.105062592981286, 0.840012304217368, -1.02484039081922, -0.0156319660072668, 0.480696911196218, 0.0530320523131201, 1.8921854803367, -0.346632572882998, 1.92796274700371, 1.1247385655971, -1.1932680175222, 1.27345581217488, 0.137355967774739, 1.47375055897909, -0.417035041191441, 0.172725224757316, 1.31433970430807, 1.50400561816633, 0.352547538484901, 0.420959658287897, 0.814667250294577, -0.262383525852057, 0.497461499931258, 1.28552178071828, 0.911416550546512, -1.34317268695592, 1.09283523615356, 0.249178798694363, 0.816377969566661, -0.173290046345885, 0.701854465088348, 0.203351692303321, 0.201580702955311, 2.26630248663449, 0.481510288077261, 0.553463567422006, 0.142751548363122, -0.108687976520334, 1.44743774524936, -0.764794372586691, 1.50316468929996, 0.485753634837614, -0.316456561279371, 1.97013409140484, 1.23276752211663, -0.00933512950613402, 0.0122260659747996, 0.843757255090667, -0.791625619490359, 0.208267869154306, -2.04827501169601, -0.53651279126457, 2.10477183481184, 0.227322267748177, 0.173480563325494, -0.107024678478941, 1.01638207784873, -0.442298322452451, 1.17849675729393, -1.88469266870727, 0.144195497376308, 0.385336616916839, -1.43708642807009, 0.504196256815592, 1.17380786935663, 0.623709249693086, 0.324646328196313, 1.58333633179368, 0.293270680945929, -1.31255695940145, 1.16019809608287, 1.66503186514355, -1.79690262003502, -0.116759047160493, 0.906678919984188, -1.13027198834816, 0.272792766798754, 1.1607577683246, -1.03748907562831, -0.303277891951933, -1.15664866451944, 3.4593655924768, -0.979836150248076, -0.512182367312972, -0.612222868161646, -0.769807195992634, -0.118507657310061, -0.488284991608507, -0.529982835891483, 1.60600963331794, 0.368994045172904, 0.666594200472903, -0.212365202673017, 0.235957970163526, 1.60413730027846)\n",
      "\r\n",
      "t = 2.4023, df = 99, p-value = 0.01815\n",
      "\r\n",
      "alternative hypothesis: true mean is not equal to 0\n",
      "\r\n",
      "95 percent confidence interval:\n",
      "\r\n",
      " 0.0428849 0.4499008\n",
      "\r\n",
      "sample estimates:\n",
      "\r\n",
      "mean of x \n",
      "\r\n",
      "0.2463929 \n",
      "\r\n",
      "\n",
      "\n"
     ]
    }
   ],
   "source": [
    "teste_t = stats.t_test(vetor)\n",
    "print(\"Saída do teste: \", teste_t)"
   ]
  },
  {
   "cell_type": "markdown",
   "metadata": {},
   "source": [
    "A variável teste_t pode ser tratada como uma lista do python. Assim, por exemplo, para obter apenas o p-valor do teste, bastar buscar o elemento na posição 2 do objeto."
   ]
  },
  {
   "cell_type": "code",
   "execution_count": 36,
   "metadata": {},
   "outputs": [
    {
     "name": "stdout",
     "output_type": "stream",
     "text": [
      "O p-valor obtido foi:  [1] 0.01815434\n",
      "\n"
     ]
    }
   ],
   "source": [
    "print(\"O p-valor obtido foi: \",teste_t[2])"
   ]
  },
  {
   "cell_type": "markdown",
   "metadata": {},
   "source": [
    "## Referências"
   ]
  },
  {
   "cell_type": "markdown",
   "metadata": {},
   "source": [
    "[numpy.random.normal](https://docs.scipy.org/doc/numpy-1.13.0/reference/generated/numpy.random.normal.html)\n",
    "\n",
    "[scipy.stats.ttest_1samp](https://docs.scipy.org/doc/scipy/reference/generated/scipy.stats.ttest_1samp.html)"
   ]
  }
 ],
 "metadata": {
  "kernelspec": {
   "display_name": "Python 3",
   "language": "python",
   "name": "python3"
  },
  "language_info": {
   "codemirror_mode": {
    "name": "ipython",
    "version": 3
   },
   "file_extension": ".py",
   "mimetype": "text/x-python",
   "name": "python",
   "nbconvert_exporter": "python",
   "pygments_lexer": "ipython3",
   "version": "3.7.1"
  }
 },
 "nbformat": 4,
 "nbformat_minor": 2
}
