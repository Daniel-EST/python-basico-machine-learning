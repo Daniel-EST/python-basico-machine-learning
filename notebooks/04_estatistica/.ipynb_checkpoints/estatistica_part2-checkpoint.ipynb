{
 "cells": [
  {
   "cell_type": "markdown",
   "metadata": {},
   "source": [
    "# Estatística parte II"
   ]
  },
  {
   "cell_type": "markdown",
   "metadata": {},
   "source": [
    "# Amostra e População\n",
    "\n",
    "### Definição:\n",
    "\n",
    ">- População é o conjunto de todos os elementos ou resultados sob investigação. \n",
    ">- Amostra é qualquer subconjunto da população"
   ]
  },
  {
   "cell_type": "markdown",
   "metadata": {},
   "source": [
    "# Teste de Hipóteses\n",
    "\n",
    "### Motivação:\n",
    "\n",
    "Introduziremos a ideia de teste de hipóteses por meio de um exemplo \"não estatístico\".\n",
    "\n",
    "Suponha que ocorreu um cirme e o detetive responsável pela investigação suspeita do mordomo."
   ]
  },
  {
   "cell_type": "markdown",
   "metadata": {},
   "source": [
    ".                 | detetive (decisão) culpado | detetive (decisão) inocente\n",
    "------------------|------------------|------------------\n",
    "mordomo culpado  |     acerto       |    erro *tipo II*\n",
    "mordomo inocente  |   erro *tipo I*  |      acerto"
   ]
  },
  {
   "cell_type": "markdown",
   "metadata": {},
   "source": [
    "A primeira coisa que devemos ter clara é a afirmação (hipótese) a ser testada. Neste caso, o detetive deve testar a hipótese\n",
    ">- $H_0$: \"o mordomo é inocente\"\n",
    "\n",
    "A hipótese a ser testada é chamada de hipótese nula (geralmente, escolhemos como hipótese nula aquela que gostaríamos de rejeitar).\n",
    "\n",
    "Caso H0 seja rejeitado, consideramos que uma hipótese alternativa deve ser viável. Para este caso, temos como hipótese alternativa\n",
    ">- $H_1$: \"o mordome é culpado\"\n",
    "\n",
    "Independente das hipóteses, temos sempre duas formas de errar. Definindo assim dois tipos de erros:\n",
    "\n",
    ">- erro tipo I: rejeitar $H_0$ quando $H_0$ é verdadeiro.\n",
    ">- erro tipo II: não rejeitar $H_0$ quando $H_0$ é falso.\n",
    "\n",
    "No nosso exemplo, o **erro tipo I** seria o detetive concluir que o mordomo é *culpado* sendo na verdade *inocente* e o **erro tipo II** seria o detetive concluir que o mordomo é *inocente* quando na verdade é *culpado*."
   ]
  },
  {
   "cell_type": "markdown",
   "metadata": {},
   "source": [
    "O objetivo do **Teste de Hipóteses** é testar hipóteses sobre parâmetros populacionais ($p, μ, σ^2$), determinando se a hipótese nula ($H_0$) é provável que seja verdadeira com base nos dados de amostra. Caso tenha pouca evidência contra $H_0$, aceitamos $H_0$. Se a hipótese nula é improvável, com base nos dados, podemos rejeitar $H_0$ a favor da hipótese alternativa ($H_1$).\n",
    "\n",
    "$$\n",
    "H_0 \\text{ (hipótese nula) vs } H_1 \\text{ (hipótese alternativa)}.\n",
    "$$"
   ]
  },
  {
   "cell_type": "markdown",
   "metadata": {},
   "source": [
    "#### Nível de significância\n",
    "Definimos como Nível de significância de um teste (geralmente denotado pela letra grega α) a probabilidade do erro tipo 1, ou seja,\n",
    "\n",
    "$$\n",
    "α \\text{ = P(erro tipo 1) = P(rejeitar } H_0  | H_0 \\text{ é verdadeiro).}\n",
    "$$\n",
    "\n",
    "Em geral é escolhido um dos seguintes valores para α: 1%, 5% e 10%."
   ]
  },
  {
   "cell_type": "markdown",
   "metadata": {},
   "source": [
    "#### Valor p (p-valor)\n",
    "\n",
    "O p-valor é a probabilidade de que a estatística do teste tenha valor extremo em relação ao valor observado quando a hipótese$ H_0$ é verdadeira.\n",
    "\n",
    "Para exemplificar a definição de p-valor, considere um teste de hipótese para a média no qual o valor da estatística é dado por $Z_{\\text{obs}}$, ou seja,\n",
    "\n",
    "![](img/z_obs.png)\n",
    "\n",
    "Denotando o nível de significância como $α$, rejeitaremos $ H_0 $ se $ Z_{\\text{obs}} < Z_{\\alpha/2} $ ou se $ Z_{\\text{obs}} > Z_{\\alpha/2} $. \n",
    "\n",
    "As figuras a seguir representam, respectivamente, o p-valor nos casos em que temos um teste de hipóteses bilateral com rejeição da hipótese nula e sem rejeição da hipótese nula.\n",
    "\n",
    "![](img/pvalor_bilateral.png)\n",
    "\n",
    "Para os testes de hipóteses unilaterais, utilizaremos $ Z_{\\alpha} $ para definir a região de rejeição. Para exemplificar, abaixo temos as figuras de um teste de hipóteses unilateral para média. Na primeira figura rejeitamos a hipótese nula e na segunda não rejeitamos.\n",
    "\n",
    "![](img/pvalor_unilateral.png)"
   ]
  },
  {
   "cell_type": "markdown",
   "metadata": {},
   "source": [
    "#### Poder do teste\n",
    "\n",
    "O Poder do teste tem como objetivo determinar o quanto um teste de hipótese controla o erro tipo II (geralmente o erro tipo II é denotado pela letra grega β). Assim,\n",
    "\n",
    "$$\n",
    "\\text{ Poder = 1 - β = 1 - P(não rejeitar } H_0|H_0 \\text{ é falso.}\n",
    "$$"
   ]
  },
  {
   "cell_type": "markdown",
   "metadata": {},
   "source": [
    "Definidos o erro tipo I ($α$) e o erro tipo II ($β$) o ideal seria minimizar os 2 tipos de erros, a situação ideal é aquela em que ambas as probabilidades, $ α $ e $ β $, são próximas de zero. No entanto, podemos ver que a medida que diminuímos $ α $, $ β $ aumenta. A Figura a seguir apresenta esta relação.\n",
    "\n",
    "![](img/erros_tipo_I_e_II.png)\n",
    "\n",
    "Como não é uma tarefa trivial, pois para diminuir a chance de um tipo de erro devemos mudar a nossa regra de decisão, o que automaticamente aumenta a chance do outro tipo de erro acontecer. Assim, no decorrer de nossos estudos sobre Teste de Hipóteses iremos controlar apenas o erro tipo I ($α$)."
   ]
  },
  {
   "cell_type": "markdown",
   "metadata": {},
   "source": [
    "## Teste de Hipósteses para uma população\n",
    "\n",
    "### Teste de Hipótese para média com variância desconhecida\n",
    "\n",
    "Seja $X_1, X_2, ..., X_n$ uma amostra aleatória de uma população normal com média μ e variância $σ^2$ desconhecidas. Suponha que queremos testar as seguintes hipóteses:\n",
    "\n",
    "$$\n",
    "H_0: μ = μ_0 \\\\\n",
    "\\text{vs} \\\\\n",
    "H_1: μ < μ_0 \\text{ ou } μ > μ_0 \\text{ ou } μ \\neq μ_0, \\text{ onde } μ_0 \\in \\mathbb{R}.\n",
    "$$"
   ]
  },
  {
   "cell_type": "markdown",
   "metadata": {},
   "source": [
    "Utilizaremos o **teste t** para verificar se a média da amostra é estatisticamente diferente da média populacional conhecida ou hipotética.\n",
    "\n",
    "Vamos executar um exemplo simples."
   ]
  },
  {
   "cell_type": "code",
   "execution_count": 1,
   "metadata": {},
   "outputs": [],
   "source": [
    "import numpy as np\n",
    "import scipy.stats as stats"
   ]
  },
  {
   "cell_type": "code",
   "execution_count": 2,
   "metadata": {},
   "outputs": [
    {
     "name": "stdout",
     "output_type": "stream",
     "text": [
      "[ 1.81255241e+00 -6.78232453e-01  6.46688291e-01 -1.87563533e+00\n",
      " -1.14747985e+00  1.87634684e+00  5.61947229e-01  1.07129145e+00\n",
      "  4.28173665e-01 -7.20461473e-01  4.88723086e-01  1.56409527e-02\n",
      " -4.20670311e-01  2.32905439e+00  1.23917224e+00  9.92113347e-02\n",
      " -7.59950941e-01  8.21080572e-01 -1.83142996e+00 -2.51006363e-01\n",
      " -5.95529100e-01  1.25124110e+00 -5.34030706e-01  1.20487021e+00\n",
      "  8.39710471e-01  9.38563506e-01 -7.37882274e-01 -1.35406158e+00\n",
      "  3.37117869e-01  1.06448058e+00  1.68562782e+00  1.83119415e-02\n",
      "  5.07505544e-01 -1.97562079e+00  5.32639119e-01  2.85974104e-01\n",
      " -1.19203841e+00 -2.53815040e-01 -7.55462067e-01 -2.62158423e+00\n",
      "  6.29468822e-01 -2.01382367e-01  5.60262996e-01  1.19278726e-01\n",
      "  1.10909394e+00  1.53945223e-02  3.37677593e-01 -1.55888081e+00\n",
      " -1.97691505e-01  3.14389430e-01  6.28384418e-03  1.25225416e+00\n",
      "  1.36931569e+00  1.86199637e-03 -2.39655705e-01 -8.17455265e-01\n",
      "  8.95517818e-01  1.22581092e+00  6.25761267e-01  6.12793780e-01\n",
      "  1.37663458e+00  1.35754309e+00 -1.01383089e-01  1.40497651e-01\n",
      "  6.77334409e-01 -6.03542647e-01  6.26716327e-01 -4.21478151e-01\n",
      "  8.41345728e-01  2.50199681e+00  1.13663209e+00  1.02157227e+00\n",
      "  5.20238974e-01  2.75693201e-02 -9.20669794e-01  1.21471526e+00\n",
      "  7.77999478e-01  2.82206184e-01 -3.44241838e-01 -8.26998069e-01\n",
      " -8.21339895e-02 -4.73083321e-01 -1.57568008e+00  1.75712315e+00\n",
      " -7.18741852e-01 -8.64012426e-01  1.25453271e-01  6.84882539e-01\n",
      " -4.64865874e-02 -5.66341919e-01  3.33419390e-01  1.07204865e+00\n",
      " -1.16300860e-01 -3.97730716e-01 -5.44773741e-01 -3.00888562e-02\n",
      " -1.65754853e+00 -4.01748601e-01  1.10553450e+00 -3.00058913e-01]\n"
     ]
    }
   ],
   "source": [
    "# Criando um vetor de tamanho 100 com distribuição normal\n",
    "vetor = np.random.normal(size = 100)\n",
    "\n",
    "print(vetor)"
   ]
  },
  {
   "cell_type": "markdown",
   "metadata": {},
   "source": [
    "Neste exemplo, queremos testar nossas seguintes hipóteses:\n",
    "\n",
    "$$\n",
    "H_0: μ = 0 \\text{ vs } H_1: μ \\neq 0\n",
    "$$\n",
    "\n",
    "Para realizar um teste teste t de uma amostra no python podemos usar a função ``stats.ttest_1samp()``:"
   ]
  },
  {
   "cell_type": "code",
   "execution_count": 3,
   "metadata": {},
   "outputs": [
    {
     "name": "stdout",
     "output_type": "stream",
     "text": [
      "Saída do teste:  Ttest_1sampResult(statistic=1.5398104018948437, pvalue=0.1267968761753285)\n"
     ]
    }
   ],
   "source": [
    "print(\"Saída do teste: \", stats.ttest_1samp(vetor, popmean = 0)) # popmean é o valor que queremos testar"
   ]
  },
  {
   "cell_type": "markdown",
   "metadata": {},
   "source": [
    "### Teste de Hipóteses utilizando o R no Python\n",
    "\n",
    "Como a função ``stats.ttest_1samp()`` permite apenas realizar teste bilateral e o teste de hipóteses no python não é muito informativo, utilizaremos o R através do Python para realizar nossos testes."
   ]
  },
  {
   "cell_type": "code",
   "execution_count": 4,
   "metadata": {},
   "outputs": [],
   "source": [
    "import rpy2.robjects.packages as rpackages"
   ]
  },
  {
   "cell_type": "markdown",
   "metadata": {},
   "source": [
    "**Salvaremos toda a biblioteca \"stats\" do R**\n",
    "\n",
    "O comando ``dir()``, a seguir, é interessante para saber quais são as funções que estão presentes. Usaremos ``len(dir())`` para saber quantas funções foram importadas do pacote stats do R."
   ]
  },
  {
   "cell_type": "code",
   "execution_count": 5,
   "metadata": {},
   "outputs": [
    {
     "name": "stdout",
     "output_type": "stream",
     "text": [
      "1144\n"
     ]
    }
   ],
   "source": [
    "stats = rpackages.importr('stats')\n",
    "\n",
    "print(len(dir(stats)))"
   ]
  },
  {
   "cell_type": "markdown",
   "metadata": {},
   "source": [
    "Vamos executar um exemplo simples similar ao anterior para testar a funcionalidade do pacote.\n",
    "\n",
    "Nossas hipóteses são:\n",
    "\n",
    "$$\n",
    "H_0: μ = 0 \\text{ vs } H_1: μ \\neq 0\n",
    "$$"
   ]
  },
  {
   "cell_type": "code",
   "execution_count": 6,
   "metadata": {
    "scrolled": true
   },
   "outputs": [
    {
     "name": "stdout",
     "output_type": "stream",
     "text": [
      "Saída do teste:  \n",
      "\r\n",
      "\tOne Sample t-test\n",
      "\r\n",
      "\n",
      "\r\n",
      "data:  c(1.65577859425148, 0.512720382001657, 0.106460866720666, -0.369286321654655, 0.401591286285018, 0.0762428772952065, 1.19149907497513, -0.005554047284127, 0.84616309504795, 0.713479694694544, 0.108788610436768, -1.47521770923959, -0.982335105211715, -0.572426018522172, 0.142838142093078, -0.463331929042201, -0.991741005358932, -1.56866455108727, -0.271207805477048, 0.514517399289889, 0.235385772450397, 0.88554950562397, -0.641200501057994, 1.93473626062037, 0.570289342783608, 0.204043435968891, -0.556641186193432, 0.0947482166612849, -0.0418297442334411, -1.7982402016964, -0.596216383558034, -0.584882873205308, 1.25775969055763, 1.03983296477335, -0.626748982372082, 1.64866387536748, 0.473884185222657, 1.52516864218267, -0.144569286200588, 1.86637073717298, -1.37201149523935, 1.48799371291615, 0.138295621277684, -2.12270268422493, 0.920320470932079, -1.3805327169551, -1.42605059553613, 1.76683627034344, -0.510135221586331, 0.918232281185055, 0.681675780960052, 1.12130049966054, 0.00399363195757215, 0.884836331094762, -1.17583685765153, 0.866355975943354, -0.937946743234136, -0.720218797156695, 1.72672642125647, -1.53558298504536, -0.715921984558036, 0.816882566289101, 0.231357128461023, 0.729663152539629, -1.26648586929165, -0.122177926941174, 1.35200906600888, -0.0211032140514453, -0.319291457069213, 0.291129354694393, -1.50333926882291, -1.30039279952257, -0.713499899869992, -1.31436121540766, 0.378537676175562, -1.10497295607436, 0.159979778715642, -0.220298817528989, -0.0180496445408629, 1.52300920014263, -0.350066144030604, -0.0429550112071746, -0.396181947477065, -1.02871516220598, 0.816233177045771, 1.84648799108835, 0.594227419807457, -0.262899359369283, -0.451428456824506, -0.588778304552994, -1.00933038387694, -1.7261001658438, -1.89390565068261, -1.83009578837848, -0.718672905248196, 0.912579831884551, 1.19901045063428, -0.403693350661425, 0.043160252400251, 0.412737725569167)\n",
      "\r\n",
      "t = -0.23561, df = 99, p-value = 0.8142\n",
      "\r\n",
      "alternative hypothesis: true mean is not equal to 0\n",
      "\r\n",
      "95 percent confidence interval:\n",
      "\r\n",
      " -0.2227071  0.1754322\n",
      "\r\n",
      "sample estimates:\n",
      "\r\n",
      "  mean of x \n",
      "\r\n",
      "-0.02363745 \n",
      "\r\n",
      "\n",
      "\n"
     ]
    }
   ],
   "source": [
    "vetor = stats.rnorm(100)\n",
    "\n",
    "print(\"Saída do teste: \", stats.t_test(vetor, mu=0)) # mu é o valor que queremos testar"
   ]
  },
  {
   "cell_type": "markdown",
   "metadata": {},
   "source": [
    "Se não indicar o parâmetro ``alt`` (hipótese alternativa), o R faz um teste bilateral. Para realizar um teste unilateral a direita devemos usar o parâmetro ``alt`` = \"greater\" e para um teste unilateral a esquerda deve-se usar alternative = \"less\"."
   ]
  },
  {
   "cell_type": "code",
   "execution_count": 7,
   "metadata": {
    "scrolled": true
   },
   "outputs": [
    {
     "name": "stdout",
     "output_type": "stream",
     "text": [
      "Saída do teste:  \n",
      "\n",
      "\tOne Sample t-test\n",
      "\n",
      "\n",
      "\n",
      "data:  c(1.65577859425148, 0.512720382001657, 0.106460866720666, -0.369286321654655, 0.401591286285018, 0.0762428772952065, 1.19149907497513, -0.005554047284127, 0.84616309504795, 0.713479694694544, 0.108788610436768, -1.47521770923959, -0.982335105211715, -0.572426018522172, 0.142838142093078, -0.463331929042201, -0.991741005358932, -1.56866455108727, -0.271207805477048, 0.514517399289889, 0.235385772450397, 0.88554950562397, -0.641200501057994, 1.93473626062037, 0.570289342783608, 0.204043435968891, -0.556641186193432, 0.0947482166612849, -0.0418297442334411, -1.7982402016964, -0.596216383558034, -0.584882873205308, 1.25775969055763, 1.03983296477335, -0.626748982372082, 1.64866387536748, 0.473884185222657, 1.52516864218267, -0.144569286200588, 1.86637073717298, -1.37201149523935, 1.48799371291615, 0.138295621277684, -2.12270268422493, 0.920320470932079, -1.3805327169551, -1.42605059553613, 1.76683627034344, -0.510135221586331, 0.918232281185055, 0.681675780960052, 1.12130049966054, 0.00399363195757215, 0.884836331094762, -1.17583685765153, 0.866355975943354, -0.937946743234136, -0.720218797156695, 1.72672642125647, -1.53558298504536, -0.715921984558036, 0.816882566289101, 0.231357128461023, 0.729663152539629, -1.26648586929165, -0.122177926941174, 1.35200906600888, -0.0211032140514453, -0.319291457069213, 0.291129354694393, -1.50333926882291, -1.30039279952257, -0.713499899869992, -1.31436121540766, 0.378537676175562, -1.10497295607436, 0.159979778715642, -0.220298817528989, -0.0180496445408629, 1.52300920014263, -0.350066144030604, -0.0429550112071746, -0.396181947477065, -1.02871516220598, 0.816233177045771, 1.84648799108835, 0.594227419807457, -0.262899359369283, -0.451428456824506, -0.588778304552994, -1.00933038387694, -1.7261001658438, -1.89390565068261, -1.83009578837848, -0.718672905248196, 0.912579831884551, 1.19901045063428, -0.403693350661425, 0.043160252400251, 0.412737725569167)\n",
      "\n",
      "t = -0.23561, df = 99, p-value = 0.5929\n",
      "\n",
      "alternative hypothesis: true mean is greater than 0\n",
      "\n",
      "95 percent confidence interval:\n",
      "\n",
      " -0.1902188        Inf\n",
      "\n",
      "sample estimates:\n",
      "\n",
      "  mean of x \n",
      "\n",
      "-0.02363745 \n",
      "\n",
      "\n",
      "\n"
     ]
    }
   ],
   "source": [
    "teste_t = stats.t_test(vetor, mu=0, alt = \"greater\")\n",
    "\n",
    "print(\"Saída do teste: \", teste_t)"
   ]
  },
  {
   "cell_type": "markdown",
   "metadata": {},
   "source": [
    "A variável *teste_t* pode ser tratada como uma lista do python. Assim, por exemplo, para obter apenas o p-valor do teste, bastar buscar o elemento na posição 2 do objeto."
   ]
  },
  {
   "cell_type": "code",
   "execution_count": 8,
   "metadata": {
    "scrolled": true
   },
   "outputs": [
    {
     "name": "stdout",
     "output_type": "stream",
     "text": [
      "O p-valor obtido foi:  [1] 0.5928871\n",
      "\n"
     ]
    }
   ],
   "source": [
    "print(\"O p-valor obtido foi: \",teste_t[2])"
   ]
  },
  {
   "cell_type": "markdown",
   "metadata": {},
   "source": [
    "### Teste de hipótese para proporção populacional\n",
    "\n",
    "Seja $X_1, X_2,..., X_n$ uma amostra aleatória tal que\n",
    "\n",
    "$$\n",
    "X_i = \\left\\{ \\begin{array}{ll} 1 & \\text{,  se o i-ésimo elemento possui a característica de estudo } \\\\ 0 & \\hbox{,  caso contrário.} \\end{array} \\right.\n",
    "$$\n",
    "\n",
    "e seja $p \\in$ (0, 1) a proporção populacional da característica. Suponha que estamos interessados em testar as hipóteses\n",
    "\n",
    "$$\n",
    "H_0: p = p_0 \\\\\n",
    "\\text{vs} \\\\\n",
    "H_1: p < p_0 \\text{ ou } p > p_0 \\text{ ou } p \\neq p_0, \\text{ onde } p_0 \\in \\text{ (0, 1)}.\n",
    "$$"
   ]
  },
  {
   "cell_type": "markdown",
   "metadata": {},
   "source": [
    "Considerando o banco de dados ``basesaude.csv``, vamos verificar se a proporção de indivíduos com 60 kg ou menos\n",
    "é igual a 20%.\n",
    "\n",
    "Nossas hipóteses são:\n",
    "\n",
    "$$\n",
    "H_0: p = 20\\% \\text{ vs } H_1: p \\neq 20\\%\n",
    "$$"
   ]
  },
  {
   "cell_type": "code",
   "execution_count": 9,
   "metadata": {},
   "outputs": [
    {
     "name": "stdout",
     "output_type": "stream",
     "text": [
      "   Codigo   Datacol  Sexo  Idade  Peso  Estatura  HIV  Escol  DST  Tipo\n",
      "0    AB01  14/10/15     1   20.0  61.2      1.60    1    3.0    1   2.0\n",
      "1    AB02  09/02/16     0   30.0  60.0      1.55    0    5.0    0   NaN\n",
      "2    AB03  01/03/10     0   50.0  80.0      1.83    1    2.0    1   3.0\n",
      "3    AB04  04/05/13     0   43.0  83.0      1.90    1    NaN    1   2.0\n",
      "4    AB05  20/05/14     0   22.0  75.3      1.75    0    2.0    1   3.0\n",
      "5    AB06  30/01/11     1   15.0  70.2      1.70    1    6.0    0   NaN\n",
      "6    AB07  05/08/15     1   22.0  60.0      1.65    1    5.0    1   3.0\n",
      "7    AB08  08/12/13     1   25.0  62.0      1.55    0    1.0    0   2.0\n",
      "8    AB09  03/11/10     1   32.0  61.0      1.62    1    4.0    1   1.0\n",
      "9    AB10  10/10/10     1   33.0  55.0      1.55    1    5.0    1   NaN\n",
      "10   AB11  05/08/15     0   39.0   NaN       NaN    0    5.0    1   NaN\n",
      "11   AB12  09/08/14     0   60.0  78.0      1.77    0    4.0    1   2.0\n",
      "12   AB13  07/07/15     0    NaN  70.0      1.65    0    1.0    0   NaN\n",
      "13   AB14  03/01/12     0   29.0  72.0      1.70    1    6.0    1   1.0\n",
      "14   AB15  01/01/14     1   18.0  65.0      1.66    1    0.0    0   NaN\n",
      "15   AB16  14/10/15     1   20.0  61.2      1.60    1    3.0    1   2.0\n",
      "16   AB17  09/02/16     0   30.0  60.0      1.55    0    5.0    0   NaN\n",
      "17   AB18  01/03/10     0   50.0  80.0      1.83    1    2.0    1   3.0\n",
      "18   AB19  04/05/13     0   43.0  83.0      1.90    1    NaN    1   2.0\n",
      "19   AB20  20/05/14     0   22.0  75.8      1.75    0    2.0    1   3.0\n",
      "20   AB21  30/01/11     1   15.0  70.2      1.70    1    6.0    0   NaN\n",
      "21   AB22  05/08/15     1   22.0  60.0      1.65    1    5.0    1   3.0\n",
      "22   AB23  08/12/13     1   25.0  62.0      1.55    1    1.0    1   NaN\n",
      "23   AB24  03/11/10     1   32.0  61.3      1.62    1    4.0    1   1.0\n",
      "24   AB25  30/01/11     1   15.0  70.2      1.70    1    6.0    0   NaN\n",
      "25   AB26  05/08/15     1    NaN  60.0      1.65    1    5.0    1   3.0\n",
      "26   AB27  08/12/13     1   25.0  62.0      1.55    1    1.0    1   2.0\n",
      "27   AB28  03/11/10     1   32.0  61.7      1.62    1    4.0    1   1.0\n",
      "28   AB29  10/10/10     1   33.0  55.0      1.55    1    NaN    0   NaN\n",
      "29   AB30  05/08/15     0   39.0  50.0      1.50    0    5.0    0   NaN\n"
     ]
    }
   ],
   "source": [
    "import pandas as pd\n",
    "\n",
    "base = pd.read_csv(\"data/basesaude.csv\")\n",
    "\n",
    "print(base)"
   ]
  },
  {
   "cell_type": "code",
   "execution_count": 10,
   "metadata": {},
   "outputs": [
    {
     "name": "stdout",
     "output_type": "stream",
     "text": [
      "x = 8 n = 29\n"
     ]
    }
   ],
   "source": [
    "x = len(base[base[\"Peso\"]<=60])       # Número de indivíduos que possuem 60kg ou menos\n",
    "n = len(base.dropna(subset=[\"Peso\"])) # Tamanho da amostra\n",
    "\n",
    "print(\"x =\", x, \"n =\", n)"
   ]
  },
  {
   "cell_type": "code",
   "execution_count": 11,
   "metadata": {},
   "outputs": [
    {
     "name": "stdout",
     "output_type": "stream",
     "text": [
      "Saída do teste:  \n",
      "\r\n",
      "\t1-sample proportions test with continuity correction\n",
      "\r\n",
      "\n",
      "\r\n",
      "data:  8L out of 29L, null probability 0.2\n",
      "\r\n",
      "X-squared = 0.62284, df = 1, p-value = 0.43\n",
      "\r\n",
      "alternative hypothesis: true p is not equal to 0.2\n",
      "\r\n",
      "95 percent confidence interval:\n",
      "\r\n",
      " 0.1344590 0.4748512\n",
      "\r\n",
      "sample estimates:\n",
      "\r\n",
      "        p \n",
      "\r\n",
      "0.2758621 \n",
      "\r\n",
      "\n",
      "\n"
     ]
    }
   ],
   "source": [
    "teste_prop = stats.prop_test(x, n ,p=0.2, alt=\"two.sided\")\n",
    "\n",
    "print(\"Saída do teste: \", teste_prop)"
   ]
  },
  {
   "cell_type": "markdown",
   "metadata": {},
   "source": [
    "## Referências"
   ]
  },
  {
   "cell_type": "markdown",
   "metadata": {},
   "source": [
    "[numpy.random.normal](https://docs.scipy.org/doc/numpy-1.13.0/reference/generated/numpy.random.normal.html)\n",
    "\n",
    "[scipy.stats.ttest_1samp](https://docs.scipy.org/doc/scipy/reference/generated/scipy.stats.ttest_1samp.html)\n",
    "\n",
    "[rpy2](https://rpy2.readthedocs.io/en/version_2.8.x/)\n",
    "\n",
    "MORETTIN, Pedro Alberto; BUSSAB, Wilton de Oliveira. Estatística básica. 6. ed. rev. atual. São Paulo: Saraiva, São Paulo: Saraiva, c2014.\n",
    "\n",
    "[Erros cometidos nos testes de hipóteses](http://www.portalaction.com.br/inferencia/511-erros-cometidos-nos-testes-de-hipoteses)\n",
    "\n",
    "[Cálculo e interpretação do p-valor](http://www.portalaction.com.br/inferencia/512-calculo-e-interpretacao-do-p-valor)"
   ]
  }
 ],
 "metadata": {
  "kernelspec": {
   "display_name": "Python 3",
   "language": "python",
   "name": "python3"
  },
  "language_info": {
   "codemirror_mode": {
    "name": "ipython",
    "version": 3
   },
   "file_extension": ".py",
   "mimetype": "text/x-python",
   "name": "python",
   "nbconvert_exporter": "python",
   "pygments_lexer": "ipython3",
   "version": "3.7.1"
  }
 },
 "nbformat": 4,
 "nbformat_minor": 2
}
