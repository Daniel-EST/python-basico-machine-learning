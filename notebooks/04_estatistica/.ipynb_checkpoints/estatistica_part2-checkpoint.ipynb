{
 "cells": [
  {
   "cell_type": "markdown",
   "metadata": {},
   "source": [
    "# Teste de Hipóteses e Teste t"
   ]
  },
  {
   "cell_type": "markdown",
   "metadata": {},
   "source": [
    "## Amostra e População\n",
    "\n",
    "### Definição:\n",
    "\n",
    ">- População é o conjunto de todos os elementos ou resultados sob investigação. \n",
    ">- Amostra é qualquer subconjunto da população"
   ]
  },
  {
   "cell_type": "markdown",
   "metadata": {},
   "source": [
    "## Teste de Hipóteses\n",
    "\n",
    "### Motivação:\n",
    "\n",
    "Introduziremos a ideia de teste de hipóteses por meio de um exemplo \"não estatístico\".\n",
    "\n",
    "Suponha que ocorreu um cirme e o detetive responsável pela investigação suspeita do mordomo."
   ]
  },
  {
   "cell_type": "markdown",
   "metadata": {},
   "source": [
    ".                 | detetive (decisão) culpado | detetive (decisão) inocente\n",
    "------------------|------------------|------------------\n",
    "mordomo culpado  |     acerto       |    erro *tipo II*\n",
    "mordomo inocente  |   erro *tipo I*  |      acerto"
   ]
  },
  {
   "cell_type": "markdown",
   "metadata": {},
   "source": [
    "A primeira coisa que devemos ter clara é a afirmação (hipótese) a ser testada. Neste caso, o detetive deve testar a hipótese\n",
    ">- H0: \"o mordomo é inocente\"\n",
    "\n",
    "A hipótese a ser testada é chamada de hipótese nula (geralmente, escolhemos como hipótese nula aquela que gostaríamos de rejeitar).\n",
    "\n",
    "Caso H0 seja rejeitado, consideramos que uma hipótese alternativa deve ser viável. Para este caso, temos como hipótese alternativa\n",
    ">- H1: \"o mordome é culpado\"\n",
    "\n",
    "Independente das hipóteses, temos sempre duas formas de errar. Definindo assim dois tipos de erros:\n",
    "\n",
    ">- erro tipo I: rejeitar H0 quando H0 é verdadiro\n",
    ">- erro tipo II: não rejeitar H0 quando H0 é falso\n",
    "\n",
    "No nosso exemplo, o **erro tipo I** seria o detetive concluir que o mordomo é *culpado* sendo na verdade *inocente* e o **erro tipo II** seria o detetive concluir que o mordomo é *inocente* quando na verdade é *culpado*."
   ]
  },
  {
   "cell_type": "markdown",
   "metadata": {},
   "source": [
    "O objetivo do teste de hipóteses é determinar se a hipótese nula (H0) é provável que seja verdadeira, com base nos dados de amostra. Caso tenha pouca evidência contra H0, aceitamos H0. Se a hipótese nula é improvável, com base nos dados, podemos rejeitar H0 a favor da hipótese alternativa (H1).\n",
    "\n",
    "Tendo a hipótese nula e hipótese alternativa bem definida, escolheremos um nível de significância (geralmente denotado pela letra grega α). O nível de significância é um limite de probabilidade que determina quando H0 deve ser rejeitado. Após realizar um teste, se a probabilidade de obter um resultado tão extremo quanto o observado for menor do que o nível de significância, rejeitaremos H0 em favor de H1. Essa probabilidade de ver um resultado como extremo ou mais extremo que o observado é conhecida como valor p (p-valor)."
   ]
  },
  {
   "cell_type": "markdown",
   "metadata": {},
   "source": [
    "### Teste t de uma amostra\n",
    "\n",
    "O teste t de uma amostra, que é um teste paramétrico, verifica se a média da amostra é estatisticamente diferente da média populacional conhecida ou hipotética."
   ]
  },
  {
   "cell_type": "markdown",
   "metadata": {},
   "source": [
    "Vamos executar um exemplo simples."
   ]
  },
  {
   "cell_type": "code",
   "execution_count": 1,
   "metadata": {},
   "outputs": [],
   "source": [
    "import numpy as np\n",
    "import scipy.stats as stats"
   ]
  },
  {
   "cell_type": "code",
   "execution_count": 2,
   "metadata": {},
   "outputs": [
    {
     "name": "stdout",
     "output_type": "stream",
     "text": [
      "[-1.77139545 -0.17428547 -0.05013434 -1.2986899  -1.55124037 -0.80239209\n",
      "  0.21373728 -0.10284481 -0.83167874  0.86750348  0.34386753 -0.496388\n",
      " -1.33421248 -0.37152963 -0.50934046  1.98706304  1.89057851  1.06319508\n",
      " -0.27671206  0.79257256 -0.3666574  -0.22789599  0.09904133 -1.4848173\n",
      "  0.10789774  0.02296523  0.14720375  0.51732705  0.68100508 -1.07331683\n",
      " -0.27594143  0.51706814 -1.23655057  1.00562204 -0.5361878   0.51884396\n",
      " -0.90068401 -0.46984295  0.84465728  0.98468898  0.01264759  0.08516188\n",
      " -0.36191288 -1.70198073  1.05090727  1.43491323  1.29111762  0.98878003\n",
      " -0.05250074  1.65540989  1.07574784  0.45698955 -0.59384037 -0.75134266\n",
      "  0.49278062  1.69698109 -0.08064855 -2.24298488  1.931692   -1.82010838\n",
      "  1.28915932  0.41056911  0.13875154 -0.21489828 -0.66472224 -1.30775475\n",
      " -0.13203648 -1.55958215  1.38095992  1.83923683 -2.48359716  0.18661256\n",
      "  0.7528676  -1.49769235  1.106958   -1.30599507  1.66390823  0.77608162\n",
      "  1.19856287  0.27722382  0.05320814 -0.27605467 -0.69192089  0.78988022\n",
      " -1.55536334  1.28120982  0.17957413  0.07938291 -0.05631676 -0.26789335\n",
      " -0.64579891  2.02719328  1.01865372  0.14224413  0.60674102  0.48773197\n",
      "  0.70852077 -2.04957292 -1.42507225  0.21401749]\n"
     ]
    }
   ],
   "source": [
    "vetor = np.random.normal(size = 100)\n",
    "\n",
    "print(vetor)"
   ]
  },
  {
   "cell_type": "markdown",
   "metadata": {},
   "source": [
    "Para realizar um teste teste t de uma amostra podemos usar a função *stats.ttest_1samp()*:"
   ]
  },
  {
   "cell_type": "code",
   "execution_count": 3,
   "metadata": {},
   "outputs": [
    {
     "name": "stdout",
     "output_type": "stream",
     "text": [
      "Saída do teste:  Ttest_1sampResult(statistic=0.3360744997234485, pvalue=0.7375259377988466)\n"
     ]
    }
   ],
   "source": [
    "mu_verdadeiro = 0\n",
    "\n",
    "print(\"Saída do teste: \", stats.ttest_1samp(vetor, mu_verdadeiro))"
   ]
  },
  {
   "cell_type": "markdown",
   "metadata": {},
   "source": [
    "### Teste de Hipóteses utilizando o R no Python\n",
    "\n",
    "O teste de hipóteses no python não é muito informativo, devido a isso, utilizaremos o R através do Python para realizar os testes."
   ]
  },
  {
   "cell_type": "code",
   "execution_count": 4,
   "metadata": {},
   "outputs": [],
   "source": [
    "import rpy2.robjects.packages as rpackages"
   ]
  },
  {
   "cell_type": "markdown",
   "metadata": {},
   "source": [
    "**Salvaremos toda a biblioteca \"stats\" do R**\n",
    "\n",
    "O comando dir(), a seguir, é interessante para saber quais são as funções que estão presentes."
   ]
  },
  {
   "cell_type": "code",
   "execution_count": 5,
   "metadata": {},
   "outputs": [
    {
     "name": "stdout",
     "output_type": "stream",
     "text": [
      "['AIC', 'AIC_default', 'AIC_logLik', 'ARMAacf', 'ARMAtoMA', 'BIC', 'BIC_default', 'BIC_logLik', 'Box_test', 'C', 'C_ARIMA_CSS', 'C_ARIMA_Gradtrans', 'C_ARIMA_Invtrans', 'C_ARIMA_Like', 'C_ARIMA_transPars', 'C_ARIMA_undoPars', 'C_ARMAtoMA', 'C_Approx', 'C_ApproxTest', 'C_BinDist', 'C_Burg', 'C_Cdist', 'C_Cdqrls', 'C_Dotrans', 'C_DoubleCentre', 'C_Fexact', 'C_Fisher_sim', 'C_Gradtrans', 'C_HoltWinters', 'C_Invtrans', 'C_KalmanFore', 'C_KalmanLike', 'C_KalmanSmooth', 'C_LogLin', 'C_Rsm', 'C_SWilk', 'C_SplineCoef', 'C_SplineEval', 'C_Starma_method', 'C_TSconv', 'C_acf', 'C_ar2ma', 'C_arma0_kfore', 'C_arma0fa', 'C_binomial_dev_resids', 'C_bvalus', 'C_bw_bcv', 'C_bw_den', 'C_bw_den_binned', 'C_bw_phi4', 'C_bw_phi6', 'C_bw_ucv', 'C_call_dqagi', 'C_call_dqags', 'C_cfilter', 'C_chisq_sim', 'C_compcases', 'C_cor', 'C_cov', 'C_cutree', 'C_d2x2xk', 'C_dbeta', 'C_dbinom', 'C_dcauchy', 'C_dchisq', 'C_deriv', 'C_dexp', 'C_df', 'C_dgamma', 'C_dgeom', 'C_dhyper', 'C_dlnorm', 'C_dlogis', 'C_dnbeta', 'C_dnbinom', 'C_dnbinom_mu', 'C_dnchisq', 'C_dnf', 'C_dnorm', 'C_dnt', 'C_doD', 'C_do_fmin', 'C_dpois', 'C_dsignrank', 'C_dt', 'C_dunif', 'C_dweibull', 'C_dwilcox', 'C_eureka', 'C_fft', 'C_free_starma', 'C_getQ0', 'C_getQ0bis', 'C_get_resid', 'C_get_s2', 'C_hcass2', 'C_hclust', 'C_influence', 'C_intgrt_vec', 'C_isoreg', 'C_kmeans_Lloyd', 'C_kmeans_MacQueen', 'C_kmns', 'C_ksmooth', 'C_loess_dfit', 'C_loess_dfitse', 'C_loess_ifit', 'C_loess_ise', 'C_loess_raw', 'C_logit_link', 'C_logit_linkinv', 'C_logit_mu_eta', 'C_lowesp', 'C_lowess', 'C_lowesw', 'C_modelframe', 'C_modelmatrix', 'C_monoFC_m', 'C_multi_burg', 'C_multi_yw', 'C_mvfft', 'C_nextn', 'C_nlm', 'C_nls_iter', 'C_numeric_deriv', 'C_optim', 'C_optimhess', 'C_pAnsari', 'C_pKS2', 'C_pKendall', 'C_pKolmogorov2x', 'C_pRho', 'C_pSmirnov2x', 'C_pacf1', 'C_pbeta', 'C_pbinom', 'C_pcauchy', 'C_pchisq', 'C_pexp', 'C_pf', 'C_pgamma', 'C_pgeom', 'C_phyper', 'C_plnorm', 'C_plogis', 'C_pnbeta', 'C_pnbinom', 'C_pnbinom_mu', 'C_pnchisq', 'C_pnf', 'C_pnorm', 'C_pnt', 'C_port_ivset', 'C_port_nlminb', 'C_port_nlsb', 'C_pp_sum', 'C_ppois', 'C_pppred', 'C_psignrank', 'C_pt', 'C_ptukey', 'C_punif', 'C_pweibull', 'C_pwilcox', 'C_qAnsari', 'C_qbeta', 'C_qbinom', 'C_qcauchy', 'C_qchisq', 'C_qexp', 'C_qf', 'C_qgamma', 'C_qgeom', 'C_qhyper', 'C_qlnorm', 'C_qlogis', 'C_qnbeta', 'C_qnbinom', 'C_qnbinom_mu', 'C_qnchisq', 'C_qnf', 'C_qnorm', 'C_qnt', 'C_qpois', 'C_qsignrank', 'C_qt', 'C_qtukey', 'C_qunif', 'C_qweibull', 'C_qwilcox', 'C_r2dtable', 'C_rWishart', 'C_rbart', 'C_rbeta', 'C_rbinom', 'C_rcauchy', 'C_rchisq', 'C_rcont2', 'C_rexp', 'C_rf', 'C_rfilter', 'C_rgamma', 'C_rgeom', 'C_rhyper', 'C_rlnorm', 'C_rlogis', 'C_rmultinom', 'C_rnbinom', 'C_rnbinom_mu', 'C_rnchisq', 'C_rnorm', 'C_rpois', 'C_rsignrank', 'C_rt', 'C_runif', 'C_runmed', 'C_rweibull', 'C_rwilcox', 'C_set_trans', 'C_setppr', 'C_setsmu', 'C_setup_starma', 'C_signrank_free', 'C_smart', 'C_stl', 'C_supsmu', 'C_termsform', 'C_tukeyline', 'C_updateform', 'C_wilcox_free', 'C_zeroin2', 'D', 'DF2formula', 'Gamma', 'HL', 'HoltWinters', 'IQR', 'KalmanForecast', 'KalmanLike', 'KalmanRun', 'KalmanSmooth', 'NLSstAsymptotic', 'NLSstAsymptotic_sortedXyData', 'NLSstClosestX', 'NLSstClosestX_sortedXyData', 'NLSstLfAsymptote', 'NLSstLfAsymptote_sortedXyData', 'NLSstRtAsymptote', 'NLSstRtAsymptote_sortedXyData', 'Ops_ts', 'PP_test', 'Pillai', 'Rank', 'Roy', 'SSD', 'SSD_mlm', 'SSasymp', 'SSasympOff', 'SSasympOrig', 'SSbiexp', 'SSfol', 'SSfpl', 'SSgompertz', 'SSlogis', 'SSmicmen', 'SSweibull', 'StructTS', 'Thin_col', 'Thin_row', 'Tr', 'TukeyHSD', 'TukeyHSD_aov', 'Wilks', '[<-_ts', '[[_dendrogram', '[_acf', '[_formula', '[_terms', '[_ts', '[_tskernel', '_Diag', '_MFclass', '___NAMESPACE___', '___S3MethodsTable___', '___global__', '__doc__', '__loader__', '__name__', '__package__', '__rdata__', '__rname__', '__spec__', '__version__', '_approxfun', '_asSparse', '_cbind_ts', '_checkMFClasses', '_check_vars_numeric', '_env', '_exported_names', '_getXlevels', '_lm_fit', '_makeNamesTs', '_memberDend', '_midDend', '_nknots_smspl', '_noGenerics', '_onLoad', '_onUnload', '_p_nls_convInfo', '_packageName', '_preformat_ts', '_rpy2r', '_splinefun', '_symbol_check_after', '_symbol_r2python', '_translation', '_validity_hclust', '_vcov_aliased', 'acf', 'acf2AR', 'add1', 'add1_default', 'add1_glm', 'add1_lm', 'add1_mlm', 'add_scope', 'addmargins', 'aggregate', 'aggregate_data_frame', 'aggregate_default', 'aggregate_formula', 'aggregate_ts', 'alias', 'alias_formula', 'alias_lm', 'anova', 'anova_glm', 'anova_glmlist', 'anova_lm', 'anova_lmlist', 'anova_loess', 'anova_mlm', 'anova_mlmlist', 'anova_nls', 'anovalist_nls', 'ansari_test', 'ansari_test_default', 'ansari_test_formula', 'aov', 'approx', 'approxfun', 'ar', 'ar_burg', 'ar_burg_default', 'ar_burg_mts', 'ar_mle', 'ar_ols', 'ar_yw', 'ar_yw_default', 'ar_yw_mts', 'arima', 'arima0', 'arima0_diag', 'arima_sim', 'asOneSidedFormula', 'as_data_frame_aovproj', 'as_data_frame_ftable', 'as_data_frame_logLik', 'as_dendrogram', 'as_dendrogram_dendrogram', 'as_dendrogram_hclust', 'as_dist', 'as_dist_default', 'as_formula', 'as_hclust', 'as_hclust_default', 'as_hclust_dendrogram', 'as_hclust_twins', 'as_matrix_dist', 'as_matrix_ftable', 'as_stepfun', 'as_stepfun_default', 'as_stepfun_isoreg', 'as_table_ftable', 'as_ts', 'as_ts_default', 'ave', 'bandwidth_kernel', 'bartlett_test', 'bartlett_test_default', 'bartlett_test_formula', 'binom_test', 'binomial', 'biplot', 'biplot_default', 'biplot_prcomp', 'biplot_princomp', 'bw_SJ', 'bw_bcv', 'bw_nrd', 'bw_nrd0', 'bw_pair_cnts', 'bw_ucv', 'cancor', 'case_names', 'case_names_default', 'case_names_lm', 'cbind_ts', 'ccf', 'check_exact', 'chisq_test', 'cmdscale', 'coef', 'coef_Arima', 'coef_aov', 'coef_default', 'coef_listof', 'coef_maov', 'coef_nls', 'coefficients', 'complete_cases', 'confint', 'confint_default', 'confint_glm', 'confint_lm', 'confint_nls', 'constrOptim', 'contr_SAS', 'contr_helmert', 'contr_poly', 'contr_sum', 'contr_treatment', 'contrasts', 'contrasts<-', 'convolve', 'cooks_distance', 'cooks_distance_glm', 'cooks_distance_lm', 'cophenetic', 'cophenetic_default', 'cophenetic_dendrogram', 'cor', 'cor_test', 'cor_test_default', 'cor_test_formula', 'cov', 'cov2cor', 'cov_wt', 'covratio', 'cpgram', 'cut_dendrogram', 'cutree', 'cycle', 'cycle_default', 'cycle_ts', 'dbeta', 'dbinom', 'dcauchy', 'dchisq', 'decompose', 'delete_response', 'deltat', 'deltat_default', 'dendrapply', 'density', 'density_default', 'deparse2', 'deriv', 'deriv3', 'deriv3_default', 'deriv3_formula', 'deriv_default', 'deriv_formula', 'deviance', 'deviance_default', 'deviance_glm', 'deviance_lm', 'deviance_mlm', 'deviance_nls', 'dexp', 'df', 'df_kernel', 'df_residual', 'df_residual_default', 'df_residual_nls', 'dfbeta', 'dfbeta_lm', 'dfbetas', 'dfbetas_lm', 'dffits', 'dgamma', 'dgeom', 'dhyper', 'diff_ts', 'diffinv', 'diffinv_default', 'diffinv_ts', 'diffinv_vector', 'dist', 'dlnorm', 'dlogis', 'dmultinom', 'dnbinom', 'dnorm', 'dpois', 'drop1', 'drop1_default', 'drop1_glm', 'drop1_lm', 'drop1_mlm', 'drop_scope', 'drop_terms', 'dsignrank', 'dt', 'dummy_coef', 'dummy_coef_aovlist', 'dummy_coef_lm', 'dunif', 'dweibull', 'dwilcox', 'ecdf', 'eff_aovlist', 'effects', 'effects_glm', 'effects_lm', 'embed', 'end', 'end_default', 'estVar', 'estVar_SSD', 'estVar_mlm', 'expand_model_frame', 'extractAIC', 'extractAIC_aov', 'extractAIC_coxph', 'extractAIC_glm', 'extractAIC_lm', 'extractAIC_negbin', 'extractAIC_survreg', 'factanal', 'factanal_fit_mle', 'factor_scope', 'family', 'family_glm', 'family_lm', 'fft', 'filter', 'fisher_test', 'fitted', 'fitted_default', 'fitted_isoreg', 'fitted_kmeans', 'fitted_nls', 'fitted_smooth_spline', 'fitted_values', 'fivenum', 'fligner_test', 'fligner_test_default', 'fligner_test_formula', 'format_dist', 'format_ftable', 'format_perc', 'format_perc_', 'formula', 'formula_character', 'formula_data_frame', 'formula_default', 'formula_formula', 'formula_glm', 'formula_lm', 'formula_nls', 'formula_terms', 'frequency', 'frequency_default', 'friedman_test', 'friedman_test_default', 'friedman_test_formula', 'ftable', 'ftable_default', 'ftable_formula', 'gaussian', 'getCall', 'getCall_default', 'getInitial', 'getInitial_default', 'getInitial_formula', 'getInitial_selfStart', 'get_all_vars', 'glm', 'glm_control', 'glm_fit', 'hasTsp', 'hat', 'hatvalues', 'hatvalues_lm', 'hatvalues_smooth_spline', 'hclust', 'heatmap', 'hyman_filter', 'identify_hclust', 'influence', 'influence_glm', 'influence_lm', 'influence_measures', 'integrate', 'interaction_plot', 'inverse_gaussian', 'is_empty_model', 'is_leaf', 'is_mts', 'is_stepfun', 'is_ts', 'is_tskernel', 'isoreg', 'kernapply', 'kernapply_default', 'kernapply_ts', 'kernapply_tskernel', 'kernapply_vector', 'kernel', 'kmeans', 'knots', 'knots_stepfun', 'kruskal_test', 'kruskal_test_default', 'kruskal_test_formula', 'ks_test', 'ksmooth', 'labels_dendrogram', 'labels_dist', 'labels_lm', 'labels_terms', 'lag', 'lag_default', 'lag_plot', 'line', 'lines_isoreg', 'lines_stepfun', 'lines_ts', 'lm', 'lm_fit', 'lm_influence', 'lm_wfit', 'loadings', 'loess', 'loess_control', 'loess_smooth', 'logLik', 'logLik_Arima', 'logLik_glm', 'logLik_lm', 'logLik_logLik', 'logLik_nls', 'loglin', 'lowess', 'ls_diag', 'ls_print', 'lsfit', 'mad', 'mahalanobis', 'makeARIMA', 'make_link', 'make_tables_aovproj', 'make_tables_aovprojlist', 'makepredictcall', 'makepredictcall_default', 'makepredictcall_poly', 'manova', 'mantelhaen_test', 'mauchly_test', 'mauchly_test_SSD', 'mauchly_test_mlm', 'mcnemar_test', 'median', 'median_default', 'medpolish', 'merge_dendrogram', 'midcache_dendrogram', 'model_extract', 'model_frame', 'model_frame_aovlist', 'model_frame_default', 'model_frame_glm', 'model_frame_lm', 'model_matrix', 'model_matrix_default', 'model_matrix_lm', 'model_offset', 'model_response', 'model_tables', 'model_tables_aov', 'model_tables_aovlist', 'model_weights', 'monthplot', 'monthplot_StructTS', 'monthplot_default', 'monthplot_stl', 'monthplot_ts', 'mood_test', 'mood_test_default', 'mood_test_formula', 'mvfft', 'n_knots', 'na_action', 'na_action_default', 'na_contiguous', 'na_contiguous_default', 'na_exclude', 'na_exclude_data_frame', 'na_exclude_default', 'na_fail', 'na_fail_default', 'na_omit', 'na_omit_data_frame', 'na_omit_default', 'na_omit_ts', 'na_pass', 'napredict', 'napredict_default', 'napredict_exclude', 'naprint', 'naprint_default', 'naprint_exclude', 'naprint_omit', 'naresid', 'naresid_default', 'naresid_exclude', 'nextn', 'nleaves', 'nlm', 'nlminb', 'nls', 'nlsModel', 'nlsModel_plinear', 'nls_control', 'nls_port_fit', 'nobs', 'nobs_default', 'nobs_dendrogram', 'nobs_glm', 'nobs_lm', 'nobs_logLik', 'nobs_nls', 'numericDeriv', 'offset', 'oneway_test', 'optim', 'optimHess', 'optimise', 'optimize', 'order_dendrogram', 'p_adjust', 'p_adjust_methods', 'pacf', 'pacf_default', 'pairwise_prop_test', 'pairwise_t_test', 'pairwise_table', 'pairwise_wilcox_test', 'pbeta', 'pbinom', 'pbirthday', 'pcauchy', 'pchisq', 'pexp', 'pf', 'pgamma', 'pgeom', 'phyper', 'plclust', 'plnorm', 'plogis', 'plotNode', 'plotNodeLimit', 'plot_HoltWinters', 'plot_TukeyHSD', 'plot_acf', 'plot_decomposed_ts', 'plot_dendrogram', 'plot_density', 'plot_ecdf', 'plot_hclust', 'plot_isoreg', 'plot_lm', 'plot_medpolish', 'plot_mlm', 'plot_ppr', 'plot_prcomp', 'plot_princomp', 'plot_profile_nls', 'plot_spec', 'plot_spec_coherency', 'plot_spec_phase', 'plot_stepfun', 'plot_stl', 'plot_ts', 'plot_tskernel', 'pnbinom', 'pnorm', 'pointwise', 'poisson', 'poisson_test', 'poly', 'polym', 'port_cpos', 'port_get_named_v', 'port_msg', 'port_v_nms', 'power', 'power_anova_test', 'power_prop_test', 'power_t_test', 'ppoints', 'ppois', 'ppr', 'ppr_default', 'ppr_formula', 'prcomp', 'prcomp_default', 'prcomp_formula', 'predLoess', 'predict', 'predict_Arima', 'predict_HoltWinters', 'predict_StructTS', 'predict_ar', 'predict_arima0', 'predict_glm', 'predict_lm', 'predict_loess', 'predict_mlm', 'predict_nls', 'predict_poly', 'predict_ppr', 'predict_prcomp', 'predict_princomp', 'predict_smooth_spline', 'predict_smooth_spline_fit', 'preplot', 'princomp', 'princomp_default', 'princomp_formula', 'printCoefmat', 'print_Arima', 'print_HoltWinters', 'print_StructTS', 'print_TukeyHSD', 'print_acf', 'print_anova', 'print_aov', 'print_aovlist', 'print_ar', 'print_arima0', 'print_dendrogram', 'print_density', 'print_dist', 'print_dummy_coef', 'print_dummy_coef_list', 'print_ecdf', 'print_factanal', 'print_family', 'print_formula', 'print_ftable', 'print_glm', 'print_hclust', 'print_htest', 'print_infl', 'print_integrate', 'print_isoreg', 'print_kmeans', 'print_lm', 'print_loadings', 'print_loess', 'print_logLik', 'print_medpolish', 'print_mtable', 'print_nls', 'print_pairwise_htest', 'print_power_htest', 'print_ppr', 'print_prcomp', 'print_princomp', 'print_smooth_spline', 'print_stepfun', 'print_stl', 'print_summary_aov', 'print_summary_aovlist', 'print_summary_ecdf', 'print_summary_glm', 'print_summary_lm', 'print_summary_loess', 'print_summary_manova', 'print_summary_nls', 'print_summary_ppr', 'print_summary_prcomp', 'print_summary_princomp', 'print_tables_aov', 'print_terms', 'print_ts', 'print_tskernel', 'print_tukeyline', 'print_tukeysmooth', 'print_xtabs', 'profile', 'profile_nls', 'profiler', 'profiler_nls', 'proj', 'proj_aov', 'proj_aovlist', 'proj_default', 'proj_lm', 'proj_matrix', 'promax', 'prop_test', 'prop_trend_test', 'psignrank', 'pt', 'ptukey', 'punif', 'pweibull', 'pwilcox', 'qbeta', 'qbinom', 'qbirthday', 'qcauchy', 'qchisq', 'qexp', 'qf', 'qgamma', 'qgeom', 'qhyper', 'qlnorm', 'qlogis', 'qnbinom', 'qnorm', 'qpois', 'qqline', 'qqnorm', 'qqnorm_default', 'qqplot', 'qr_lm', 'qsignrank', 'qt', 'qtukey', 'quade_test', 'quade_test_default', 'quade_test_formula', 'quantile', 'quantile_POSIXt', 'quantile_default', 'quantile_ecdf', 'quasi', 'quasibinomial', 'quasipoisson', 'qunif', 'qweibull', 'qwilcox', 'r2dtable', 'rWishart', 'rbeta', 'rbinom', 'rcauchy', 'rchisq', 'read_ftable', 'rect_hclust', 'reformulate', 'regularize_values', 'relevel', 'relevel_default', 'relevel_factor', 'relevel_ordered', 'reorder', 'reorder_default', 'reorder_dendrogram', 'replications', 'reshape', 'resid', 'residuals', 'residuals_HoltWinters', 'residuals_default', 'residuals_glm', 'residuals_isoreg', 'residuals_lm', 'residuals_nls', 'residuals_smooth_spline', 'residuals_tukeyline', 'rev_dendrogram', 'rexp', 'rf', 'rgamma', 'rgeom', 'rhyper', 'rlnorm', 'rlogis', 'rmultinom', 'rnbinom', 'rnorm', 'rpois', 'rsignrank', 'rstandard', 'rstandard_glm', 'rstandard_lm', 'rstudent', 'rstudent_glm', 'rstudent_lm', 'rt', 'runif', 'runmed', 'rweibull', 'rwilcox', 'safe_pchisq', 'safe_pf', 'scatter_smooth', 'screeplot', 'screeplot_default', 'sd', 'se_aov', 'se_aovlist', 'se_contrast', 'se_contrast_aov', 'se_contrast_aovlist', 'selfStart', 'selfStart_default', 'selfStart_formula', 'setNames', 'shapiro_test', 'sigma', 'sigma_default', 'sigma_mlm', 'simpleLoess', 'simulate', 'simulate_lm', 'smooth', 'smoothEnds', 'smooth_spline', 'sortedXyData', 'sortedXyData_default', 'spec_ar', 'spec_pgram', 'spec_taper', 'spectrum', 'sphericity', 'spl_coef_conv', 'spline', 'splinefun', 'splinefunH', 'splinefunH0', 'start', 'start_default', 'stat_anova', 'step', 'stepfun', 'stl', 'str_dendrogram', 'str_logLik', 'summary_aov', 'summary_aovlist', 'summary_ecdf', 'summary_glm', 'summary_infl', 'summary_lm', 'summary_loess', 'summary_manova', 'summary_mlm', 'summary_nls', 'summary_ppr', 'summary_prcomp', 'summary_princomp', 'summary_stepfun', 'summary_stl', 'summary_tukeysmooth', 'supsmu', 'symnum', 't_test', 't_test_default', 't_test_formula', 't_ts', 'termplot', 'terms', 'terms_aovlist', 'terms_default', 'terms_formula', 'terms_terms', 'time', 'time_default', 'time_ts', 'toeplitz', 'ts', 'tsSmooth', 'tsSmooth_StructTS', 'ts_intersect', 'ts_plot', 'ts_union', 'tsdiag', 'tsdiag_Arima', 'tsdiag_StructTS', 'tsdiag_arima0', 'tsp', 'tsp<-', 'uniroot', 'update', 'update_default', 'update_formula', 'update_packageStatus', 'var', 'var_test', 'var_test_default', 'var_test_formula', 'variable_names', 'variable_names_default', 'variable_names_lm', 'varimax', 'vcov', 'vcov_Arima', 'vcov_aov', 'vcov_glm', 'vcov_lm', 'vcov_mlm', 'vcov_nls', 'vcov_summary_glm', 'vcov_summary_lm', 'weighted_mean', 'weighted_mean_Date', 'weighted_mean_POSIXct', 'weighted_mean_POSIXlt', 'weighted_mean_default', 'weighted_mean_difftime', 'weighted_residuals', 'weights', 'weights_default', 'weights_glm', 'weights_nls', 'wilcox_test', 'wilcox_test_default', 'wilcox_test_formula', 'window', 'window<-', 'window<-_ts', 'window_default', 'window_ts', 'write_ftable', 'xtabs']\n"
     ]
    }
   ],
   "source": [
    "stats = rpackages.importr('stats')\n",
    "\n",
    "print(dir(stats))"
   ]
  },
  {
   "cell_type": "markdown",
   "metadata": {},
   "source": [
    "Vamos executar um exemplo simples para testar a funcionalidade do pacote."
   ]
  },
  {
   "cell_type": "code",
   "execution_count": 6,
   "metadata": {},
   "outputs": [
    {
     "name": "stdout",
     "output_type": "stream",
     "text": [
      "Saída do teste:  \n",
      "\r\n",
      "\tOne Sample t-test\n",
      "\r\n",
      "\n",
      "\r\n",
      "data:  c(-0.36124603510891, 0.886426911223397, -2.72064692325395, -0.205653525718768, -0.668372982649449, -0.427041652262983, -2.0861242728176, -0.235828967724939, 0.803674420514163, -0.653058807435752, 1.63305145456474, 0.618161713096197, 2.18440916533393, 1.14307380226773, -1.22775780203751, 0.796369067899412, 0.689928407338701, -1.90061255410398, -0.856861924862767, -0.720743363466089, -0.678000851457706, 2.47082756899647, -0.488574911915142, -0.651937661684615, -0.61738540241758, -0.193107884594071, 0.863249698776862, -0.286737106486529, 0.659143146431642, -2.35700433562423, -0.331264506888943, 0.231563064725391, 0.0708204881854186, -1.42160088389467, -0.706388117369931, 1.23415636876345, -0.209386899851985, -0.372027650898218, -0.326921187203923, -0.361830270421082, 0.597966688749397, 1.91704767222636, 0.881520757057002, -1.33064054810551, -0.118334788461414, -0.716294127785249, 1.38435644529235, -1.97474195077388, 0.819397277585548, 0.105015945679018, -0.107692422161438, 0.784270393180051, 0.120938931728759, -0.969793313467056, -2.00151518562207, 0.560984368612209, -0.49834682153711, -0.401479651532686, 0.473656992445986, 1.50444356506217, -0.859357387323064, 1.59288992933374, -0.594509792254334, -0.729024803822899, 0.624564505361309, 0.477817266179122, -2.17330115876809, -1.58608330841775, -0.530203754107325, 1.99291955245081, -0.131932572616069, 0.612286867284855, -0.310134189173528, -0.161663687549706, -1.18691114058884, -0.846192685239853, 0.680535510953599, -1.23838683449437, 0.369853162116204, -0.515642328653506, 1.58330512398052, 1.33981616690381, -1.0081538558179, 0.689909880927972, 0.396514182241108, 0.0300156473114148, 0.259369297086839, -0.947372342157943, 0.417682777842545, -1.13126892664596, 1.8941878977008, 1.50485747521968, 0.0371044859487701, -0.368504273141281, -1.40592723936162, 2.05880313638259, -1.50972488347993, 1.40075818681367, 1.46421448910317, 0.0352299910705644)\n",
      "\r\n",
      "t = -0.31895, df = 99, p-value = 0.7504\n",
      "\r\n",
      "alternative hypothesis: true mean is not equal to 0\n",
      "\r\n",
      "95 percent confidence interval:\n",
      "\r\n",
      " -0.2543405  0.1838973\n",
      "\r\n",
      "sample estimates:\n",
      "\r\n",
      "  mean of x \n",
      "\r\n",
      "-0.03522161 \n",
      "\r\n",
      "\n",
      "\n"
     ]
    }
   ],
   "source": [
    "vetor = stats.rnorm(100)\n",
    "print(\"Saída do teste: \", stats.t_test(vetor, altenative = \"less\"))"
   ]
  }
 ],
 "metadata": {
  "kernelspec": {
   "display_name": "Python 3",
   "language": "python",
   "name": "python3"
  },
  "language_info": {
   "codemirror_mode": {
    "name": "ipython",
    "version": 3
   },
   "file_extension": ".py",
   "mimetype": "text/x-python",
   "name": "python",
   "nbconvert_exporter": "python",
   "pygments_lexer": "ipython3",
   "version": "3.7.1"
  }
 },
 "nbformat": 4,
 "nbformat_minor": 2
}
