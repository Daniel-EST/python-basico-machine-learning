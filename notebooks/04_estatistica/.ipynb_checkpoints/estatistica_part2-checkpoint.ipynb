{
 "cells": [
  {
   "cell_type": "markdown",
   "metadata": {},
   "source": [
    "# Estatística parte II"
   ]
  },
  {
   "cell_type": "markdown",
   "metadata": {},
   "source": [
    "# Amostra e População\n",
    "\n",
    "### Definição:\n",
    "\n",
    ">- População é o conjunto de todos os elementos ou resultados sob investigação. \n",
    ">- Amostra é qualquer subconjunto da população"
   ]
  },
  {
   "cell_type": "markdown",
   "metadata": {},
   "source": [
    "# Teste de Hipóteses\n",
    "\n",
    "### Motivação:\n",
    "\n",
    "Introduziremos a ideia de teste de hipóteses por meio de um exemplo \"não estatístico\".\n",
    "\n",
    "Suponha que ocorreu um cirme e o detetive responsável pela investigação suspeita do mordomo."
   ]
  },
  {
   "cell_type": "markdown",
   "metadata": {},
   "source": [
    ".                 | detetive (decisão) culpado | detetive (decisão) inocente\n",
    "------------------|------------------|------------------\n",
    "mordomo culpado  |     acerto       |    erro *tipo II*\n",
    "mordomo inocente  |   erro *tipo I*  |      acerto"
   ]
  },
  {
   "cell_type": "markdown",
   "metadata": {},
   "source": [
    "A primeira coisa que devemos ter clara é a afirmação (hipótese) a ser testada. Neste caso, o detetive deve testar a hipótese\n",
    ">- $H_0$: \"o mordomo é inocente\"\n",
    "\n",
    "A hipótese a ser testada é chamada de hipótese nula (geralmente, escolhemos como hipótese nula aquela que gostaríamos de rejeitar).\n",
    "\n",
    "Caso H0 seja rejeitado, consideramos que uma hipótese alternativa deve ser viável. Para este caso, temos como hipótese alternativa\n",
    ">- $H_1$: \"o mordome é culpado\"\n",
    "\n",
    "Independente das hipóteses, temos sempre duas formas de errar. Definindo assim dois tipos de erros:\n",
    "\n",
    ">- erro tipo I: rejeitar $H_0$ quando $H_0$ é verdadeiro.\n",
    ">- erro tipo II: não rejeitar $H_0$ quando $H_0$ é falso.\n",
    "\n",
    "No nosso exemplo, o **erro tipo I** seria o detetive concluir que o mordomo é *culpado* sendo na verdade *inocente* e o **erro tipo II** seria o detetive concluir que o mordomo é *inocente* quando na verdade é *culpado*."
   ]
  },
  {
   "cell_type": "markdown",
   "metadata": {},
   "source": [
    "O objetivo do **Teste de Hipóteses** é testar hipóteses sobre parâmetros populacionais ($p, μ, σ^2$), determinando se a hipótese nula ($H_0$) é provável que seja verdadeira com base nos dados de amostra. Caso tenha pouca evidência contra $H_0$, aceitamos $H_0$. Se a hipótese nula é improvável, com base nos dados, podemos rejeitar $H_0$ a favor da hipótese alternativa ($H_1$).\n",
    "\n",
    "$$\n",
    "H_0 \\text{ (hipótese nula) vs } H_1 \\text{ (hipótese alternativa)}.\n",
    "$$"
   ]
  },
  {
   "cell_type": "markdown",
   "metadata": {},
   "source": [
    "#### Nível de significância\n",
    "Definimos como Nível de significância de um teste (geralmente denotado pela letra grega α) a probabilidade do erro tipo 1, ou seja,\n",
    "\n",
    "$$\n",
    "α \\text{ = P(erro tipo 1) = P(rejeitar } H_0  | H_0 \\text{ é verdadeiro).}\n",
    "$$\n",
    "\n",
    "Em geral é escolhido um dos seguintes valores para α: 1%, 5% e 10%."
   ]
  },
  {
   "cell_type": "markdown",
   "metadata": {},
   "source": [
    "#### Valor p (p-valor)\n",
    "\n",
    "O p-valor é o menor valor que o nível de significância deve ter para o teste rejeitar $H_0$."
   ]
  },
  {
   "cell_type": "markdown",
   "metadata": {},
   "source": [
    "#### Poder do teste\n",
    "\n",
    "O Poder do teste tem como objetivo determinar o quanto um teste de hipótese controla o erro tipo II (geralmente o erro tipo II é denotado pela letra grega β). Assim,\n",
    "\n",
    "$$\n",
    "\\text{ Poder = 1 - β = 1 - P(não rejeitar } H_0|H_0 \\text{ é falso.}\n",
    "$$"
   ]
  },
  {
   "cell_type": "markdown",
   "metadata": {},
   "source": [
    "Definidos o erro tipo I ($α$) e o erro tipo II ($β$) o ideal seria minimizar os 2 tipos de erros, porém não é uma tarefa trivial, pois para diminuir a chance de um tipo de erro devemos mudar a nossa regra de decisão, o que automaticamente aumenta a chance de outro tipo de erro acontecer. Assim, no decorrer de nossos estudos sobre Teste de Hipóteses iremos controlar apenas o erro tipo I ($α$)."
   ]
  },
  {
   "cell_type": "markdown",
   "metadata": {},
   "source": [
    "## Teste de Hipósteses para uma população\n",
    "\n",
    "### Teste de Hipótese para média com variância desconhecida\n",
    "\n",
    "Seja $X_1, X_2, ..., X_n$ uma amostra aleatória de uma população normal com média μ e variância $σ^2$ desconhecidas. Suponha que queremos testar as seguintes hipóteses:\n",
    "\n",
    "$$\n",
    "H_0: μ = μ_0 \\\\\n",
    "\\text{vs} \\\\\n",
    "H_1: μ < μ_0 \\text{ ou } μ > μ_0 \\text{ ou } μ \\neq μ_0, \\text{ onde } μ_0 \\in \\mathbb{R}.\n",
    "$$"
   ]
  },
  {
   "cell_type": "markdown",
   "metadata": {},
   "source": [
    "Utilizaremos o **teste t** para verificar se a média da amostra é estatisticamente diferente da média populacional conhecida ou hipotética.\n",
    "\n",
    "Vamos executar um exemplo simples."
   ]
  },
  {
   "cell_type": "code",
   "execution_count": 1,
   "metadata": {},
   "outputs": [],
   "source": [
    "import numpy as np\n",
    "import scipy.stats as stats"
   ]
  },
  {
   "cell_type": "code",
   "execution_count": 2,
   "metadata": {},
   "outputs": [
    {
     "name": "stdout",
     "output_type": "stream",
     "text": [
      "[-0.6633772   2.65508967 -0.16426886 -0.31256017 -2.02567976  0.4140043\n",
      " -0.60313654 -0.14187143 -0.98695047 -1.61813483 -0.64933465 -0.13576387\n",
      " -1.2523542   0.84659248  0.01429853  0.24983534  1.09841236  1.59038663\n",
      "  0.36003183  0.19228469 -0.82953846  0.07584931  0.45317952  0.92191403\n",
      "  0.5281047   0.17389138  1.10368864  0.3937058  -0.55800116  0.95539891\n",
      " -2.41409875  1.53027701  0.95196047 -0.60394396 -0.11622954  0.77253012\n",
      "  1.40122642 -1.31647841  0.92536819  0.48030532  0.25210373 -0.28515743\n",
      "  1.59179143 -1.36586711 -1.01262066 -1.20886203 -0.67571568 -0.26257128\n",
      " -0.42080623  1.01202593 -1.79948199  0.64069641  0.07458277 -0.98565084\n",
      " -0.43622583 -0.12673014 -0.01058754 -0.09561055 -0.28663293  0.31768816\n",
      " -0.36456601  1.16375875  1.88198032 -0.42343744  0.57217672  1.06902957\n",
      "  0.59567946  0.05864887  0.11364137 -1.47991074 -0.09168768 -1.63345878\n",
      "  1.04332032 -1.49823488 -0.76261038  1.68369241 -0.60076322 -0.29739693\n",
      "  0.29596823  0.36562928 -1.38024681  1.71795824 -0.84854412 -0.91054961\n",
      " -1.00426604 -0.69498379 -1.3780346  -0.01317651  1.0581276   0.06820947\n",
      "  0.93494989  0.94852261  0.38883934  1.92854281 -0.24533702  0.16427565\n",
      "  1.4620435  -1.28551326 -2.83627128  0.50687506]\n"
     ]
    }
   ],
   "source": [
    "# Criando um vetor de tamanho 100 com distribuição normal\n",
    "vetor = np.random.normal(size = 100)\n",
    "\n",
    "print(vetor)"
   ]
  },
  {
   "cell_type": "markdown",
   "metadata": {},
   "source": [
    "Neste exemplo, queremos testar nossas seguintes hipóteses:\n",
    "\n",
    "$$\n",
    "H_0 = 0 \\text{ vs } H_1 \\neq 0\n",
    "$$\n",
    "\n",
    "Para realizar um teste teste t de uma amostra no python podemos usar a função ``stats.ttest_1samp()``:"
   ]
  },
  {
   "cell_type": "code",
   "execution_count": 3,
   "metadata": {},
   "outputs": [
    {
     "name": "stdout",
     "output_type": "stream",
     "text": [
      "Saída do teste:  Ttest_1sampResult(statistic=-0.10875711188013369, pvalue=0.913615272542448)\n"
     ]
    }
   ],
   "source": [
    "print(\"Saída do teste: \", stats.ttest_1samp(vetor, popmean = 0)) # popmean é o valor que queremos testar"
   ]
  },
  {
   "cell_type": "markdown",
   "metadata": {},
   "source": [
    "### Teste de Hipóteses utilizando o R no Python\n",
    "\n",
    "Como a função ``stats.ttest_1samp()`` permite apenas realizar teste bilateral e o teste de hipóteses no python não é muito informativo, utilizaremos o R através do Python para realizar nossos testes."
   ]
  },
  {
   "cell_type": "code",
   "execution_count": 4,
   "metadata": {},
   "outputs": [],
   "source": [
    "import rpy2.robjects.packages as rpackages"
   ]
  },
  {
   "cell_type": "markdown",
   "metadata": {},
   "source": [
    "**Salvaremos toda a biblioteca \"stats\" do R**\n",
    "\n",
    "O comando ``dir()``, a seguir, é interessante para saber quais são as funções que estão presentes. Usaremos ``len(dir())`` para saber quantas funções foram importadas do pacote stats do R."
   ]
  },
  {
   "cell_type": "code",
   "execution_count": 5,
   "metadata": {},
   "outputs": [
    {
     "name": "stdout",
     "output_type": "stream",
     "text": [
      "1144\n"
     ]
    }
   ],
   "source": [
    "stats = rpackages.importr('stats')\n",
    "\n",
    "print(len(dir(stats)))"
   ]
  },
  {
   "cell_type": "markdown",
   "metadata": {},
   "source": [
    "Vamos executar um exemplo simples similar ao anterior para testar a funcionalidade do pacote.\n",
    "\n",
    "Nossas seguintes hipóteses são:\n",
    "\n",
    "$$\n",
    "H_0 = 0 \\text{ vs } H_1 \\neq 0\n",
    "$$"
   ]
  },
  {
   "cell_type": "code",
   "execution_count": 6,
   "metadata": {
    "scrolled": true
   },
   "outputs": [
    {
     "name": "stdout",
     "output_type": "stream",
     "text": [
      "Saída do teste:  \n",
      "\r\n",
      "\tOne Sample t-test\n",
      "\r\n",
      "\n",
      "\r\n",
      "data:  c(-0.610974339687812, 1.14562790498605, -0.492385981691778, -1.01483471129105, 1.0916787131773, 0.932059530917895, -0.0484152041417524, -1.01986481007985, 0.447225700483876, -0.0896711822874532, 0.375099549352683, 0.974902233954429, 1.19763599482923, 0.255664190853298, -0.0289011364138974, 1.31612336639605, -0.12790919255655, -0.924249450154886, 1.193191589867, -0.0782801873751895, -0.157886780665913, -0.999823404674486, 0.598154823867902, -0.682434876473722, -1.20968347690269, -1.28675922796579, 2.14061750048681, 1.62225181273266, 0.230188695967308, 1.20662455023801, -0.575805975134584, 1.12148234138488, 0.715287409509881, 0.0427783060827249, -0.516606153390278, -1.32480504323359, -0.354070008398187, -0.898834158223542, 0.167596603123081, 0.462265345438818, -0.576287877139693, 1.32631779321677, 0.569789615078469, -1.5349150393328, 0.286299939705744, -1.68701297843994, -0.960042404094557, 0.842980261970266, -0.610363943567184, -1.30907480804182, 2.04857960557541, -0.603663254632244, 2.01257029245549, -0.00828091866324921, -0.567926387600517, 0.0515818822053482, 1.24347451238845, -1.13700349329983, 0.52489747489492, 0.276336900687245, -1.09542028059062, -0.189854965170912, -0.546092741286156, 0.808202941644636, -0.407122086526287, 0.0933539594660405, -1.31030866771458, -0.648943837258642, -0.595789777961701, 0.731526507784529, 0.30974539654366, 0.323958216597279, -0.651640515599402, -1.34591420584114, -1.63330746907642, -0.244026961511843, 1.21630269173706, 0.373518423004008, 0.741000827458995, 1.15860580457334, -1.60215469945104, -0.769510248721603, -0.135267077428404, 0.321020020688098, -1.68261371432485, -0.714872462514779, -2.03341341116675, -0.361605167614295, -0.250935033815956, -0.823985779576415, -0.318530273361873, -0.358282570037765, 0.57039672690734, 0.575022859453923, -0.242348360795851, 0.585039792611432, 0.091303092084056, 0.897137413527436, 2.46866873054323, -0.380167242168837)\n",
      "\r\n",
      "t = -0.22042, df = 99, p-value = 0.826\n",
      "\r\n",
      "alternative hypothesis: true mean is not equal to 0\n",
      "\r\n",
      "95 percent confidence interval:\n",
      "\r\n",
      " -0.2095238  0.1676281\n",
      "\r\n",
      "sample estimates:\n",
      "\r\n",
      "  mean of x \n",
      "\r\n",
      "-0.02094786 \n",
      "\r\n",
      "\n",
      "\n"
     ]
    }
   ],
   "source": [
    "vetor = stats.rnorm(100)\n",
    "\n",
    "print(\"Saída do teste: \", stats.t_test(vetor, mu=0)) # mu é o valor que queremos testar"
   ]
  },
  {
   "cell_type": "markdown",
   "metadata": {},
   "source": [
    "Se não indicar o parâmetro ``alt`` (hipótese alternativa), o R faz um teste bilateral. Para realizar um teste unilateral a direita devemos usar o parâmetro ``alt`` = \"greater\" e para um teste unilateral a esquerda deve-se usar alternative = \"less\"."
   ]
  },
  {
   "cell_type": "code",
   "execution_count": 7,
   "metadata": {
    "scrolled": true
   },
   "outputs": [
    {
     "name": "stdout",
     "output_type": "stream",
     "text": [
      "Saída do teste:  \n",
      "\n",
      "\tOne Sample t-test\n",
      "\n",
      "\n",
      "\n",
      "data:  c(-0.610974339687812, 1.14562790498605, -0.492385981691778, -1.01483471129105, 1.0916787131773, 0.932059530917895, -0.0484152041417524, -1.01986481007985, 0.447225700483876, -0.0896711822874532, 0.375099549352683, 0.974902233954429, 1.19763599482923, 0.255664190853298, -0.0289011364138974, 1.31612336639605, -0.12790919255655, -0.924249450154886, 1.193191589867, -0.0782801873751895, -0.157886780665913, -0.999823404674486, 0.598154823867902, -0.682434876473722, -1.20968347690269, -1.28675922796579, 2.14061750048681, 1.62225181273266, 0.230188695967308, 1.20662455023801, -0.575805975134584, 1.12148234138488, 0.715287409509881, 0.0427783060827249, -0.516606153390278, -1.32480504323359, -0.354070008398187, -0.898834158223542, 0.167596603123081, 0.462265345438818, -0.576287877139693, 1.32631779321677, 0.569789615078469, -1.5349150393328, 0.286299939705744, -1.68701297843994, -0.960042404094557, 0.842980261970266, -0.610363943567184, -1.30907480804182, 2.04857960557541, -0.603663254632244, 2.01257029245549, -0.00828091866324921, -0.567926387600517, 0.0515818822053482, 1.24347451238845, -1.13700349329983, 0.52489747489492, 0.276336900687245, -1.09542028059062, -0.189854965170912, -0.546092741286156, 0.808202941644636, -0.407122086526287, 0.0933539594660405, -1.31030866771458, -0.648943837258642, -0.595789777961701, 0.731526507784529, 0.30974539654366, 0.323958216597279, -0.651640515599402, -1.34591420584114, -1.63330746907642, -0.244026961511843, 1.21630269173706, 0.373518423004008, 0.741000827458995, 1.15860580457334, -1.60215469945104, -0.769510248721603, -0.135267077428404, 0.321020020688098, -1.68261371432485, -0.714872462514779, -2.03341341116675, -0.361605167614295, -0.250935033815956, -0.823985779576415, -0.318530273361873, -0.358282570037765, 0.57039672690734, 0.575022859453923, -0.242348360795851, 0.585039792611432, 0.091303092084056, 0.897137413527436, 2.46866873054323, -0.380167242168837)\n",
      "\n",
      "t = -0.22042, df = 99, p-value = 0.587\n",
      "\n",
      "alternative hypothesis: true mean is greater than 0\n",
      "\n",
      "95 percent confidence interval:\n",
      "\n",
      " -0.178748       Inf\n",
      "\n",
      "sample estimates:\n",
      "\n",
      "  mean of x \n",
      "\n",
      "-0.02094786 \n",
      "\n",
      "\n",
      "\n"
     ]
    }
   ],
   "source": [
    "teste_t = stats.t_test(vetor, mu=0, alt = \"greater\")\n",
    "\n",
    "print(\"Saída do teste: \", teste_t)"
   ]
  },
  {
   "cell_type": "markdown",
   "metadata": {},
   "source": [
    "A variável *teste_t* pode ser tratada como uma lista do python. Assim, por exemplo, para obter apenas o p-valor do teste, bastar buscar o elemento na posição 2 do objeto."
   ]
  },
  {
   "cell_type": "code",
   "execution_count": 8,
   "metadata": {
    "scrolled": true
   },
   "outputs": [
    {
     "name": "stdout",
     "output_type": "stream",
     "text": [
      "O p-valor obtido foi:  [1] 0.5869993\n",
      "\n"
     ]
    }
   ],
   "source": [
    "print(\"O p-valor obtido foi: \",teste_t[2])"
   ]
  },
  {
   "cell_type": "markdown",
   "metadata": {},
   "source": [
    "### Teste de hipótese para proporção populacional\n",
    "\n",
    "Seja $X_1, X_2,..., X_n$ uma amostra aleatória tal que\n",
    "\n",
    "$$\n",
    "X_i = \\left\\{ \\begin{array}{ll} 1 & \\text{,  se o i-ésimo elemento possui a característica de estudo } \\\\ 0 & \\hbox{,  caso contrário.} \\end{array} \\right.\n",
    "$$\n",
    "\n",
    "e seja $p \\in$ (0, 1) a proporção populacional da característica. Suponha que estamos interessados em testar as hipóteses\n",
    "\n",
    "$$\n",
    "H_0: p = p_0 \\\\\n",
    "\\text{vs} \\\\\n",
    "H_1: p < p_0 \\text{ ou } p > p_0 \\text{ ou } p \\neq p_0, \\text{ onde } p_0 \\in \\text{ (0, 1)}.\n",
    "$$"
   ]
  },
  {
   "cell_type": "markdown",
   "metadata": {},
   "source": [
    "## Referências"
   ]
  },
  {
   "cell_type": "markdown",
   "metadata": {},
   "source": [
    "[numpy.random.normal](https://docs.scipy.org/doc/numpy-1.13.0/reference/generated/numpy.random.normal.html)\n",
    "\n",
    "[scipy.stats.ttest_1samp](https://docs.scipy.org/doc/scipy/reference/generated/scipy.stats.ttest_1samp.html)\n",
    "\n",
    "[rpy2](https://rpy2.readthedocs.io/en/version_2.8.x/)\n",
    "\n",
    "MORETTIN, Pedro Alberto; BUSSAB, Wilton de Oliveira. Estatística básica. 6. ed. rev. atual. São Paulo: Saraiva, São Paulo: Saraiva, c2014."
   ]
  }
 ],
 "metadata": {
  "kernelspec": {
   "display_name": "Python 3",
   "language": "python",
   "name": "python3"
  },
  "language_info": {
   "codemirror_mode": {
    "name": "ipython",
    "version": 3
   },
   "file_extension": ".py",
   "mimetype": "text/x-python",
   "name": "python",
   "nbconvert_exporter": "python",
   "pygments_lexer": "ipython3",
   "version": "3.7.1"
  }
 },
 "nbformat": 4,
 "nbformat_minor": 2
}
