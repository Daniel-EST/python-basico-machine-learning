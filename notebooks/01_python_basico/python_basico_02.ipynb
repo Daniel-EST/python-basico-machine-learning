{
 "cells": [
  {
   "cell_type": "markdown",
   "metadata": {},
   "source": [
    "# Python básico - Caderno 02\n",
    "# Sintaxes, classes e importação de bibliotecas\n",
    "\n",
    "* Controle de Fluxo\n",
    "* For e While loops\n",
    "* Funções\n",
    "* Classes\n",
    "* Instalação e importação de bibliotecas\n",
    "* Estatísticas básicas"
   ]
  },
  {
   "cell_type": "markdown",
   "metadata": {},
   "source": [
    "## Controle de fluxo\n",
    "Nem sempre nosso código deve se comportar de maneira igual para todas as situações, as vezes precisamos controlar o fluxo de nossas operações em situações específicas e para isso podemos utilizar `if` e uma condição.  \n",
    "No caso da condição de `if` for satisfeita as proximas linhas identadas abaixo dele serão executadas, caso contrário não.\n",
    "    \n",
    "### Testando uma condição única."
   ]
  },
  {
   "cell_type": "code",
   "execution_count": 1,
   "metadata": {},
   "outputs": [
    {
     "name": "stdout",
     "output_type": "stream",
     "text": [
      "10 é menor que 30\n"
     ]
    }
   ],
   "source": [
    "if 10 < 30:\n",
    "    print('10 é menor que 30')"
   ]
  },
  {
   "cell_type": "code",
   "execution_count": 2,
   "metadata": {},
   "outputs": [],
   "source": [
    "if 10 > 30:\n",
    "    print('10 é menor que 30')"
   ]
  },
  {
   "cell_type": "code",
   "execution_count": 3,
   "metadata": {},
   "outputs": [
    {
     "name": "stdout",
     "output_type": "stream",
     "text": [
      "Verdade\n"
     ]
    }
   ],
   "source": [
    "verdade = True\n",
    "if verdade:\n",
    "    print('Verdade')"
   ]
  },
  {
   "cell_type": "code",
   "execution_count": 4,
   "metadata": {},
   "outputs": [],
   "source": [
    "verdade = True\n",
    "\n",
    "if not verdade:\n",
    "    print('Verdade')"
   ]
  },
  {
   "cell_type": "code",
   "execution_count": 5,
   "metadata": {},
   "outputs": [
    {
     "name": "stdout",
     "output_type": "stream",
     "text": [
      "Pelo menos um é verdade\n"
     ]
    }
   ],
   "source": [
    "if (7 < 3) | (5 > 1):\n",
    "    print('Pelo menos um é verdade')"
   ]
  },
  {
   "cell_type": "markdown",
   "metadata": {},
   "source": [
    "Podemos verificar se um valor esta em uma lista utilizando `in`."
   ]
  },
  {
   "cell_type": "code",
   "execution_count": 6,
   "metadata": {
    "scrolled": true
   },
   "outputs": [
    {
     "name": "stdout",
     "output_type": "stream",
     "text": [
      "Heavy Metal não é um genero musical nacional.\n"
     ]
    }
   ],
   "source": [
    "generos_musicais_brasileiros = ['pagode', 'bossa nova', 'mpb', 'samba', 'axe']\n",
    "genero_musical = 'heavy metal'\n",
    "\n",
    "if genero_musical in generos_musicais_brasileiros:\n",
    "    print(f'{genero_musical.title()} é um genero musical brasileiro.')\n",
    "    \n",
    "else:\n",
    "    print(f'{genero_musical.title()} não é um genero musical nacional.')"
   ]
  },
  {
   "cell_type": "code",
   "execution_count": 7,
   "metadata": {},
   "outputs": [
    {
     "name": "stdout",
     "output_type": "stream",
     "text": [
      "Axe é um genero musical brasileiro.\n"
     ]
    }
   ],
   "source": [
    "generos_musicais_brasileiros = ['pagode', 'bossa nova', 'mpb', 'samba', 'axe']\n",
    "genero_musical = 'axe'\n",
    "\n",
    "if genero_musical in generos_musicais_brasileiros:\n",
    "    print(f'{genero_musical.title()} é um genero musical brasileiro.')\n",
    "    \n",
    "else:\n",
    "    print(f'{genero_musical.title()} não é um genero musical nacional.')"
   ]
  },
  {
   "cell_type": "markdown",
   "metadata": {},
   "source": [
    "Podemos verificar se um valor não esta em uma lista utilizando `not in`."
   ]
  },
  {
   "cell_type": "code",
   "execution_count": 8,
   "metadata": {},
   "outputs": [
    {
     "name": "stdout",
     "output_type": "stream",
     "text": [
      "Dumbo não é um filme de heroi.\n"
     ]
    }
   ],
   "source": [
    "filmes_de_heroi = ['liga da justica',\n",
    "                'homem-aranha: no aranhaverso', \n",
    "                'incrivel hulk', \n",
    "                'vingadores: ultimato', \n",
    "                'vingadores: guerra infinita']\n",
    "\n",
    "filme = 'dumbo'\n",
    "\n",
    "if filme not in filmes_de_heroi:\n",
    "    print(f'{filme.title()} não é um filme de heroi.')\n",
    "    \n",
    "else:\n",
    "    print(f'{filme.title()} é um filme de heroi.')"
   ]
  },
  {
   "cell_type": "markdown",
   "metadata": {},
   "source": [
    "### Testando várias condições\n",
    "#### elif (else if)\n",
    "Quando precisamos testar mais de 2 situações podemos utilizar `elif` para lidar com essas condições.  \n",
    "Caso a condição anterior não seja satisfeita, a condição dada por `elif` será testada."
   ]
  },
  {
   "cell_type": "code",
   "execution_count": 9,
   "metadata": {},
   "outputs": [
    {
     "name": "stdout",
     "output_type": "stream",
     "text": [
      "Qual a sua idade?\n",
      "\t- 22\n",
      "Você paga completa!\n"
     ]
    }
   ],
   "source": [
    "idade = int(input('Qual a sua idade?\\n\\t- '))\n",
    "\n",
    "if idade < 4:\n",
    "    print('Você entra de graça!')\n",
    "\n",
    "elif (idade <= 21) | (idade >= 65):\n",
    "    print('Você paga meia entrada!')\n",
    "    \n",
    "else:\n",
    "    print('Você paga completa!')"
   ]
  },
  {
   "cell_type": "code",
   "execution_count": 10,
   "metadata": {},
   "outputs": [
    {
     "name": "stdout",
     "output_type": "stream",
     "text": [
      "Qual a sua idade?\n",
      "\t- 60\n",
      "Você paga completa!\n"
     ]
    }
   ],
   "source": [
    "idade = int(input('Qual a sua idade?\\n\\t- '))\n",
    "\n",
    "if idade < 4:\n",
    "    print('Você entra de graça!')\n",
    "\n",
    "elif idade <= 21:\n",
    "    print('Você paga meia entrada!')\n",
    "    \n",
    "elif idade < 65:\n",
    "    print('Você paga completa!')\n",
    "    \n",
    "else:\n",
    "    print('Você paga meia entrada!')"
   ]
  },
  {
   "cell_type": "markdown",
   "metadata": {},
   "source": [
    "## For e While loops\n",
    "Eventualmente precisaremos percorer um conjunto de dados ou ainda realizar algumas ações repetidamente de acordo com uma condição, nestes casos utilizaremos loops.\n",
    "\n",
    "### For\n",
    "O loop `for` é sempre finito e poderá percorrer listas, tuplas e dicionários."
   ]
  },
  {
   "cell_type": "code",
   "execution_count": 11,
   "metadata": {},
   "outputs": [
    {
     "name": "stdout",
     "output_type": "stream",
     "text": [
      "0\n",
      "1\n",
      "2\n",
      "3\n",
      "4\n",
      "5\n",
      "6\n",
      "7\n",
      "8\n",
      "9\n"
     ]
    }
   ],
   "source": [
    "for numero in range(0,10):\n",
    "    print(numero)"
   ]
  },
  {
   "cell_type": "code",
   "execution_count": 12,
   "metadata": {
    "scrolled": false
   },
   "outputs": [
    {
     "name": "stdout",
     "output_type": "stream",
     "text": [
      "a\n",
      "b\n",
      "c\n",
      "d\n",
      "e\n",
      "f\n",
      "g\n",
      "h\n",
      "i\n",
      "j\n"
     ]
    }
   ],
   "source": [
    "for letra in 'abcdefghij':\n",
    "    print(letra)"
   ]
  },
  {
   "cell_type": "markdown",
   "metadata": {},
   "source": [
    "#### Listas"
   ]
  },
  {
   "cell_type": "code",
   "execution_count": 13,
   "metadata": {
    "scrolled": true
   },
   "outputs": [
    {
     "name": "stdout",
     "output_type": "stream",
     "text": [
      "jan\n",
      "fev\n",
      "mar\n",
      "abr\n",
      "mai\n",
      "jun\n"
     ]
    }
   ],
   "source": [
    "meses = ['jan', 'fev', 'mar', 'abr', 'mai', 'jun']\n",
    "\n",
    "for mes in meses:\n",
    "    print(mes)"
   ]
  },
  {
   "cell_type": "code",
   "execution_count": 14,
   "metadata": {},
   "outputs": [
    {
     "name": "stdout",
     "output_type": "stream",
     "text": [
      "Você tem 3 anos logo, entra de graça!\n",
      "Você tem 5 anos logo, paga meia entrada!\n",
      "Você tem 60 anos logo, paga completa!\n",
      "Você tem 22 anos logo, paga completa!\n",
      "Você tem 41 anos logo, paga completa!\n",
      "Você tem 21 anos logo, paga meia entrada!\n",
      "Você tem 64 anos logo, paga completa!\n",
      "Você tem 30 anos logo, paga completa!\n"
     ]
    }
   ],
   "source": [
    "idades = [3, 5, 60, 22, 41, 21, 64, 30]\n",
    "\n",
    "for idade in idades:\n",
    "    if idade < 4:\n",
    "        print('Você tem %i anos logo, entra de graça!' % idade)\n",
    "\n",
    "    elif idade <= 21:\n",
    "        print('Você tem %i anos logo, paga meia entrada!' % idade)\n",
    "    \n",
    "    elif idade < 65:\n",
    "        print('Você tem %i anos logo, paga completa!' % idade)\n",
    "    \n",
    "    else:\n",
    "        print('Você paga tem %i anos logo, paga meia entrada!' % idade)"
   ]
  },
  {
   "cell_type": "markdown",
   "metadata": {},
   "source": [
    "#### Dicionários"
   ]
  },
  {
   "cell_type": "code",
   "execution_count": 15,
   "metadata": {},
   "outputs": [],
   "source": [
    "linguagens_favoritas = {\n",
    "    'daniel': 'python',\n",
    "    'luiz': 'r',\n",
    "    'lyncoln': 'python',\n",
    "    'joao':  'clojure',\n",
    "    'maria': 'js',\n",
    "    'ana': 'java',\n",
    "    'marcos': 'go',\n",
    "    'julia': 'julia'\n",
    "}"
   ]
  },
  {
   "cell_type": "markdown",
   "metadata": {},
   "source": [
    "O método `values` nos retorna os valores do dicionário, se desejamos iterar sob os valores das chaves basta utilizar este método."
   ]
  },
  {
   "cell_type": "code",
   "execution_count": 16,
   "metadata": {
    "scrolled": true
   },
   "outputs": [
    {
     "name": "stdout",
     "output_type": "stream",
     "text": [
      "As linguagens favoritas foram:\n",
      "\t- Python\n",
      "\t- R\n",
      "\t- Python\n",
      "\t- Clojure\n",
      "\t- Js\n",
      "\t- Java\n",
      "\t- Go\n",
      "\t- Julia\n"
     ]
    }
   ],
   "source": [
    "print('As linguagens favoritas foram:')\n",
    "for linguagens_favorita in linguagens_favoritas.values():\n",
    "    print('\\t- ' + linguagens_favorita.title())"
   ]
  },
  {
   "cell_type": "markdown",
   "metadata": {},
   "source": [
    "O método `keys` nos retorna as chaves do dicionário, se desejamos iterar sob chaves basta utilizar este método."
   ]
  },
  {
   "cell_type": "code",
   "execution_count": 17,
   "metadata": {},
   "outputs": [
    {
     "name": "stdout",
     "output_type": "stream",
     "text": [
      "As pessoas que participaram da pesquisa foram:\n",
      "\t- Daniel\n",
      "\t- Luiz\n",
      "\t- Lyncoln\n",
      "\t- Joao\n",
      "\t- Maria\n",
      "\t- Ana\n",
      "\t- Marcos\n",
      "\t- Julia\n"
     ]
    }
   ],
   "source": [
    "print('As pessoas que participaram da pesquisa foram:')\n",
    "for pessoa in linguagens_favoritas.keys():\n",
    "    print('\\t- ' + pessoa.title())"
   ]
  },
  {
   "cell_type": "code",
   "execution_count": 18,
   "metadata": {},
   "outputs": [
    {
     "name": "stdout",
     "output_type": "stream",
     "text": [
      "A linguagem de programação favorita de Daniel é Python.\n",
      "A linguagem de programação favorita de Luiz é R.\n",
      "A linguagem de programação favorita de Lyncoln é Python.\n",
      "A linguagem de programação favorita de Joao é Clojure.\n",
      "A linguagem de programação favorita de Maria é Js.\n",
      "A linguagem de programação favorita de Ana é Java.\n",
      "A linguagem de programação favorita de Marcos é Go.\n",
      "A linguagem de programação favorita de Julia é Julia.\n"
     ]
    }
   ],
   "source": [
    "for pessoa in linguagens_favoritas.keys():\n",
    "    print(f'A linguagem de programação favorita de {pessoa.title()} é {linguagens_favoritas[pessoa].title()}.')"
   ]
  },
  {
   "cell_type": "markdown",
   "metadata": {},
   "source": [
    "Um pouco difente dos demais, o método `items` nos retorna as chaves e valores do dicionário. Por isso devemos passar duas variáveis para receber ambos dentro do escopo do `for`. Sempre na ordem **chave - valor**."
   ]
  },
  {
   "cell_type": "code",
   "execution_count": 19,
   "metadata": {},
   "outputs": [
    {
     "name": "stdout",
     "output_type": "stream",
     "text": [
      "A linguagem de programação favorita de Daniel é Python.\n",
      "A linguagem de programação favorita de Luiz é R.\n",
      "A linguagem de programação favorita de Lyncoln é Python.\n",
      "A linguagem de programação favorita de Joao é Clojure.\n",
      "A linguagem de programação favorita de Maria é Js.\n",
      "A linguagem de programação favorita de Ana é Java.\n",
      "A linguagem de programação favorita de Marcos é Go.\n",
      "A linguagem de programação favorita de Julia é Julia.\n"
     ]
    }
   ],
   "source": [
    "for pessoa, linguagens_favoritas in linguagens_favoritas.items():\n",
    "    print(f'A linguagem de programação favorita de {pessoa.title()} é {linguagens_favoritas.title()}.')"
   ]
  },
  {
   "cell_type": "markdown",
   "metadata": {},
   "source": [
    "## While\n",
    "O loop `while` é realizado enquanto uma condição for satisfeita"
   ]
  },
  {
   "cell_type": "code",
   "execution_count": 20,
   "metadata": {
    "scrolled": true
   },
   "outputs": [
    {
     "name": "stdout",
     "output_type": "stream",
     "text": [
      "['gato', 'rato', 'macaco', 'elefante', 'leao']\n"
     ]
    }
   ],
   "source": [
    "# Removendo todas as ocorrências de um valor em uma lista\n",
    "animais = ['cachorro', 'gato', 'rato', 'macaco', 'cachorro', 'cachorro', 'elefante', 'leao']\n",
    "\n",
    "while 'cachorro' in animais:\n",
    "    animais.remove('cachorro')\n",
    "    \n",
    "print(animais)\n",
    "\n",
    "# Verifique que o méotdo `remove` foi realizado um número de vezes tal que necessário para que todas as ocorrências de\n",
    "# 'cachorro' fossem retiradas da lista origial."
   ]
  },
  {
   "cell_type": "markdown",
   "metadata": {},
   "source": [
    "Utilizando `break` para quebrar o ciclo"
   ]
  },
  {
   "cell_type": "code",
   "execution_count": 21,
   "metadata": {},
   "outputs": [
    {
     "name": "stdout",
     "output_type": "stream",
     "text": [
      "Digite seu nome para que eu possa te dar um oi!:\n",
      "(Entre com \"quit\" para sair da aplicacao)\n",
      "\n",
      "Luiz\n",
      "Olá, Luiz\n",
      "Digite seu nome para que eu possa te dar um oi!:\n",
      "(Entre com \"quit\" para sair da aplicacao)\n",
      "\n",
      "Lyncoln\n",
      "Olá, Lyncoln\n",
      "Digite seu nome para que eu possa te dar um oi!:\n",
      "(Entre com \"quit\" para sair da aplicacao)\n",
      "\n",
      "Fernanda\n",
      "Olá, Fernanda\n",
      "Digite seu nome para que eu possa te dar um oi!:\n",
      "(Entre com \"quit\" para sair da aplicacao)\n",
      "\n",
      "Daniel\n",
      "Olá, Daniel\n",
      "Digite seu nome para que eu possa te dar um oi!:\n",
      "(Entre com \"quit\" para sair da aplicacao)\n",
      "\n",
      "quit\n"
     ]
    }
   ],
   "source": [
    "# Saudando pessoas até que elas queiram sair do programa\n",
    "while True:\n",
    "    resposta = input('Digite seu nome para que eu possa te dar um oi!:\\n' + \n",
    "                    '(Entre com \"quit\" para sair da aplicacao)\\n\\n')\n",
    "    \n",
    "    if resposta.lower() == 'quit':\n",
    "        break\n",
    "    \n",
    "    # SE CAIR NA CONDIÇÃO DO `BREAK` AS LINHAS ABAIXO DESTE COMENTÁRIO NÃO SERÃO EXECUTADAS!!!\n",
    "    print('Olá, ' + resposta)"
   ]
  },
  {
   "cell_type": "markdown",
   "metadata": {},
   "source": [
    "Utilizando *flags* para quebrar ciclos.\n",
    "*Flags* são variáveis `booleanas` que controlam o fluxo."
   ]
  },
  {
   "cell_type": "code",
   "execution_count": 22,
   "metadata": {},
   "outputs": [
    {
     "name": "stdout",
     "output_type": "stream",
     "text": [
      "Digite seu nome para que eu possa te dar um oi!:\n",
      "(Entre com \"quit\" para sair da aplicacao)\n",
      "\n",
      "Amanda\n",
      "Olá, Amanda\n",
      "Digite seu nome para que eu possa te dar um oi!:\n",
      "(Entre com \"quit\" para sair da aplicacao)\n",
      "\n",
      "Carolina\n",
      "Olá, Carolina\n",
      "Digite seu nome para que eu possa te dar um oi!:\n",
      "(Entre com \"quit\" para sair da aplicacao)\n",
      "\n",
      "André\n",
      "Olá, André\n",
      "Digite seu nome para que eu possa te dar um oi!:\n",
      "(Entre com \"quit\" para sair da aplicacao)\n",
      "\n",
      "quit\n"
     ]
    }
   ],
   "source": [
    "continuar_execucao = True\n",
    "\n",
    "while continuar_execucao:\n",
    "    resposta = input('Digite seu nome para que eu possa te dar um oi!:\\n' + \n",
    "                     '(Entre com \"quit\" para sair da aplicacao)\\n\\n')\n",
    "        \n",
    "    if resposta.lower() != 'quit':\n",
    "        print('Olá, ' + resposta)\n",
    "        \n",
    "    else:\n",
    "        continuar_execucao = False"
   ]
  },
  {
   "cell_type": "markdown",
   "metadata": {},
   "source": [
    "Utilizando `continue` para reiniciar o ciclo."
   ]
  },
  {
   "cell_type": "code",
   "execution_count": 23,
   "metadata": {},
   "outputs": [
    {
     "name": "stdout",
     "output_type": "stream",
     "text": [
      "Digite seu nome para que eu possa te dar um oi!:\n",
      "(Entre com \"quit\" para sair da aplicacao)\n",
      "\n",
      "William\n",
      "Olá, William\n",
      "Digite seu nome para que eu possa te dar um oi!:\n",
      "(Entre com \"quit\" para sair da aplicacao)\n",
      "\n",
      "Ricardo\n",
      "Olá, Ricardo\n",
      "Digite seu nome para que eu possa te dar um oi!:\n",
      "(Entre com \"quit\" para sair da aplicacao)\n",
      "\n",
      "Alice\n",
      "Olá, Alice\n",
      "Digite seu nome para que eu possa te dar um oi!:\n",
      "(Entre com \"quit\" para sair da aplicacao)\n",
      "\n",
      "quit\n"
     ]
    }
   ],
   "source": [
    "while True:\n",
    "    resposta = input('Digite seu nome para que eu possa te dar um oi!:\\n' + \n",
    "                    '(Entre com \"quit\" para sair da aplicacao)\\n\\n')\n",
    "    \n",
    "    if resposta == '':\n",
    "        print('Digite um nome válido!')\n",
    "        continue\n",
    "    # SE O USUÁRIO APENAS PRECIONAR ENTER SEM ADICIONAR SEU NOME O CICLO REINICIARÁ E PEDIRA NOVAMENTE PARA QUE\n",
    "    # DIGITE SEU NOME.\n",
    "    \n",
    "    if resposta.lower() == 'quit':\n",
    "        break\n",
    "    \n",
    "    # SE CAIR NA CONDIÇÃO DO `BREAK` AS LINHAS ABAIXO DESTE COMENTÁRIO NÃO SERÃO EXECUTADAS!!!\n",
    "    print('Olá, ' + resposta)"
   ]
  },
  {
   "cell_type": "markdown",
   "metadata": {},
   "source": [
    "Utilizando `while` em listas"
   ]
  },
  {
   "cell_type": "code",
   "execution_count": 24,
   "metadata": {},
   "outputs": [
    {
     "name": "stdout",
     "output_type": "stream",
     "text": [
      "Homem De Ferro\n",
      "Hulk\n",
      "Homem Aranha\n",
      "Mulher Maravilha\n",
      "Batman\n",
      "[]\n"
     ]
    }
   ],
   "source": [
    "super_herois = ['batman', 'mulher maravilha', 'homem aranha', 'hulk', 'homem de ferro']\n",
    "\n",
    "while super_herois:\n",
    "    super_herois_atual = super_herois.pop()\n",
    "    print(super_herois_atual.title())\n",
    "    \n",
    "print(super_herois)"
   ]
  },
  {
   "cell_type": "markdown",
   "metadata": {},
   "source": [
    "## Funções\n",
    "def define o escopo de uma função, precisamos dar um nome para essa função e em seguida entre os () passar quais são os argumentos esperados que serão passados pelo o usuário\"    \n",
    "\n"
   ]
  },
  {
   "cell_type": "code",
   "execution_count": 25,
   "metadata": {
    "scrolled": true
   },
   "outputs": [
    {
     "name": "stdout",
     "output_type": "stream",
     "text": [
      "Olá, Mundo!\n"
     ]
    }
   ],
   "source": [
    "def ola_mundo():\n",
    "    print('Olá, Mundo!')\n",
    "    \n",
    "ola_mundo()"
   ]
  },
  {
   "cell_type": "code",
   "execution_count": 26,
   "metadata": {},
   "outputs": [
    {
     "name": "stdout",
     "output_type": "stream",
     "text": [
      "Olá, Raquel.\n"
     ]
    }
   ],
   "source": [
    "def sauda_usuario(usuario):\n",
    "    print('Olá, ' + usuario.title() + '.')\n",
    "\n",
    "sauda_usuario('raquel')"
   ]
  },
  {
   "cell_type": "code",
   "execution_count": 27,
   "metadata": {},
   "outputs": [
    {
     "data": {
      "text/plain": [
       "['Daniel', 'Igor', 'Carolina']"
      ]
     },
     "execution_count": 27,
     "metadata": {},
     "output_type": "execute_result"
    }
   ],
   "source": [
    "def formata_nomes(nomes):\n",
    "    lista_formatada = []\n",
    "    for nome in nomes:\n",
    "        lista_formatada.append(nome.title())\n",
    "        \n",
    "    return lista_formatada\n",
    "\n",
    "lista_nao_formatada = ['dAnIeL', 'iGoR', 'caRoLINA']\n",
    "\n",
    "lista_nao_formatada = formata_nomes(lista_nao_formatada)\n",
    "lista_nao_formatada"
   ]
  },
  {
   "cell_type": "code",
   "execution_count": 28,
   "metadata": {},
   "outputs": [
    {
     "data": {
      "text/plain": [
       "7"
      ]
     },
     "execution_count": 28,
     "metadata": {},
     "output_type": "execute_result"
    }
   ],
   "source": [
    "def soma(a, b):\n",
    "    return a + b\n",
    "\n",
    "soma(3, 4)"
   ]
  },
  {
   "cell_type": "markdown",
   "metadata": {},
   "source": [
    "## Classes\n",
    "Classes são a grande razão pela qual python é uma linguagem orientada a objetos. Linguagens orientadas a objetos foram idealizadas com o intuito de modelar a realidade em torno daquele objeto. A seguir, veremos como criar e definir métodos e valores para nossas classes."
   ]
  },
  {
   "cell_type": "code",
   "execution_count": 29,
   "metadata": {},
   "outputs": [],
   "source": [
    "class Cachorro:\n",
    "    def __init__(self, nome, idade, raca, sexo): # Contrutor\n",
    "        self.nome = nome   # Valor nome\n",
    "        self.idade = idade # Valor idade\n",
    "        self.raca = raca   # Valor raca\n",
    "        self.sexo = sexo   # Valor sexo\n",
    "        \n",
    "    def sentar(self):      # Método `sentar`\n",
    "        print(self.nome.title() + ' sentou.')\n",
    "        \n",
    "    def latir(self):       # Método `latir`\n",
    "        print('Au! Au!')\n",
    "        \n",
    "    def rolar(self):       # Método `rolar`\n",
    "        print(self.nome.title() + ' rolou.')\n",
    "        \n",
    "    def info(self):        # Método `info`\n",
    "        print('Este é %s um(a) %s da raca %s com %i anos!' % (self.nome.title(), \n",
    "                                                              self.sexo, \n",
    "                                                              self.raca , \n",
    "                                                              self.idade))"
   ]
  },
  {
   "cell_type": "markdown",
   "metadata": {},
   "source": [
    "O método `__init__` é um método especial, ele pode ser chamado de construtor. Ele receberá como argumentos as variáveis que julgamos necessárias para definir nosso objeto.\n",
    "Já o parâmetro `self` é usado para informar de que aquela referência é do próprio objeto."
   ]
  },
  {
   "cell_type": "code",
   "execution_count": 30,
   "metadata": {},
   "outputs": [
    {
     "name": "stdout",
     "output_type": "stream",
     "text": [
      "beck\n",
      "4\n",
      "vira-lata\n",
      "macho\n"
     ]
    }
   ],
   "source": [
    "cachorrinho_um = Cachorro('beck', 4, 'vira-lata', 'macho') # Aqui estamos instanciando nossoa classe em uma variável.\n",
    "print(cachorrinho_um.nome)\n",
    "print(cachorrinho_um.idade)\n",
    "print(cachorrinho_um.raca)\n",
    "print(cachorrinho_um.sexo)"
   ]
  },
  {
   "cell_type": "code",
   "execution_count": 31,
   "metadata": {},
   "outputs": [
    {
     "name": "stdout",
     "output_type": "stream",
     "text": [
      "Beck sentou.\n",
      "Au! Au!\n",
      "Este é Beck um(a) macho da raca vira-lata com 4 anos!\n"
     ]
    }
   ],
   "source": [
    "cachorrinho_um.sentar()\n",
    "cachorrinho_um.latir()\n",
    "cachorrinho_um.info()"
   ]
  },
  {
   "cell_type": "markdown",
   "metadata": {},
   "source": [
    "Agora veremos um exemplo um pouco mais robusto, estaremos modelando um carro que possui modelo, marca, cor e a quantidade de combustível gasto por km rodado."
   ]
  },
  {
   "cell_type": "code",
   "execution_count": 32,
   "metadata": {},
   "outputs": [],
   "source": [
    "class Carro:\n",
    "    def __init__(self, modelo, marca, cor, quilometros_por_combustivel):\n",
    "        self.modelo = modelo\n",
    "        self.marca = marca\n",
    "        self.cor = cor\n",
    "        self.quilometros_por_combustivel = quilometros_por_combustivel\n",
    "        self.km = 0\n",
    "        self.tanque = 0\n",
    "    \n",
    "    def encher_tanque(self):\n",
    "        self.tanque = 60\n",
    "        print('Pronto senhor(a), tanque cheio! Vai querer notinha?')\n",
    "        \n",
    "    def dirigir(self, km):\n",
    "        if km * self.quilometros_por_combustivel > self.tanque:\n",
    "            print('Você não tem combustível suficiente para viajar ' + str(km) +'Km.')\n",
    "        else:\n",
    "            self.km += km\n",
    "            self.tanque -= km * self.quilometros_por_combustivel\n",
    "            print('Você dirigiu por %iKm' % km)        "
   ]
  },
  {
   "cell_type": "code",
   "execution_count": 33,
   "metadata": {},
   "outputs": [
    {
     "data": {
      "text/plain": [
       "<__main__.Carro at 0x7f568466e310>"
      ]
     },
     "execution_count": 33,
     "metadata": {},
     "output_type": "execute_result"
    }
   ],
   "source": [
    "carro_um = Carro('WR STI', 'Subaru', 'Prata', 12)\n",
    "carro_um"
   ]
  },
  {
   "cell_type": "code",
   "execution_count": 34,
   "metadata": {},
   "outputs": [
    {
     "name": "stdout",
     "output_type": "stream",
     "text": [
      "Subaru\n",
      "WR STI\n"
     ]
    }
   ],
   "source": [
    "print(carro_um.marca)\n",
    "print(carro_um.modelo)"
   ]
  },
  {
   "cell_type": "code",
   "execution_count": 35,
   "metadata": {},
   "outputs": [
    {
     "name": "stdout",
     "output_type": "stream",
     "text": [
      "Você não tem combustível suficiente para viajar 1Km.\n",
      "0\n",
      "Pronto senhor(a), tanque cheio! Vai querer notinha?\n",
      "60\n",
      "Você dirigiu por 3Km\n",
      "24\n",
      "3\n"
     ]
    }
   ],
   "source": [
    "carro_um.dirigir(1)\n",
    "print(carro_um.tanque)\n",
    "carro_um.encher_tanque()\n",
    "print(carro_um.tanque)\n",
    "carro_um.dirigir(3)\n",
    "print(carro_um.tanque)\n",
    "print(carro_um.km)"
   ]
  },
  {
   "cell_type": "markdown",
   "metadata": {},
   "source": [
    "### Herança\n",
    "No exemplo anterior criamos a classe `Carro` que tenta simular a execução de um carro genérico. Entretanto, podemos pensar que existem outros tipos mais específicos de carros, como por exemplo os elétricos. Graças ao universo da orientação a objetos esse problema pode ser facilmente resolvido com o conceito de *Inheritance* ou herança. A classe filha `CarroEletetrico` irá herdar características da classe pai `Carro`."
   ]
  },
  {
   "cell_type": "code",
   "execution_count": 36,
   "metadata": {},
   "outputs": [],
   "source": [
    "class CarroEletrico(Carro):\n",
    "    def __init__(self, modelo, marca, cor, quilometros_por_combustivel, bateria):\n",
    "        super().__init__(modelo, marca, cor, quilometros_por_combustivel)\n",
    "        self.bateria = bateria\n",
    "    \n",
    "    def encher_tanque(self): # COMO CARROS ELÉTRICOS NÃO ENCHEM TANQUE UTILIZAMOS UM \"OVERRIDE\" SOBRESCREVEMOS UM MÉTODO\n",
    "                             # PARA QUE ELE ATENDA NOSSAS NECESSEDIDADES NA CLASSE FILHA\n",
    "        print('Carros eletricos nao enchem tanque...')"
   ]
  },
  {
   "cell_type": "code",
   "execution_count": 37,
   "metadata": {},
   "outputs": [
    {
     "data": {
      "text/plain": [
       "<__main__.CarroEletrico at 0x7f5684670c70>"
      ]
     },
     "execution_count": 37,
     "metadata": {},
     "output_type": "execute_result"
    }
   ],
   "source": [
    "carro_dois = CarroEletrico('model s', 'tesla', 'preto', 12, '75 kWh')\n",
    "carro_dois"
   ]
  },
  {
   "cell_type": "code",
   "execution_count": 38,
   "metadata": {},
   "outputs": [
    {
     "name": "stdout",
     "output_type": "stream",
     "text": [
      "Carros eletricos nao enchem tanque...\n"
     ]
    }
   ],
   "source": [
    "carro_dois.encher_tanque()"
   ]
  },
  {
   "cell_type": "code",
   "execution_count": 39,
   "metadata": {},
   "outputs": [
    {
     "data": {
      "text/plain": [
       "'75 kWh'"
      ]
     },
     "execution_count": 39,
     "metadata": {},
     "output_type": "execute_result"
    }
   ],
   "source": [
    "carro_dois.bateria"
   ]
  },
  {
   "cell_type": "markdown",
   "metadata": {},
   "source": [
    "# Instalação de bibliotecas"
   ]
  },
  {
   "cell_type": "markdown",
   "metadata": {},
   "source": [
    "## No windows e linux"
   ]
  },
  {
   "cell_type": "markdown",
   "metadata": {},
   "source": [
    "### Pelo cmd\n",
    "### Instalação e bibliotecas externas\n",
    "\n",
    "O `píp` é um repositório que guarda uma quantidade enorme de pacotes e módulos para utilizarmos em nossas aplicações.\n",
    "Se o Python estiver adicionado ao PATH digite no terminal do windows:  \n",
    "~~~\n",
    "$ pip --version\n",
    "~~~\n",
    "\n",
    "Caso seu pip esteja desatualizado utilize:\n",
    "\n",
    "~~~\n",
    "$ python -m pip install --upgrade pip\n",
    "~~~\n",
    "\n",
    "Para instalar algum pacote execute:\n",
    "\n",
    "~~~\n",
    "$ pip install \"nome do pacote\"\n",
    "~~~\n",
    "\n",
    "ou ainda\n",
    "\n",
    "~~~\n",
    "$ python -m pip install \"nome do pacote\"\n",
    "~~~"
   ]
  },
  {
   "cell_type": "markdown",
   "metadata": {},
   "source": [
    "## Pelo Anaconda"
   ]
  },
  {
   "cell_type": "markdown",
   "metadata": {},
   "source": [
    "Ao iniciar o Anaconda nos deparamos com a seguinte tela:\n",
    "![tela_0](img/anaconda_tut0.png)\n",
    "  \n",
    "No painel a esquerda selecione **Enviroments**\n",
    "![tela_1](img/anaconda_tut1.png)\n",
    "  \n",
    "Você será levado a tela de ambientes, agora iremos procurar pelo módulo que queremos instalar.  \n",
    "Para isso, troque o filtra de **Installed** para **Not installed** e faça a busca no campo adequado.\n",
    "![tela_2](img/anaconda_tut2.png)\n",
    "\n",
    "Neste exemplo estaremos installando o módulo **scrapy** que é uma ótima ferramenta para web scrapping no Python.\n",
    "![tela_3](img/anaconda_tut3.png)\n",
    "![tela_4](img/anaconda_tut4.png)\n",
    "![tela_5](img/anaconda_tut5.png)\n",
    "![tela_6](img/anaconda_tut6.png)"
   ]
  },
  {
   "cell_type": "markdown",
   "metadata": {},
   "source": [
    "Agora é só esperar o pacote terminar de ser baixado!"
   ]
  },
  {
   "cell_type": "markdown",
   "metadata": {},
   "source": [
    "# Importação"
   ]
  },
  {
   "cell_type": "markdown",
   "metadata": {},
   "source": [
    "Agora veremos as diferentes formas de importar módulos (os pacotes do python) para seu ambiente."
   ]
  },
  {
   "cell_type": "code",
   "execution_count": 40,
   "metadata": {},
   "outputs": [],
   "source": [
    "import numpy                        # Importa o módulo numpy\n",
    "import pandas as pd                 # Importa o módulo pandas com um alias pd\n",
    "import matplotlib.pyplot as plt     # Importa a classe pyplot dentro do pacote matplotlib com o alias plt\n",
    "from os import getcwd               # Importa apenas a função getcwd do módulo os\n",
    "from time import asctime as data    # Importa a penas a função asctime com o alias data \n",
    "from statistics import *            # Importa tudo que pertence ao módulo statistics"
   ]
  },
  {
   "cell_type": "markdown",
   "metadata": {},
   "source": [
    "**Alias é o \"apelido\" que o módulo terá no código, ou seja, apenas precisamos chamar o alias para referenciar o módulo**"
   ]
  },
  {
   "cell_type": "markdown",
   "metadata": {},
   "source": [
    "**Vejamos agora como cada forma de importação é utilizada!**"
   ]
  },
  {
   "cell_type": "markdown",
   "metadata": {},
   "source": [
    "Veja que o numpy foi importado utilizando `import numpy` dessa forma devemos sempre colocar o nome do módulo antes de utilizar os métodos e atributos que ele possui"
   ]
  },
  {
   "cell_type": "code",
   "execution_count": 41,
   "metadata": {},
   "outputs": [
    {
     "data": {
      "text/plain": [
       "array([-9.21770993e-01, -5.86317634e-01,  1.16399914e+00, -1.24172396e+00,\n",
       "       -1.98523022e+00,  1.30670891e+00,  7.37807059e-01,  3.79111282e-01,\n",
       "        9.89200864e-04, -1.10503482e+00])"
      ]
     },
     "execution_count": 41,
     "metadata": {},
     "output_type": "execute_result"
    }
   ],
   "source": [
    "numpy.random.seed(60)\n",
    "numpy.random.normal(0, 1, 10)       # Cria um array aleatório de tamanho 10 com distriuição normal mu = 0, sigma = 1."
   ]
  },
  {
   "cell_type": "markdown",
   "metadata": {},
   "source": [
    "Já em `from os import getcwd` apenas importamos a função `getcwd` do módulo os"
   ]
  },
  {
   "cell_type": "code",
   "execution_count": 42,
   "metadata": {},
   "outputs": [
    {
     "data": {
      "text/plain": [
       "'/home/daniel.dsantos/Documents/personal/git/python-basico/notebooks/01_python_basico'"
      ]
     },
     "execution_count": 42,
     "metadata": {},
     "output_type": "execute_result"
    }
   ],
   "source": [
    "getcwd()                            # Retorna o diretório atual do workspace."
   ]
  },
  {
   "cell_type": "markdown",
   "metadata": {},
   "source": [
    "Utilizando o comando `from time import asctime as data` importamos a função asctime do módulo time e adicionamos um _alias_ data utilizando a _keyword_ `as`."
   ]
  },
  {
   "cell_type": "code",
   "execution_count": 43,
   "metadata": {
    "scrolled": true
   },
   "outputs": [
    {
     "data": {
      "text/plain": [
       "'Wed Nov 13 10:39:42 2019'"
      ]
     },
     "execution_count": 43,
     "metadata": {},
     "output_type": "execute_result"
    }
   ],
   "source": [
    "data()                              # Retorna a data de hoje"
   ]
  },
  {
   "cell_type": "markdown",
   "metadata": {},
   "source": [
    "Ao utilizar `from statistics import *` estamos importando todas as funções e métodos pertencentes ao módulo statistics.\n",
    "Não é aconselhável utilizar já que o código perde semântica."
   ]
  },
  {
   "cell_type": "code",
   "execution_count": 44,
   "metadata": {},
   "outputs": [
    {
     "name": "stdout",
     "output_type": "stream",
     "text": [
      "9\n",
      "4.522366591633217\n",
      "10.5\n"
     ]
    }
   ],
   "source": [
    "numpy.random.seed(35)\n",
    "numbers = numpy.random.randint(1, 20, 30)\n",
    "\n",
    "print(mean(numbers))\n",
    "print(harmonic_mean(numbers))\n",
    "print(median(numbers))"
   ]
  },
  {
   "cell_type": "markdown",
   "metadata": {},
   "source": [
    "## Estatística Básica"
   ]
  },
  {
   "cell_type": "code",
   "execution_count": 45,
   "metadata": {},
   "outputs": [],
   "source": [
    "import statistics as stats"
   ]
  },
  {
   "cell_type": "code",
   "execution_count": 46,
   "metadata": {},
   "outputs": [],
   "source": [
    "numeros = [10, 22, 14, 12, 1, 2, 3, 5]"
   ]
  },
  {
   "cell_type": "markdown",
   "metadata": {},
   "source": [
    "### Médias"
   ]
  },
  {
   "cell_type": "markdown",
   "metadata": {},
   "source": [
    "#### Simples"
   ]
  },
  {
   "cell_type": "code",
   "execution_count": 47,
   "metadata": {},
   "outputs": [
    {
     "data": {
      "text/plain": [
       "8.625"
      ]
     },
     "execution_count": 47,
     "metadata": {},
     "output_type": "execute_result"
    }
   ],
   "source": [
    "stats.mean(numeros)"
   ]
  },
  {
   "cell_type": "markdown",
   "metadata": {},
   "source": [
    "#### Harmonica"
   ]
  },
  {
   "cell_type": "code",
   "execution_count": 48,
   "metadata": {},
   "outputs": [
    {
     "data": {
      "text/plain": [
       "3.428253408774696"
      ]
     },
     "execution_count": 48,
     "metadata": {},
     "output_type": "execute_result"
    }
   ],
   "source": [
    "stats.harmonic_mean(numeros)"
   ]
  },
  {
   "cell_type": "markdown",
   "metadata": {},
   "source": [
    "### Mediana"
   ]
  },
  {
   "cell_type": "code",
   "execution_count": 49,
   "metadata": {},
   "outputs": [
    {
     "data": {
      "text/plain": [
       "7.5"
      ]
     },
     "execution_count": 49,
     "metadata": {},
     "output_type": "execute_result"
    }
   ],
   "source": [
    "stats.median(numeros)"
   ]
  },
  {
   "cell_type": "markdown",
   "metadata": {},
   "source": [
    "### Variancia"
   ]
  },
  {
   "cell_type": "code",
   "execution_count": 50,
   "metadata": {},
   "outputs": [
    {
     "data": {
      "text/plain": [
       "52.55357142857143"
      ]
     },
     "execution_count": 50,
     "metadata": {},
     "output_type": "execute_result"
    }
   ],
   "source": [
    "stats.variance(numeros)"
   ]
  },
  {
   "cell_type": "markdown",
   "metadata": {},
   "source": [
    "### Desvio Padrão"
   ]
  },
  {
   "cell_type": "code",
   "execution_count": 51,
   "metadata": {},
   "outputs": [
    {
     "data": {
      "text/plain": [
       "7.249384210301688"
      ]
     },
     "execution_count": 51,
     "metadata": {},
     "output_type": "execute_result"
    }
   ],
   "source": [
    "stats.stdev(numeros)"
   ]
  },
  {
   "cell_type": "markdown",
   "metadata": {},
   "source": [
    "### Números Aleatórios"
   ]
  },
  {
   "cell_type": "code",
   "execution_count": 52,
   "metadata": {},
   "outputs": [],
   "source": [
    "import numpy as np"
   ]
  },
  {
   "cell_type": "markdown",
   "metadata": {},
   "source": [
    "#### Uniforme Discreta"
   ]
  },
  {
   "cell_type": "code",
   "execution_count": 53,
   "metadata": {},
   "outputs": [
    {
     "data": {
      "text/plain": [
       "array([5, 8, 3, 0, 4])"
      ]
     },
     "execution_count": 53,
     "metadata": {},
     "output_type": "execute_result"
    }
   ],
   "source": [
    "np.random.randint(0, 10, 5)"
   ]
  },
  {
   "cell_type": "markdown",
   "metadata": {},
   "source": [
    "#### Uniforme Contínua"
   ]
  },
  {
   "cell_type": "code",
   "execution_count": 54,
   "metadata": {
    "scrolled": true
   },
   "outputs": [
    {
     "data": {
      "text/plain": [
       "array([0.88161863, 0.17404628, 0.40295789, 0.83212654, 0.97866247])"
      ]
     },
     "execution_count": 54,
     "metadata": {},
     "output_type": "execute_result"
    }
   ],
   "source": [
    "np.random.uniform(0, 1, 5)"
   ]
  },
  {
   "cell_type": "markdown",
   "metadata": {},
   "source": [
    "#### Normal"
   ]
  },
  {
   "cell_type": "code",
   "execution_count": 55,
   "metadata": {
    "scrolled": true
   },
   "outputs": [
    {
     "data": {
      "text/plain": [
       "array([ 0.95554288,  0.30781478,  0.7328766 , -1.28670314, -1.03870027])"
      ]
     },
     "execution_count": 55,
     "metadata": {},
     "output_type": "execute_result"
    }
   ],
   "source": [
    "np.random.normal(0, 1, 5)"
   ]
  },
  {
   "cell_type": "markdown",
   "metadata": {},
   "source": [
    "#### Beta"
   ]
  },
  {
   "cell_type": "code",
   "execution_count": 56,
   "metadata": {
    "scrolled": false
   },
   "outputs": [
    {
     "data": {
      "text/plain": [
       "array([0.49022502, 0.10759798, 0.10514682, 0.24521349, 0.40738156])"
      ]
     },
     "execution_count": 56,
     "metadata": {},
     "output_type": "execute_result"
    }
   ],
   "source": [
    "np.random.beta(1, 2, 5)"
   ]
  },
  {
   "cell_type": "markdown",
   "metadata": {},
   "source": [
    "#### Exponencial"
   ]
  },
  {
   "cell_type": "code",
   "execution_count": 57,
   "metadata": {
    "scrolled": true
   },
   "outputs": [
    {
     "data": {
      "text/plain": [
       "array([0.38398559, 0.50496567, 4.35873831, 2.15541275, 1.85748264])"
      ]
     },
     "execution_count": 57,
     "metadata": {},
     "output_type": "execute_result"
    }
   ],
   "source": [
    "np.random.exponential(3, 5)"
   ]
  },
  {
   "cell_type": "markdown",
   "metadata": {},
   "source": [
    "#### Qui-quadrado"
   ]
  },
  {
   "cell_type": "code",
   "execution_count": 58,
   "metadata": {},
   "outputs": [
    {
     "data": {
      "text/plain": [
       "array([1.80651409, 3.80611123, 2.07244875, 4.89485665, 0.45362128])"
      ]
     },
     "execution_count": 58,
     "metadata": {},
     "output_type": "execute_result"
    }
   ],
   "source": [
    "np.random.chisquare(5, 5)"
   ]
  },
  {
   "cell_type": "markdown",
   "metadata": {},
   "source": [
    "# Referências\n",
    "MATTHES, Eric. **Python Crash Course: A Hands-On, Project-Based Introduction to Programming**. San Francisco: No Starch Press, 2016.  \n",
    "LUTZ, Mark. **Learning Python**. Estados Unidos: O'Reilly Media, 2013."
   ]
  }
 ],
 "metadata": {
  "kernelspec": {
   "display_name": "Python 3",
   "language": "python",
   "name": "python3"
  },
  "language_info": {
   "codemirror_mode": {
    "name": "ipython",
    "version": 3
   },
   "file_extension": ".py",
   "mimetype": "text/x-python",
   "name": "python",
   "nbconvert_exporter": "python",
   "pygments_lexer": "ipython3",
   "version": "3.8.0"
  }
 },
 "nbformat": 4,
 "nbformat_minor": 2
}
