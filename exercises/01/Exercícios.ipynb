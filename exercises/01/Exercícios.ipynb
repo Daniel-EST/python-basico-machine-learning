{
 "cells": [
  {
   "cell_type": "markdown",
   "metadata": {},
   "source": [
    "# Exercícios"
   ]
  },
  {
   "cell_type": "markdown",
   "metadata": {},
   "source": [
    "**I** - Faça um programa que pergunta o nome e a idade do usuario até que \"quit\" seja passado como nome do usuário. Salve todas as informações em um dicionário"
   ]
  },
  {
   "cell_type": "code",
   "execution_count": null,
   "metadata": {},
   "outputs": [],
   "source": []
  },
  {
   "cell_type": "markdown",
   "metadata": {},
   "source": [
    "**II** - Crie uma função que recebe como argumento um número ou palavra e verifica se ele é palindromo, ou seja, se lido ao contrário continua sendo o mesmo número/palavra.  \n",
    "**Dica**:  \n",
    "In[1]: list('abcdefg')  \n",
    "Out[2]: ['a', 'b', 'c', 'd', 'e', 'f', 'g']"
   ]
  },
  {
   "cell_type": "code",
   "execution_count": null,
   "metadata": {},
   "outputs": [],
   "source": []
  },
  {
   "cell_type": "markdown",
   "metadata": {},
   "source": [
    "**III** - Crie a classe `Calculadora` e a instancie. A calculadora deve possuir 4 métodos, um para cada operação básica."
   ]
  },
  {
   "cell_type": "code",
   "execution_count": null,
   "metadata": {},
   "outputs": [],
   "source": []
  },
  {
   "cell_type": "markdown",
   "metadata": {},
   "source": [
    "**IV** - Crie a classe `Animal`, esta classe deve possuir os seguintes atributos:\n",
    "* Número de patas\n",
    "* Rabo\n",
    "* Pêlos, penas ou escamas.\n",
    "* Vertabrado ou invertebrado.\n",
    "* Viviparos, oviparo ou ovoviviparos\n",
    "\n",
    "Além disso, a classe deve possuir um método que mostra um texto com todas as informações do animal."
   ]
  },
  {
   "cell_type": "code",
   "execution_count": null,
   "metadata": {},
   "outputs": [],
   "source": []
  },
  {
   "cell_type": "markdown",
   "metadata": {},
   "source": [
    "**V** - Crie a classe `Mamífero` herdeira da classe `Animal`, esta classe deve possuir atributos que caracterizem bem os mamíferos.\n",
    "\n",
    "Além disso, a classe deve possuir um método que mostra um texto com todas as informações do mamífero.  \n",
    "PS.: Adicione pelo menos mais 2 atributos."
   ]
  },
  {
   "cell_type": "code",
   "execution_count": null,
   "metadata": {},
   "outputs": [],
   "source": []
  },
  {
   "cell_type": "markdown",
   "metadata": {},
   "source": [
    "**VI** - Crie uma classe `Loja` com os seguintes atributos:\n",
    "* Nome\n",
    "* Especialização\n",
    "* Localização\n",
    "* Horário de funcionamento\n",
    "* Estoque\n",
    "* Limite do Estoque\n",
    "* Dinheiro\n",
    "\n",
    "Sua loja deve vender produtos, comprar estoque e lucrar. Além disto, crie métodos que recebam um inteiro retornar se o estabelecimento esta funcionando.\n",
    "Lembre-se que sua loja não pode estourar o limite de seu estoque."
   ]
  },
  {
   "cell_type": "code",
   "execution_count": null,
   "metadata": {},
   "outputs": [],
   "source": []
  },
  {
   "cell_type": "markdown",
   "metadata": {},
   "source": [
    "**VII** - Crie uma função que recebe um inteiro `n` e retorna a sequência de Fibonnacci até o n-ésimo termo."
   ]
  },
  {
   "cell_type": "code",
   "execution_count": null,
   "metadata": {},
   "outputs": [],
   "source": []
  },
  {
   "cell_type": "markdown",
   "metadata": {},
   "source": [
    "**BÔNUS** - Crie uma função que recebe um inteiro `n` e retorna uma tupla com todos os números primos até n."
   ]
  },
  {
   "cell_type": "markdown",
   "metadata": {},
   "source": []
  }
 ],
 "metadata": {
  "kernelspec": {
   "display_name": "Python 3",
   "language": "python",
   "name": "python3"
  },
  "language_info": {
   "codemirror_mode": {
    "name": "ipython",
    "version": 3
   },
   "file_extension": ".py",
   "mimetype": "text/x-python",
   "name": "python",
   "nbconvert_exporter": "python",
   "pygments_lexer": "ipython3",
   "version": "3.7.2"
  }
 },
 "nbformat": 4,
 "nbformat_minor": 2
}
