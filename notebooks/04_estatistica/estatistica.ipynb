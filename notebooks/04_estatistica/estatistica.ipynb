{
 "cells": [
  {
   "cell_type": "markdown",
   "metadata": {},
   "source": [
    "# Estatística no Python"
   ]
  },
  {
   "cell_type": "markdown",
   "metadata": {},
   "source": [
    "Importaremos os seguintes módulos para gerar variáveis aleatórias, fazer testes estatísticos e plotar gráficos, respectivamente."
   ]
  },
  {
   "cell_type": "code",
   "execution_count": 1,
   "metadata": {},
   "outputs": [],
   "source": [
    "import numpy as np\n",
    "import scipy.stats as sp\n",
    "import matplotlib.pyplot as plt"
   ]
  },
  {
   "cell_type": "markdown",
   "metadata": {},
   "source": [
    "## Normal"
   ]
  },
  {
   "cell_type": "markdown",
   "metadata": {},
   "source": [
    "Plotando o histograma de uma amostra aleatória de distribuição normal  $\\mu = 0$ e  $\\sigma = 1$ junto a sua curva de densidade."
   ]
  },
  {
   "cell_type": "code",
   "execution_count": 2,
   "metadata": {
    "scrolled": true
   },
   "outputs": [
    {
     "data": {
      "image/png": "[encoded data removed]",
      "text/plain": [
       "<Figure size 432x288 with 1 Axes>"
      ]
     },
     "metadata": {
      "needs_background": "light"
     },
     "output_type": "display_data"
    }
   ],
   "source": [
    "np.random.seed(30)\n",
    "sample = np.random.normal(0,1,1000)\n",
    "\n",
    "fig, ax = plt.subplots()\n",
    "\n",
    "n, bins, patches = ax.hist(sample, \n",
    "                           bins=70,\n",
    "                           density=1)\n",
    "\n",
    "y = ((1 / (np.sqrt(2 * np.pi) * 1)) *\n",
    "     np.exp(-0.5 * (1 / 1 * (bins - 0))**2)) # Densidade de uma normal 0,1\n",
    "\n",
    "ax.plot(bins, y, '--')\n",
    "ax.set_xlabel('Valores')\n",
    "ax.set_ylabel('Densidade')\n",
    "ax.set_title(r'Histograma: $\\mu=0$, $\\sigma=1$')\n",
    "\n",
    "fig.tight_layout()\n",
    "plt.show()"
   ]
  },
  {
   "cell_type": "markdown",
   "metadata": {},
   "source": [
    "Realizando teste shapiro para normalidade."
   ]
  },
  {
   "cell_type": "code",
   "execution_count": 3,
   "metadata": {},
   "outputs": [
    {
     "name": "stdout",
     "output_type": "stream",
     "text": [
      "Estatística de teste =  0.9988949298858643 \n",
      "P-valor =  0.8143659234046936\n"
     ]
    }
   ],
   "source": [
    "teste = sp.shapiro(sample)\n",
    "print(\"Estatística de teste = \", teste[0],\n",
    "    \"\\nP-valor = \", teste[1])"
   ]
  },
  {
   "cell_type": "markdown",
   "metadata": {},
   "source": [
    "Pelo P-valor não rejeitamos a hipótese nula, acreditamos que a amostra possua distribuição normal."
   ]
  },
  {
   "cell_type": "markdown",
   "metadata": {},
   "source": [
    "## Diferença de media de  duas populações com $\\sigma$ desconhecido"
   ]
  },
  {
   "cell_type": "markdown",
   "metadata": {},
   "source": [
    "Plotando o histograma de duas amostras aleatórias: $$X \\sim Exp(1)$$ $$Y \\sim \\chi_{3}$$ "
   ]
  },
  {
   "cell_type": "code",
   "execution_count": 4,
   "metadata": {
    "scrolled": true
   },
   "outputs": [
    {
     "data": {
      "image/png": "[encoded data removed]",
      "text/plain": [
       "<Figure size 432x288 with 1 Axes>"
      ]
     },
     "metadata": {
      "needs_background": "light"
     },
     "output_type": "display_data"
    }
   ],
   "source": [
    "np.random.seed(55)\n",
    "sample_exp = np.random.exponential(1,1000)\n",
    "sample_chisquare = np.random.chisquare(3, 1000)\n",
    "\n",
    "fig, ax = plt.subplots()\n",
    "\n",
    "n, bins, patches = ax.hist(sample_exp, \n",
    "                           bins=70,\n",
    "                           density=1)\n",
    "\n",
    "ax.hist(sample_chisquare, bins=70, alpha = 0.8)\n",
    "ax.hist(sample_exp, bins=70, alpha = 0.8)\n",
    "\n",
    "ax.set_title(r'Histogram')\n",
    "\n",
    "fig.tight_layout()\n",
    "plt.show()"
   ]
  },
  {
   "cell_type": "markdown",
   "metadata": {},
   "source": [
    "Calculando as médias das duas amostras"
   ]
  },
  {
   "cell_type": "code",
   "execution_count": 5,
   "metadata": {},
   "outputs": [
    {
     "name": "stdout",
     "output_type": "stream",
     "text": [
      "0.9431951231734232\n",
      "3.0787480893625068\n"
     ]
    }
   ],
   "source": [
    "print(sample_exp.mean())\n",
    "print(sample_chisquare.mean())"
   ]
  },
  {
   "cell_type": "markdown",
   "metadata": {},
   "source": [
    "Calculando as variâncias"
   ]
  },
  {
   "cell_type": "code",
   "execution_count": 6,
   "metadata": {
    "scrolled": true
   },
   "outputs": [
    {
     "name": "stdout",
     "output_type": "stream",
     "text": [
      "0.8710346860187191\n",
      "5.203648541667899\n"
     ]
    }
   ],
   "source": [
    "print(sample_exp.var())\n",
    "print(sample_chisquare.var())"
   ]
  },
  {
   "cell_type": "markdown",
   "metadata": {},
   "source": [
    "Relizando teste de hipótse para diferença de variâncias usando levene."
   ]
  },
  {
   "cell_type": "code",
   "execution_count": 7,
   "metadata": {},
   "outputs": [
    {
     "data": {
      "text/plain": [
       "LeveneResult(statistic=378.3349326832898, pvalue=2.5858781490335192e-77)"
      ]
     },
     "execution_count": 7,
     "metadata": {},
     "output_type": "execute_result"
    }
   ],
   "source": [
    "sp.levene(sample_exp, \n",
    "          sample_chisquare)"
   ]
  },
  {
   "cell_type": "markdown",
   "metadata": {},
   "source": [
    "Realizando teste de hipótese para diferença de médias e variâncias diferentes."
   ]
  },
  {
   "cell_type": "code",
   "execution_count": 8,
   "metadata": {},
   "outputs": [
    {
     "data": {
      "text/plain": [
       "Ttest_indResult(statistic=-27.38616834167642, pvalue=3.2894425804819373e-131)"
      ]
     },
     "execution_count": 8,
     "metadata": {},
     "output_type": "execute_result"
    }
   ],
   "source": [
    "sp.ttest_ind(sample_exp, \n",
    "             sample_chisquare, \n",
    "             equal_var=False)"
   ]
  },
  {
   "cell_type": "markdown",
   "metadata": {},
   "source": [
    "## ANOVA"
   ]
  },
  {
   "cell_type": "markdown",
   "metadata": {},
   "source": [
    "Por simplicidade, vamos considerar normalidade entre as populações, homocedasticidade e independência."
   ]
  },
  {
   "cell_type": "code",
   "execution_count": 9,
   "metadata": {},
   "outputs": [],
   "source": [
    "np.random.seed(30)\n",
    "sample_1 = np.random.normal(135,10,100)\n",
    "sample_2 = np.random.normal(175,10,100)\n",
    "sample_3 = np.random.normal(180,10,100)"
   ]
  },
  {
   "cell_type": "code",
   "execution_count": 10,
   "metadata": {},
   "outputs": [
    {
     "data": {
      "text/plain": [
       "F_onewayResult(statistic=652.6642893522652, pvalue=1.9894053610564208e-109)"
      ]
     },
     "execution_count": 10,
     "metadata": {},
     "output_type": "execute_result"
    }
   ],
   "source": [
    "sp.f_oneway(sample_1, \n",
    "            sample_2,\n",
    "            sample_3)"
   ]
  }
 ],
 "metadata": {
  "kernelspec": {
   "display_name": "Python 3",
   "language": "python",
   "name": "python3"
  },
  "language_info": {
   "codemirror_mode": {
    "name": "ipython",
    "version": 3
   },
   "file_extension": ".py",
   "mimetype": "text/x-python",
   "name": "python",
   "nbconvert_exporter": "python",
   "pygments_lexer": "ipython3",
   "version": "3.8.0"
  }
 },
 "nbformat": 4,
 "nbformat_minor": 2
}
